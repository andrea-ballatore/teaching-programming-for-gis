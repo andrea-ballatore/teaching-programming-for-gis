{
 "cells": [
  {
   "cell_type": "markdown",
   "metadata": {},
   "source": [
    "# Welcome to Jupyter!\n",
    "\n",
    "This is a notebook to test that your **Anaconda environment (geoprogv1)** is set up correctly.\n",
    "\n",
    "## Setup\n",
    "This is to check that your environment is set up correctly (it should print 'env ok')."
   ]
  },
  {
   "cell_type": "code",
   "execution_count": 1,
   "metadata": {},
   "outputs": [
    {
     "output_type": "stream",
     "name": "stdout",
     "text": [
      "env ok\n"
     ]
    }
   ],
   "source": [
    "# check environment\n",
    "import os\n",
    "if os.environ['CONDA_DEFAULT_ENV'] != 'geoprogv1':\n",
    "    raise Exception(\"Set the environment 'geoprogv1' on Anaconda. Currenct environment: \" + os.environ['CONDA_DEFAULT_ENV'])\n",
    "\n",
    "# spatial libraries\n",
    "import fiona as fi\n",
    "import geopandas\n",
    "import pandas as pd\n",
    "import pysal as sal\n",
    "import rasterio\n",
    "import rasterstats\n",
    "\n",
    "print('env ok')"
   ]
  },
  {
   "cell_type": "markdown",
   "metadata": {},
   "source": [
    "----\n",
    "## Basics of markdown\n",
    "\n",
    "Markdown is a language to write text.\n",
    "\n",
    "# This is a header level 1\n",
    "\n",
    "## This is a header level 2\n",
    "\n",
    "### This is a header level 3\n",
    "\n",
    "This is a **markdown cell**. \n",
    "Double click on this cell to see and edit the markdown.\n",
    "\n",
    "In markdown, you can make text **bold** or *italic*.\n",
    "\n",
    "When you are editing a cell, you can click on `Control + Enter` to execute it.\n",
    "\n",
    "You can also add links to websites, such as Anaconda (https://www.anaconda.com)\n",
    "\n",
    "When you select a code cell, you can execute it with the button `▶` or `Control + Enter`. "
   ]
  },
  {
   "cell_type": "code",
   "execution_count": 5,
   "metadata": {},
   "outputs": [
    {
     "output_type": "stream",
     "name": "stdout",
     "text": [
      "This is python code. Double click on this cell to edit the code.\n20\n"
     ]
    }
   ],
   "source": [
    "print(\"This is python code. Double click on this cell to edit the code.\")\n",
    "x = 10\n",
    "print(x * 2)"
   ]
  },
  {
   "source": [
    "## Input and output\n",
    "- A notebook is a fully-fledge work environment located in a directory.\n",
    "- You can see the local folder with `os.getcwd()` (get current working dir):"
   ],
   "cell_type": "markdown",
   "metadata": {}
  },
  {
   "cell_type": "code",
   "execution_count": 6,
   "metadata": {},
   "outputs": [
    {
     "output_type": "execute_result",
     "data": {
      "text/plain": [
       "'/Users/andreab/OneDrive - Birkbeck, University of London/OD_BBK/OD_Teaching/01 - Programming for GIS/python_tools/conda_environment_geoprogv1'"
      ]
     },
     "metadata": {},
     "execution_count": 6
    }
   ],
   "source": [
    "os.getcwd()"
   ]
  },
  {
   "source": [
    "- You should always work with **local paths** that start from this folder. \n",
    "- Never write **absolute paths** in your code.\n",
    "- If you want to refer to a local file, just use its path from the working directory. Read for example `condaenv_geoprogv1.yml`. This file is located in the current folder:"
   ],
   "cell_type": "markdown",
   "metadata": {}
  },
  {
   "cell_type": "code",
   "execution_count": 7,
   "metadata": {},
   "outputs": [
    {
     "output_type": "stream",
     "name": "stdout",
     "text": [
      "name: geoprogv1\nchannels:\n  - conda-forge\ndependencies:\n  - python=3.9\n  - cartopy\n  - gdal\n  - contextily\n  - dill\n  - geopandas\n  - jupyterlab\n  - geoplot\n  - pandana\n  - urbanaccess\n  - folium\n  - esda\n  - pysal\n  - rasterio\n  - rasterstats\n  - pointpats\n  - pandas\n  - spaghetti\n\n"
     ]
    }
   ],
   "source": [
    "f = open(\"condaenv_geoprogv1.yml\", \"r\")\n",
    "print(f.read())"
   ]
  },
  {
   "cell_type": "markdown",
   "metadata": {},
   "source": [
    "\n",
    "End of notebook.\n",
    "\n",
    "---"
   ]
  }
 ],
 "metadata": {
  "kernelspec": {
   "display_name": "Python 3",
   "language": "python",
   "name": "python3"
  },
  "language_info": {
   "codemirror_mode": {
    "name": "ipython",
    "version": 3
   },
   "file_extension": ".py",
   "mimetype": "text/x-python",
   "name": "python",
   "nbconvert_exporter": "python",
   "pygments_lexer": "ipython3",
   "version": "3.9.1-final"
  }
 },
 "nbformat": 4,
 "nbformat_minor": 4
}