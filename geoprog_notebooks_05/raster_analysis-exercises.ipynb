{
 "cells": [
  {
   "cell_type": "markdown",
   "metadata": {},
   "source": [
    "# Working with raster data and points: Exercises\n",
    "\n",
    "**Author**: Andrea Ballatore (Birkbeck, University of London)\n",
    "\n",
    "**Abstract**: Learn how to load, process, and save geospatial raster data using Python packages.\n",
    "\n",
    "## Setup\n",
    "This is to check that your environment is set up correctly (it should print 'env ok', ignore warnings)."
   ]
  },
  {
   "cell_type": "code",
   "execution_count": 3,
   "metadata": {},
   "outputs": [
    {
     "name": "stdout",
     "output_type": "stream",
     "text": [
      "Conda env: geoprogv1\n",
      "env ok\n"
     ]
    }
   ],
   "source": [
    "# check environment\n",
    "import os\n",
    "print(\"Conda env:\", os.environ['CONDA_DEFAULT_ENV'])\n",
    "assert os.environ['CONDA_DEFAULT_ENV'] == 'geoprogv1'\n",
    "# spatial libraries \n",
    "import fiona as fi\n",
    "import geopandas\n",
    "import pandas as pd\n",
    "import pysal as sal\n",
    "import geoplot\n",
    "import rasterio\n",
    "import rasterstats\n",
    "import numpy as np\n",
    "import matplotlib.pyplot as plt\n",
    "\n",
    "# create output folder\n",
    "if not os.path.exists('tmp'):\n",
    "    os.makedirs('tmp')\n",
    "\n",
    "print('env ok')"
   ]
  },
  {
   "cell_type": "markdown",
   "metadata": {},
   "source": [
    "-----\n",
    "## Exercises\n",
    "\n",
    "When you are in doubt about how a package or a function work, use the Python website (https://docs.python.org/3.9/) and **Google** to find relevant documentation. `rasterio` and `geopandas` are the main packages used in these exercises.\n",
    "\n",
    "Execute the notebook **raster_analysis-content.ipynb** before doing these exercises."
   ]
  },
  {
   "cell_type": "markdown",
   "metadata": {},
   "source": [
    "### a.\n",
    "This [dataset](https://github.com/andrea-ballatore/open-geo-data-education/tree/main/datasets/global_precipitation_1950_2017) contains rasters with global precipitation data from 1950 to 2017 in millimetres. Using for loops, retrieve the precipitation raster every 5 years from 1980 to 2015. \n",
    "For each raster, generate a plot reusing the `plot_raster` function (copy the function in this notebook) and print min,mean, and max values."
   ]
  },
  {
   "cell_type": "code",
   "execution_count": 1,
   "metadata": {},
   "outputs": [
    {
     "name": "stdout",
     "output_type": "stream",
     "text": [
      "https://github.com/andrea-ballatore/open-geo-data-education/blob/main/datasets/global_precipitation_1950_2017/rasters/precip_1950-total.asc?raw=true\n"
     ]
    }
   ],
   "source": [
    "# example url to retrieve 1950:\n",
    "year = 1950\n",
    "example1_url = 'https://github.com/andrea-ballatore/open-geo-data-education/blob/main/datasets/global_precipitation_1950_2017/rasters/precip_'+str(year)+'-total.asc?raw=true'\n",
    "print(example1_url)\n",
    "# enter your code here"
   ]
  },
  {
   "cell_type": "markdown",
   "metadata": {},
   "source": [
    "### b. \n",
    "Using a difference in map algebra, calculate and plot the difference raster between 1980, 1990, 2000, and 2010 (3 pairs). Use a `for` loop. Re-use the `plot_raster` function."
   ]
  },
  {
   "cell_type": "code",
   "execution_count": 11,
   "metadata": {},
   "outputs": [
    {
     "name": "stdout",
     "output_type": "stream",
     "text": [
      "1980 1990\n",
      "1990 2000\n",
      "2000 2010\n"
     ]
    }
   ],
   "source": [
    "years = [1980,1990,2000,2010]\n",
    "# loop over pairs of years\n",
    "for i in range(len(years)-1):\n",
    "    year1 = years[i]\n",
    "    year2 = years[i+1]\n",
    "    print(year1,year2)\n",
    "    # enter your code here"
   ]
  },
  {
   "cell_type": "markdown",
   "metadata": {},
   "source": [
    "### c. \n",
    "What is the total precipitation in each country in 2015? Using world boundaries, use zonal statistics to answer this question. For each country, calculate the min, max, mean, median, and total precipitation. Save the results in a CSV table with a row for each country and a column for each descriptive statistic. Note that the precipitation data is very coarse and the results might exhibit pretty large errors for small countries. Repeat the analysis for 1980: You should make very minimal changes to the code."
   ]
  },
  {
   "cell_type": "code",
   "execution_count": 14,
   "metadata": {},
   "outputs": [
    {
     "name": "stdout",
     "output_type": "stream",
     "text": [
      "tmp/precipitation_country_stats_2015.csv\n"
     ]
    }
   ],
   "source": [
    "year = 2015\n",
    "output_file = 'tmp/precipitation_country_stats_'+str(year)+'.csv'\n",
    "print(output_file)\n",
    "# enter your code here"
   ]
  },
  {
   "cell_type": "markdown",
   "metadata": {},
   "source": [
    "### d. \n",
    "\n",
    "Using `.rank()`, generate rankings for countries in terms of their precipitation (rank 1 corresponding to the wettest country). Show the top 10 driest and wettest countries in the world in 1980 and 2015. Can you notice many changes?"
   ]
  },
  {
   "cell_type": "code",
   "execution_count": 17,
   "metadata": {},
   "outputs": [
    {
     "name": "stdout",
     "output_type": "stream",
     "text": [
      "tmp/precipitation_country_stats_1980.csv\n",
      "tmp/precipitation_country_stats_2015.csv\n"
     ]
    }
   ],
   "source": [
    "# enter your code here\n",
    "years = [1980,2015]\n",
    "for year in years:\n",
    "    input_stats_file = 'tmp/precipitation_country_stats_'+str(year)+'.csv'\n",
    "    print(input_stats_file)\n",
    "    # load file and generate rankings"
   ]
  },
  {
   "cell_type": "markdown",
   "metadata": {},
   "source": [
    "### e. \n",
    "Using `urllib.request.urlretrieve`, download this dataset containing global airports. Load it into a geo data frame with `geopandas` and print how many rows it contains. Select a few attributes from it, including the airport name, airport IATA code, country code, elevation, and type."
   ]
  },
  {
   "cell_type": "code",
   "execution_count": 2,
   "metadata": {},
   "outputs": [],
   "source": [
    "airports_url = 'https://raw.githubusercontent.com/andrea-ballatore/open-geo-data-education/main/datasets/airports/airports_2020.geojson?raw=true'\n",
    "\n",
    "# enter your code here"
   ]
  },
  {
   "cell_type": "markdown",
   "metadata": {},
   "source": [
    "### f. \n",
    "Analyse the density of airports around in the world. First, using a 2D histogram with different numbers of bins (from 20 to 100). Do the analysis for all airports and just for large airports (`type=='large_airport'`)."
   ]
  },
  {
   "cell_type": "code",
   "execution_count": 15,
   "metadata": {},
   "outputs": [],
   "source": [
    "# insert your code here"
   ]
  },
  {
   "cell_type": "markdown",
   "metadata": {},
   "source": [
    "### g. \n",
    "Generate KDEs of airports for Britain and the US varying the bandwidth to three different values that capture the airport distribution in an appropriate way. Where are the densest areas in the world? Divide the analysis between all aiports and just large airports, minimising the code repetition."
   ]
  },
  {
   "cell_type": "code",
   "execution_count": 16,
   "metadata": {},
   "outputs": [],
   "source": [
    "# insert your code here"
   ]
  },
  {
   "cell_type": "markdown",
   "metadata": {},
   "source": [
    "End of notebook"
   ]
  }
 ],
 "metadata": {
  "kernelspec": {
   "display_name": "Python 3",
   "language": "python",
   "name": "python3"
  },
  "language_info": {
   "codemirror_mode": {
    "name": "ipython",
    "version": 3
   },
   "file_extension": ".py",
   "mimetype": "text/x-python",
   "name": "python",
   "nbconvert_exporter": "python",
   "pygments_lexer": "ipython3",
   "version": "3.9.1"
  }
 },
 "nbformat": 4,
 "nbformat_minor": 4
}
