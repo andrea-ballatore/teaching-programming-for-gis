{
 "cells": [
  {
   "cell_type": "markdown",
   "metadata": {},
   "source": [
    "# Python data types and variables\n",
    "\n",
    "**Author**: Andrea Ballatore (Birkbeck, University of London)\n",
    "\n",
    "**Abstract**: Learn about basic data types and how to create and use variables.\n",
    "\n",
    "## Setup\n",
    "This is to check that your environment is set up correctly (it should print 'env ok', ignore warnings)."
   ]
  },
  {
   "cell_type": "code",
   "execution_count": 1,
   "metadata": {},
   "outputs": [
    {
     "name": "stdout",
     "output_type": "stream",
     "text": [
      "Conda env: geoprogv1\n",
      "env ok\n"
     ]
    }
   ],
   "source": [
    "# Test geospatial libraries\n",
    "# check environment\n",
    "import os\n",
    "print(\"Conda env:\", os.environ['CONDA_DEFAULT_ENV'])\n",
    "if os.environ['CONDA_DEFAULT_ENV'] != 'geoprogv1':\n",
    "    raise Exception(\"Set the environment 'geoprogv1' on Anaconda. Current environment: \" + os.environ['CONDA_DEFAULT_ENV'])\n",
    "\n",
    "# spatial libraries \n",
    "import fiona as fi\n",
    "import geopandas\n",
    "import pandas as pd\n",
    "import pysal as sal\n",
    "\n",
    "print('env ok')"
   ]
  },
  {
   "cell_type": "markdown",
   "metadata": {},
   "source": [
    "----\n",
    "## Data types\n",
    "\n",
    "Python supports many types of data types, and these are the most common ones. You can print a value with `print()`. Execute each cell to see the results.\n",
    "\n",
    "### Integers"
   ]
  },
  {
   "cell_type": "code",
   "execution_count": 3,
   "metadata": {},
   "outputs": [
    {
     "name": "stdout",
     "output_type": "stream",
     "text": [
      "5\n",
      "22\n",
      "-384572\n"
     ]
    }
   ],
   "source": [
    "print(5)\n",
    "print(22)\n",
    "print(-384572)"
   ]
  },
  {
   "cell_type": "markdown",
   "metadata": {},
   "source": [
    "### Floating point numbers"
   ]
  },
  {
   "cell_type": "code",
   "execution_count": 4,
   "metadata": {},
   "outputs": [
    {
     "name": "stdout",
     "output_type": "stream",
     "text": [
      "0.5\n",
      "0.5\n",
      "12.34\n",
      "-23.1\n"
     ]
    }
   ],
   "source": [
    "print(0.5)\n",
    "print(.5)\n",
    "print(12.34)\n",
    "print(-23.1)"
   ]
  },
  {
   "cell_type": "markdown",
   "metadata": {},
   "source": [
    "Numbers can be manipulated like in a calculator with operations + - * /. Parentheses are used to specify the priority of the operations. `**` means _power_ ($x^y$)."
   ]
  },
  {
   "cell_type": "code",
   "execution_count": null,
   "metadata": {},
   "outputs": [],
   "source": []
  },
  {
   "cell_type": "code",
   "execution_count": 5,
   "metadata": {},
   "outputs": [
    {
     "name": "stdout",
     "output_type": "stream",
     "text": [
      "30\n",
      "20\n",
      "60\n",
      "3.3333333333333335\n",
      "10\n",
      "32\n"
     ]
    }
   ],
   "source": [
    "print(3*10)\n",
    "print(10+2*5)\n",
    "print((10+2)*5)\n",
    "print(10/3)\n",
    "print(2*5)\n",
    "print(2**5)\n"
   ]
  },
  {
   "cell_type": "markdown",
   "metadata": {},
   "source": [
    "### Strings\n",
    "A **string** is a sequence of characters, delimited by double or single quotes:"
   ]
  },
  {
   "cell_type": "code",
   "execution_count": 2,
   "metadata": {},
   "outputs": [
    {
     "name": "stdout",
     "output_type": "stream",
     "text": [
      "This is a string\n",
      "This is a string\n",
      "London\n",
      "Geographic Data Science is fun\n",
      "A string can contain any character, including %&^}{?><\n",
      "Other languages can be specified too: caffè français حبيبي_(توضيح)\n"
     ]
    }
   ],
   "source": [
    "print('This is a string')\n",
    "print(\"This is a string\")\n",
    "print(\"London\")\n",
    "print(\"Geographic Data Science is fun\")\n",
    "print(\"A string can contain any character, including %&^}{?><\")\n",
    "print(\"Other languages can be specified too: caffè français حبيبي_(توضيح)\")"
   ]
  },
  {
   "cell_type": "markdown",
   "metadata": {},
   "source": [
    "- Multi-line strings can be specified with three double quotes `\"\"\"`.\n",
    "- Internally, the string will have a `\\n` symbol to delimit the end of a line:"
   ]
  },
  {
   "cell_type": "code",
   "execution_count": 8,
   "metadata": {},
   "outputs": [
    {
     "data": {
      "text/plain": [
       "'This is \\na multi-line string.\\nIt can have multiple \\nlines.'"
      ]
     },
     "execution_count": 8,
     "metadata": {},
     "output_type": "execute_result"
    }
   ],
   "source": [
    "\"\"\"This is \n",
    "a multi-line string.\n",
    "It can have multiple \n",
    "lines.\"\"\""
   ]
  },
  {
   "cell_type": "markdown",
   "metadata": {},
   "source": [
    "### Booleans \n",
    "A **boolean** can only take two values: `True` or `False`. Booleans can be combined with `and`, `or` and `not` (this is called Boolean algebra and will be useful later):\n",
    "\n",
    "<img src=\"img/algebra1.png\" width=400/>"
   ]
  },
  {
   "cell_type": "code",
   "execution_count": 9,
   "metadata": {},
   "outputs": [
    {
     "name": "stdout",
     "output_type": "stream",
     "text": [
      "True\n",
      "False\n",
      "False\n",
      "True\n",
      "False\n",
      "True\n"
     ]
    }
   ],
   "source": [
    "print(True)\n",
    "print(False)\n",
    "print(True and False)\n",
    "print(True or False)\n",
    "print(not True)\n",
    "print(not False)"
   ]
  },
  {
   "cell_type": "markdown",
   "metadata": {},
   "source": [
    "### Comments \n",
    "In Python, you can specify **comments** that are useful to document the code, but will not be executed."
   ]
  },
  {
   "cell_type": "code",
   "execution_count": 12,
   "metadata": {},
   "outputs": [
    {
     "name": "stdout",
     "output_type": "stream",
     "text": [
      "This is printed\n",
      "This is printed too\n",
      "1.3333333333333333\n"
     ]
    }
   ],
   "source": [
    "# This is a comment and will not be printed.\n",
    "print('This is printed')\n",
    "# Comments are extremely useful and you should use them \n",
    "# to explain what you are doing in the code.\n",
    "print('This is printed too')\n",
    "\n",
    "# Usually comments are written BEFORE an instruction, not after:\n",
    "# Divide numbers:\n",
    "print(4/3)"
   ]
  },
  {
   "cell_type": "markdown",
   "metadata": {},
   "source": [
    "## Variables\n",
    "\n",
    "Variables are a core concept in all programming languages. A variable is a symbol referring to a value and it can be thought of as box with a label (name) and content (value). `x` and `y` are variable names, while `1` and `2` are their content:\n",
    "\n",
    "<img src=\"img/variable1.png\" alt=\"Variable\" width=\"400\"/>\n",
    "\n",
    "The value can change over time. A value can be **assigned** to a variable with `=`:"
   ]
  },
  {
   "cell_type": "code",
   "execution_count": 17,
   "metadata": {},
   "outputs": [
    {
     "name": "stdout",
     "output_type": "stream",
     "text": [
      "1\n",
      "2\n",
      "1 2\n",
      "value of z: 3\n"
     ]
    }
   ],
   "source": [
    "x = 1\n",
    "y = 2\n",
    "# nothing is printed. Now x and y have values, \n",
    "# which we can inspect with print:\n",
    "print(x)\n",
    "print(y)\n",
    "# we can also print two variables with a single print:\n",
    "print(x, y)\n",
    "# we can assign variables to other variables:\n",
    "z = x + y\n",
    "# let's print z with some text to make the output more readable:\n",
    "print('value of z:',z)"
   ]
  },
  {
   "cell_type": "markdown",
   "metadata": {},
   "source": [
    "Now variables `x`, `y`, and `z` are in memory and can be used again. Let's change the value of variables:\n"
   ]
  },
  {
   "cell_type": "code",
   "execution_count": 18,
   "metadata": {},
   "outputs": [
    {
     "name": "stdout",
     "output_type": "stream",
     "text": [
      "value of x: 1\n",
      "new value of x: 6\n",
      "6\n",
      "6\n",
      "7\n",
      "6\n",
      "7\n",
      "8\n"
     ]
    }
   ],
   "source": [
    "print('value of x:',x)\n",
    "x = 6  # this assignment overwrites the content of x with a new value\n",
    "print('new value of x:',x)\n",
    "\n",
    "# Note that printing a number does not create a variable!\n",
    "print(6) # nothing changes in memory\n",
    "x = 6 # a variable is created in memory\n",
    "print(x)\n",
    "\n",
    "# note that this instruction does not save the result anywhere!\n",
    "x + 1\n",
    "\n",
    "# if we want to save the result, we have to use a variable\n",
    "my_new_variable = x + 1\n",
    "\n",
    "# or we can just print the result if we do not need it later\n",
    "print(x + 1)\n",
    "\n",
    "# note that you can assign a variable to itself. This is a very common operation:\n",
    "print(x)\n",
    "x = x + 1 # this increases the current value by one\n",
    "print(x)\n",
    "x += 1 # the same operation in an abbreviated form\n",
    "print(x)"
   ]
  },
  {
   "cell_type": "markdown",
   "metadata": {},
   "source": [
    "It is important to understand how variables change in a programme. Printing variables is essential to inspect their value to make sure it is the expected one:\n"
   ]
  },
  {
   "cell_type": "code",
   "execution_count": 20,
   "metadata": {},
   "outputs": [
    {
     "name": "stdout",
     "output_type": "stream",
     "text": [
      "1\n",
      "10\n",
      "20\n"
     ]
    }
   ],
   "source": [
    "x = 1\n",
    "print(x)\n",
    "x = 10\n",
    "print(x)\n",
    "x = 20\n",
    "print(x)"
   ]
  },
  {
   "cell_type": "markdown",
   "metadata": {},
   "source": [
    "### Variable typing\n",
    "\n",
    "You can create variables with any value. Python understands automatically what the correct type is (**dynamic typing**):\n"
   ]
  },
  {
   "cell_type": "code",
   "execution_count": 23,
   "metadata": {},
   "outputs": [
    {
     "name": "stdout",
     "output_type": "stream",
     "text": [
      "<class 'int'>\n",
      "<class 'float'>\n",
      "<class 'str'>\n",
      "<class 'bool'>\n"
     ]
    },
    {
     "data": {
      "text/plain": [
       "2200.0"
      ]
     },
     "execution_count": 23,
     "metadata": {},
     "output_type": "execute_result"
    }
   ],
   "source": [
    "# some strings\n",
    "city = 'London'\n",
    "university = 'Birkbeck, University of London'\n",
    "\n",
    "# the function type allows you to see the current type of a variable:\n",
    "print(type(10))\n",
    "print(type(10.0))\n",
    "print(type('Monday'))\n",
    "print(type(True))\n",
    "\n",
    "# currency\n",
    "pound_to_euro_exchange_rate = 1.1\n",
    "my_pounds = 2000\n",
    "my_euros = pound_to_euro_exchange_rate * my_pounds\n",
    "\n",
    "# if we write the variable name at the end of a cell, \n",
    "# the notebook will show its value without having to say \"print\"\n",
    "my_euros"
   ]
  },
  {
   "cell_type": "markdown",
   "metadata": {},
   "source": [
    "### Naming variables\n",
    "\n",
    "- Giving good names to variables is very important to write clear and maintainable code.\n",
    "- For detailed discussion of Python naming conventions, see [this article](https://medium.com/@dasagrivamanu/python-naming-conventions-the-10-points-you-should-know-149a9aa9f8c7).\n",
    "- Python variable names **should**:\n",
    "  - be lowercase\n",
    "  - not contain spaces (use underscores `_` between words instead)\n",
    "  - be expressive and meaningful, but not too long\n",
    "  - not start with a number\n",
    "  - avoid overly generic terms, unless the context is very clear (`result`, `input`, `output`, `value`, etc.)\n",
    "  - avoid reserved keywords of the language (`for`, `int`, `float`, `def`, etc.)\n",
    "- Examples of **good variable names**:\n",
    "  - city_population     \n",
    "  - building_height_ft    \n",
    "  - path_length_m     \n",
    "  - district_name     \n",
    "  - highest_point_coords     \n",
    "  - reference_system_code\n",
    "  - district_crime_rate_2005      \n",
    "  - co2_density\n",
    "  - county_code \n",
    "  - unemployment_rate_2017\n",
    "- These are examples of possible, but bad variable names:\n",
    "  - total_unemployment_rate_of_east_of_england_in_june_2017\n",
    "  - Var1   \n",
    "  - myvar\n",
    "  - string   \n",
    "  - myint    \n",
    "  - CITYPOPULATION \n",
    "  - ROAD_width    \n",
    "  - DSCUR8      \n",
    "  - 9sdd"
   ]
  },
  {
   "cell_type": "markdown",
   "metadata": {},
   "source": [
    "### Comparing variables\n",
    "\n",
    "To understand how variables work in detail, it is useful to compare them. While `=` is used to assign values, `==` is used to compare two values. The comparison returns a boolean (`True` or `False`):"
   ]
  },
  {
   "cell_type": "code",
   "execution_count": 32,
   "metadata": {},
   "outputs": [
    {
     "name": "stdout",
     "output_type": "stream",
     "text": [
      "True\n",
      "False\n",
      "True\n",
      "False\n"
     ]
    }
   ],
   "source": [
    "city = 'London'\n",
    "print(city=='London')\n",
    "print(city=='Paris')\n",
    "\n",
    "year = 1950\n",
    "print(year==1950)\n",
    "print(year==1990)"
   ]
  },
  {
   "cell_type": "markdown",
   "metadata": {},
   "source": [
    "It is important to understand very well the difference between **variable names** and **strings**:"
   ]
  },
  {
   "cell_type": "code",
   "execution_count": 33,
   "metadata": {},
   "outputs": [
    {
     "name": "stdout",
     "output_type": "stream",
     "text": [
      "False\n",
      "True\n"
     ]
    }
   ],
   "source": [
    "year = 1950 # a variable called year\n",
    "\"year\" # just a string\n",
    "# False: year is a variable name, 'year' is just a string:\n",
    "print(year=='year') # False\n",
    "year='year' # assign string 'year' to variable string\n",
    "print(year=='year') # Now this is True "
   ]
  },
  {
   "cell_type": "markdown",
   "metadata": {},
   "source": [
    "You can compare string and numbers with several operators `>=` (greater or equal), `>` (greater):\n",
    "\n",
    "| Symbol | Operator |\n",
    "|----|---|\n",
    "| == | is equal |\n",
    "| !=  | is not equal to |\n",
    "| < | less than |\n",
    "| > | greater than |\n",
    "| <=  | less than or equal to |\n",
    "| >=  | greater than or equal to |"
   ]
  },
  {
   "cell_type": "code",
   "execution_count": 25,
   "metadata": {},
   "outputs": [
    {
     "name": "stdout",
     "output_type": "stream",
     "text": [
      "True\n",
      "False\n",
      "False\n",
      "True\n",
      "False\n"
     ]
    }
   ],
   "source": [
    "years = 10\n",
    "print(years >= 10) # True\n",
    "print(years > 10) # False\n",
    "print(years > 20) # False\n",
    "print(years < 20) # True\n",
    "print(years != 10) # False, it is equal to 10"
   ]
  },
  {
   "cell_type": "code",
   "execution_count": 27,
   "metadata": {},
   "outputs": [
    {
     "name": "stdout",
     "output_type": "stream",
     "text": [
      "comparing int and float\n",
      "True\n",
      "True\n",
      "False\n",
      "True\n",
      "True\n"
     ]
    }
   ],
   "source": [
    "# while it is possible to compare integers and floating points,\n",
    "# it is DANGEROUS:\n",
    "print('comparing int and float')\n",
    "print(10==10) # True, safe\n",
    "print(10==10.0) # Unsafe! There might be a tiny decimal part that makes the comparison false\n",
    "print(10==10.00000001) # False! This is hard to predict.\n",
    "print(10==10.000000000000000000000001) # True! This is hard to predict.\n",
    "print(10==round(10.0)) # True and safe. We transform the float into a integer before comparing it"
   ]
  },
  {
   "cell_type": "code",
   "execution_count": 26,
   "metadata": {},
   "outputs": [
    {
     "name": "stdout",
     "output_type": "stream",
     "text": [
      "comparing int and float\n",
      "True\n",
      "True\n",
      "False\n",
      "True\n",
      "True\n",
      "strings\n",
      "True\n",
      "False\n"
     ]
    }
   ],
   "source": [
    "# we can also compare strings according to the alphabetical order:\n",
    "print('strings')\n",
    "city = \"London\"\n",
    "print(city < 'Paris') # True (alphabetical order)\n",
    "print(city < 'Lagos') # False (alphabetical order)"
   ]
  },
  {
   "cell_type": "markdown",
   "metadata": {},
   "source": [
    "### Data type errors\n",
    "\n",
    "Data types can be confusing and can lead to errors. Take a look at strings and numbers:"
   ]
  },
  {
   "cell_type": "code",
   "execution_count": 32,
   "metadata": {},
   "outputs": [
    {
     "name": "stdout",
     "output_type": "stream",
     "text": [
      "20\n",
      "True\n",
      "False\n"
     ]
    }
   ],
   "source": [
    "print(x)\n",
    "x = 10\n",
    "print(x==10) # True: two integers\n",
    "print(x=='10') # False: a string is not a number"
   ]
  },
  {
   "cell_type": "code",
   "execution_count": 35,
   "metadata": {},
   "outputs": [
    {
     "name": "stdout",
     "output_type": "stream",
     "text": [
      "london\n",
      "True\n",
      "True\n",
      "False\n",
      "False\n",
      "False\n",
      "False\n",
      "london Lagos\n"
     ]
    }
   ],
   "source": [
    "y = 'london'\n",
    "print(y)\n",
    "print(y=='london') # True: identical\n",
    "print(y==\"london\") # True: identical\n",
    "print(y==\" london\") # False: spaces matter!\n",
    "print(y==\" london \") # False: spaces matter!\n",
    "print(y==\"London\") # False: case matters!\n",
    "print(y==\"LONDON\") # False: case matters!\n",
    "\n",
    "# variable names are also case-sensitive\n",
    "Y = 'Lagos'\n",
    "print(y, Y)"
   ]
  },
  {
   "cell_type": "markdown",
   "metadata": {},
   "source": [
    "### How to use None\n",
    "\n",
    "- In Python, `None` is equivalent to `null` in many languages. It means that the variable is **unknown**.\n",
    "- It is important to distinguish between `None`, `0` and the empty string (`''`):"
   ]
  },
  {
   "cell_type": "code",
   "execution_count": 39,
   "metadata": {},
   "outputs": [
    {
     "name": "stdout",
     "output_type": "stream",
     "text": [
      "True\n",
      "True\n",
      "False\n",
      "True\n",
      "False\n",
      "True\n",
      "False\n"
     ]
    }
   ],
   "source": [
    "population = None # population unknown\n",
    "print(population is None) # True\n",
    "print(population == None) # True\n",
    "print(population is not None) # False\n",
    "\n",
    "population = 0 # population zero\n",
    "print(population==0) # True\n",
    "print(population is None) # False\n",
    "print(population is not None) # True\n",
    "print(None == 0) # False"
   ]
  },
  {
   "cell_type": "code",
   "execution_count": 41,
   "metadata": {},
   "outputs": [
    {
     "name": "stdout",
     "output_type": "stream",
     "text": [
      "False\n"
     ]
    }
   ],
   "source": [
    "# strings\n",
    "print('' == None) # False, empty string is different to None\n",
    "\n",
    "# Temperature is 0 celsius\n",
    "temperature = 0\n",
    "# Temperature is unknown\n",
    "temperature = None\n",
    "# Note that these statements mean very different things!"
   ]
  },
  {
   "cell_type": "markdown",
   "metadata": {},
   "source": [
    "### Manipulating strings\n",
    "\n",
    "In Python, some symbols mean different things depending on context. \n",
    "`+` means addition when is used between two numbers, but it can also be used to *concatenate* strings:"
   ]
  },
  {
   "cell_type": "code",
   "execution_count": 42,
   "metadata": {},
   "outputs": [
    {
     "name": "stdout",
     "output_type": "stream",
     "text": [
      "GreaterLondon\n",
      "True\n",
      "Greater London\n",
      "True\n",
      "L\n",
      "o\n",
      "n\n"
     ]
    }
   ],
   "source": [
    "a = 'Greater'\n",
    "b = 'London'\n",
    "c = a + b # concatenate strings. The result is a new string\n",
    "print(c)\n",
    "print(c == 'GreaterLondon')\n",
    "\n",
    "c = a + ' ' + b # concatenate strings adding a space in between\n",
    "print(c)\n",
    "print(c == 'Greater London')\n",
    "\n",
    "# get individual characters.\n",
    "# Note that the index starts from 0 and not from 1:\n",
    "print(b[0]) # first character of b. \n",
    "print(b[1]) # second character of b\n",
    "print(b[2]) # third character of b"
   ]
  },
  {
   "cell_type": "markdown",
   "metadata": {},
   "source": [
    "## Data structures: lists\n",
    "\n",
    "Lists are important data structures in Python. \n",
    "Unlike a simple variable, a list can host a number of values that are ordered. \n",
    "Each element has an **index** that starts at 0 (and not 1!) and then increments. \n",
    "For example, this list `colors` contains three strings:\n",
    "\n",
    "<img src=\"img/list1.png\" alt=\"Variable\" width=\"400\"/>\n",
    "\n",
    "Elements are ordered, and can be accessed with the operator `[]`: `list[number]`.\n",
    "If the index is out of bounds, Python will raise an error:\n",
    "\n"
   ]
  },
  {
   "cell_type": "code",
   "execution_count": 44,
   "metadata": {},
   "outputs": [
    {
     "name": "stdout",
     "output_type": "stream",
     "text": [
      "['red', 'blue', 'green']\n",
      "red\n",
      "blue\n",
      "green\n",
      "3\n"
     ]
    }
   ],
   "source": [
    "colors = ['red','blue','green']\n",
    "print(colors) # print whole list\n",
    "\n",
    "print(colors[0]) # print first element\n",
    "print(colors[1]) # print second element\n",
    "print(colors[2]) # print third and last element\n",
    "\n",
    "# this would return an error because the fourth element does not exist!\n",
    "#print(colors[5])\n",
    "\n",
    "# see the length of the list (len):\n",
    "print(len(colors))"
   ]
  },
  {
   "cell_type": "markdown",
   "metadata": {},
   "source": [
    "### List operations\n",
    "Lists can contain any data type and support useful operations. Let us create lists of floating points and integers:"
   ]
  },
  {
   "cell_type": "code",
   "execution_count": 47,
   "metadata": {},
   "outputs": [
    {
     "name": "stdout",
     "output_type": "stream",
     "text": [
      "5.235\n",
      "-4.69\n"
     ]
    }
   ],
   "source": [
    "some_floats = [1.23, -0.444, 5.235, -4.69]\n",
    "# get the maximum number\n",
    "print(max(some_floats))\n",
    "# get the minimum number\n",
    "print(min(some_floats))"
   ]
  },
  {
   "cell_type": "code",
   "execution_count": 48,
   "metadata": {},
   "outputs": [
    {
     "name": "stdout",
     "output_type": "stream",
     "text": [
      "5\n",
      "[-10.34, -4.69, 5.235, -0.444, 1.23]\n",
      "[-10.34, -4.69, -0.444, 1.23, 5.235]\n"
     ]
    }
   ],
   "source": [
    "# add an element at the end\n",
    "some_floats.append(-10.34)\n",
    "# Note the syntax: object <dot> method: list.append()\n",
    "# now the list has 5 elements!\n",
    "print(len(some_floats))\n",
    "\n",
    "# invert the order of the list with reverse:\n",
    "some_floats.reverse()\n",
    "print(some_floats)\n",
    "\n",
    "# sort list\n",
    "ordered_floats = sorted(some_floats)\n",
    "print(ordered_floats)"
   ]
  },
  {
   "cell_type": "markdown",
   "metadata": {},
   "source": [
    "### The `random` package\n",
    "In data science, we often want to **sample or randomise a list**. For this purpose, you can use the `random` package.\n",
    "Note the `import` command that allows you to access functionality in a package that is not available in basic Python.\n",
    "The syntax `package.function(...)` is widely used in Python: \n"
   ]
  },
  {
   "cell_type": "code",
   "execution_count": 56,
   "metadata": {},
   "outputs": [
    {
     "name": "stdout",
     "output_type": "stream",
     "text": [
      "[4]\n",
      "[6, 2, 5, 1, 4, 3]\n"
     ]
    }
   ],
   "source": [
    "import random \n",
    "\n",
    "dice = [1,2,3,4,5,6] # simulate a dice\n",
    "\n",
    "# Select one value from the list randomly.\n",
    "# this simulates throwing a dice: \n",
    "rand_number = random.sample(dice, 1)\n",
    "print(rand_number)\n",
    "\n",
    "# shuffle the content of the list, changing its order randomly\n",
    "random.shuffle(dice)\n",
    "print(dice)\n",
    "\n",
    "# Run this cell again to see randomness in action!"
   ]
  },
  {
   "cell_type": "markdown",
   "metadata": {},
   "source": [
    "----\n",
    "## Errors and debugging\n",
    "\n",
    "- Most of the coding time is spent on **debugging**. While it is fairly easy to write code that runs without errors, it is a lot harder to write code that generates the expected results.\n",
    "- Code can be **syntatically correct** (it runs without errors) but **semantically incorrect** (it does not produce the expected results). Syntax errors are much easier to fix than semantic errors.\n",
    "- When we write code, it is important to do it **incrementally**. We write one line at a time, making sure that a line works before moving to the next one.\n",
    "\n",
    "<img src=\"img/coding_cycle1.png\" width=200 />\n",
    "\n",
    "- By default, Python instructions do not give feedback. This approach is called **no news, good news**. To see the internal details of a calculation we have to use `print`. Inspecting the value of variables is often the only way to find out why a piece of code does not work.\n",
    "- When in doubt, print, print, print!\n",
    "\n",
    "<img src=\"img/coding_errors1.png\" width=300 />\n",
    "\n",
    "- Python generates **errors** when something does not work. Always read these errors carefully. \n",
    "- While most errors are clear, some errors might not very useful to solve the problem at hand."
   ]
  },
  {
   "cell_type": "code",
   "execution_count": 60,
   "metadata": {},
   "outputs": [
    {
     "name": "stdout",
     "output_type": "stream",
     "text": [
      "25\n"
     ]
    }
   ],
   "source": [
    "# this will generate an error, unless variable age is defined:\n",
    "print(age)"
   ]
  },
  {
   "cell_type": "markdown",
   "metadata": {},
   "source": [
    "End of notebook"
   ]
  }
 ],
 "metadata": {
  "kernelspec": {
   "display_name": "Python 3",
   "language": "python",
   "name": "python3"
  },
  "language_info": {
   "codemirror_mode": {
    "name": "ipython",
    "version": 3
   },
   "file_extension": ".py",
   "mimetype": "text/x-python",
   "name": "python",
   "nbconvert_exporter": "python",
   "pygments_lexer": "ipython3",
   "version": "3.9.1"
  },
  "toc-autonumbering": false
 },
 "nbformat": 4,
 "nbformat_minor": 4
}
