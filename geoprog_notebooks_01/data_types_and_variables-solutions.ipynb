{
 "cells": [
  {
   "cell_type": "markdown",
   "metadata": {},
   "source": [
    "# Python data types and variables: Exercise solutions\n",
    "\n",
    "**Author**: Andrea Ballatore (Birkbeck, University of London) with contributions from students\n",
    "\n",
    "**Abstract**: Learn about basic data types and how to create and use variables.\n",
    "\n",
    "## Setup\n",
    "This is to check that your environment is set up correctly (it should print 'env ok', ignore warnings)."
   ]
  },
  {
   "cell_type": "code",
   "execution_count": 3,
   "metadata": {},
   "outputs": [
    {
     "name": "stdout",
     "output_type": "stream",
     "text": [
      "Conda env: geoprogv1\n",
      "env ok\n"
     ]
    }
   ],
   "source": [
    "# Test geospatial libraries\n",
    "# check environment\n",
    "import os\n",
    "print(\"Conda env:\", os.environ['CONDA_DEFAULT_ENV'])\n",
    "assert os.environ['CONDA_DEFAULT_ENV'] == 'geoprogv1'\n",
    "# spatial libraries \n",
    "import fiona as fi\n",
    "import geopandas as gpd\n",
    "import pandas as pd\n",
    "import pysal as sal\n",
    "\n",
    "print('env ok')"
   ]
  },
  {
   "cell_type": "markdown",
   "metadata": {},
   "source": [
    "----\n",
    "## Exercises"
   ]
  },
  {
   "cell_type": "markdown",
   "metadata": {},
   "source": [
    "When you are in doubt about how a package or a function works, use the Python website (https://docs.python.org/3.9) and **Google** to find relevant documentation.\n",
    "\n",
    "----\n",
    "a. Create a list of strings containing the names of 7 cities of your choice. Shuffle them, print them, sort them alphabetically, and then print them again."
   ]
  },
  {
   "cell_type": "code",
   "execution_count": 4,
   "metadata": {},
   "outputs": [
    {
     "name": "stdout",
     "output_type": "stream",
     "text": [
      "['Lisbon', 'Rome', 'Sydney', 'Hanoi', 'Paris', 'Lagos', 'New York']\n",
      "['Lagos', 'New York', 'Rome', 'Hanoi', 'Lisbon', 'Paris', 'Sydney']\n",
      "['Hanoi', 'Lagos', 'Lisbon', 'New York', 'Paris', 'Rome', 'Sydney']\n"
     ]
    }
   ],
   "source": [
    "import random\n",
    "\n",
    "cities = ['Lisbon','Rome','Sydney','Hanoi','Paris','Lagos','New York']\n",
    "print(cities)\n",
    "\n",
    "random.shuffle(cities)\n",
    "print(cities)\n",
    "\n",
    "ordered_cities = sorted(cities)\n",
    "print(ordered_cities)"
   ]
  },
  {
   "cell_type": "markdown",
   "metadata": {},
   "source": [
    "b. Write code to calculate the area of a hexagon given its side `a`. The square root can be calculated with `math.sqrt()`. Save the result in a variable and print it."
   ]
  },
  {
   "cell_type": "code",
   "execution_count": 7,
   "metadata": {},
   "outputs": [
    {
     "name": "stdout",
     "output_type": "stream",
     "text": [
      "1.7320508075688772\n",
      "Side length 10 ==> hex area: 259.8076211353316\n"
     ]
    }
   ],
   "source": [
    "import math\n",
    "a = 10\n",
    "print(math.sqrt(3)) # example of square root of 3\n",
    "\n",
    "# note the parentheses\n",
    "hex_area = (3 * math.sqrt(3) * a**2)/2\n",
    "\n",
    "print(\"Side length\", a, \"==> hex area:\", hex_area)"
   ]
  },
  {
   "cell_type": "markdown",
   "metadata": {},
   "source": [
    "c. Given a variable containing the radius of a circle (`radius`), calculate and print its area and perimeter. \n",
    "Save those results in variables before printing them. Note that `math.pi` contains a good approximation of $\\pi$."
   ]
  },
  {
   "cell_type": "code",
   "execution_count": 18,
   "metadata": {},
   "outputs": [
    {
     "name": "stdout",
     "output_type": "stream",
     "text": [
      "radius = 5 area = 78.53981633974483 perimeter = 31.41592653589793\n"
     ]
    }
   ],
   "source": [
    "import math\n",
    "\n",
    "radius = 5\n",
    "\n",
    "# Area A = pi r^2\n",
    "# Perimeter C = 2 pi r\n",
    "\n",
    "circle_area = math.pi * radius**2\n",
    "circle_perimeter = 2 * math.pi * radius\n",
    "\n",
    "print(\"radius =\", radius, \"area =\", circle_area, \"perimeter =\", circle_perimeter)"
   ]
  },
  {
   "cell_type": "markdown",
   "metadata": {},
   "source": [
    "d. Create two lists `lat` and `lon` of floating point numbers and store 5 pairs of coordinates. Get 5 coordinates from [this website](https://www.latlong.net/). Find the maximum and minimum lat/lon and print them with a clear description.\n"
   ]
  },
  {
   "cell_type": "code",
   "execution_count": 19,
   "metadata": {},
   "outputs": [
    {
     "name": "stdout",
     "output_type": "stream",
     "text": [
      "Maximum Latitude\n",
      "24.860735\n",
      "Minimum Latitude\n",
      "-6.125194\n",
      "Maximum Longitude\n",
      "106.923168\n",
      "Minumum Longitude\n",
      "-157.858337\n"
     ]
    }
   ],
   "source": [
    "# Enter your code here\n",
    "lat = [21.027763, -6.125194, 21.306944, 24.860735, -1.292066]\n",
    "lon = [105.834160, 106.923168, -157.858337, 67.001137, 36.821945]\n",
    "print ('Maximum Latitude')\n",
    "print(max(lat))\n",
    "print ('Minimum Latitude')\n",
    "print(min(lat))\n",
    "print ('Maximum Longitude')\n",
    "print(max(lon))\n",
    "print ('Minumum Longitude')\n",
    "print(min(lon))\n",
    "\n",
    "# This is actually the bounding box of these points"
   ]
  },
  {
   "cell_type": "markdown",
   "metadata": {},
   "source": [
    "e. Find two geolocations _a_ and _b_ of your choice, expressed in British Grid as X (Easting) and Y (Northing) pairs. Use [this website](https://gridreferencefinder.com/os.php) or any other tool to find real coordinates. \n",
    "Write code to calculate their Euclidian distance (find the correct formula online). Verify that the result is correct."
   ]
  },
  {
   "cell_type": "code",
   "execution_count": 21,
   "metadata": {},
   "outputs": [
    {
     "name": "stdout",
     "output_type": "stream",
     "text": [
      "Distance between the two points (metres): 531726\n"
     ]
    }
   ],
   "source": [
    "# Paddington station\n",
    "a_x = 526456 \n",
    "a_y = 181451\n",
    "# Edinburgh Waverley\n",
    "b_x = 325762\n",
    "b_y = 673848\n",
    "\n",
    "# Euclidian distance \n",
    "dist = math.sqrt((b_x-a_x)**2 + (b_y-a_y)**2)\n",
    "print('Distance between the two points (metres):', round(dist))"
   ]
  },
  {
   "cell_type": "markdown",
   "metadata": {},
   "source": [
    "f. Define a list containing 6 London borough names. Write code to pick 3 borough names randomly. Use the `random` package."
   ]
  },
  {
   "cell_type": "code",
   "execution_count": 77,
   "metadata": {},
   "outputs": [
    {
     "name": "stdout",
     "output_type": "stream",
     "text": [
      "['Hackney', 'Lambeth', 'Islington']\n"
     ]
    }
   ],
   "source": [
    "import random\n",
    "\n",
    "boroughs = ['Islington','Camden','Hackney','Lambeth','Greenwich','Enfield']\n",
    "borough_sample = random.sample(boroughs, 3)\n",
    "print(borough_sample)"
   ]
  },
  {
   "cell_type": "markdown",
   "metadata": {},
   "source": [
    "g. Re-use the `boroughs` list. Write code to add two new boroughs, sort the list in reverse order (`list.reverse()`) and concatenate the elements with **commas** between them."
   ]
  },
  {
   "cell_type": "code",
   "execution_count": 78,
   "metadata": {},
   "outputs": [
    {
     "name": "stdout",
     "output_type": "stream",
     "text": [
      "['Ealing', 'Tower Hamlets', 'Enfield', 'Greenwich', 'Lambeth', 'Hackney', 'Camden', 'Islington']\n",
      "Ealing,Tower Hamlets,Enfield,Greenwich,Lambeth,Hackney,Camden,Islington\n"
     ]
    }
   ],
   "source": [
    "boroughs.append('Tower Hamlets')\n",
    "boroughs.append('Ealing')\n",
    "boroughs.reverse()\n",
    "print(boroughs)\n",
    "\n",
    "# generate a string with all bouroughs\n",
    "boroughs_str = \",\".join(boroughs)\n",
    "print(boroughs_str)"
   ]
  },
  {
   "cell_type": "markdown",
   "metadata": {},
   "source": [
    "h. Given a city name, check if the string length (`len(string)`) is higher than 10 and store the result in a variable called `higher_than_10`. Print the result in a human readable way."
   ]
  },
  {
   "cell_type": "code",
   "execution_count": 82,
   "metadata": {},
   "outputs": [
    {
     "name": "stdout",
     "output_type": "stream",
     "text": [
      "Rio de Janeiro has more then 10 characters: True\n"
     ]
    }
   ],
   "source": [
    "city_name = 'Rio de Janeiro'\n",
    "\n",
    "# this is a boolean variable\n",
    "higher_than_10 = len(city_name)>10\n",
    "\n",
    "print(city_name,'has more then 10 characters:', higher_than_10)"
   ]
  },
  {
   "cell_type": "markdown",
   "metadata": {},
   "source": [
    "i. Using the string functions `upper` and `split`, create a list from the string `countries` making them to uppercase, and then sort it alphabetically. The list should have 6 elements. Use the documentation to see how these common functions work (check online and `help(...)`):"
   ]
  },
  {
   "cell_type": "code",
   "execution_count": 10,
   "metadata": {},
   "outputs": [
    {
     "name": "stdout",
     "output_type": "stream",
     "text": [
      "Help on method_descriptor:\n",
      "\n",
      "split(self, /, sep=None, maxsplit=-1)\n",
      "    Return a list of the words in the string, using sep as the delimiter string.\n",
      "    \n",
      "    sep\n",
      "      The delimiter according which to split the string.\n",
      "      None (the default value) means split according to any whitespace,\n",
      "      and discard empty strings from the result.\n",
      "    maxsplit\n",
      "      Maximum number of splits to do.\n",
      "      -1 (the default value) means no limit.\n",
      "\n"
     ]
    }
   ],
   "source": [
    "help(str.split)"
   ]
  },
  {
   "cell_type": "code",
   "execution_count": 92,
   "metadata": {},
   "outputs": [
    {
     "name": "stdout",
     "output_type": "stream",
     "text": [
      "GHANA, VENEZUELA, JAPAN, CANADA, UK, ITALY\n"
     ]
    }
   ],
   "source": [
    "countries = 'Ghana, Venezuela, Japan, Canada, UK, Italy'\n",
    "\n",
    "# make uppercase\n",
    "upper_countries = countries.upper()\n",
    "print(upper_countries)"
   ]
  },
  {
   "cell_type": "code",
   "execution_count": 93,
   "metadata": {},
   "outputs": [
    {
     "name": "stdout",
     "output_type": "stream",
     "text": [
      "['GHANA', ' VENEZUELA', ' JAPAN', ' CANADA', ' UK', ' ITALY']\n"
     ]
    }
   ],
   "source": [
    "# split string into elements\n",
    "split_countries = upper_countries.split(',')\n",
    "print(split_countries)"
   ]
  },
  {
   "cell_type": "code",
   "execution_count": 87,
   "metadata": {},
   "outputs": [
    {
     "name": "stdout",
     "output_type": "stream",
     "text": [
      "['CANADA', 'GHANA', 'ITALY', 'JAPAN', 'UK', 'VENEZUELA']\n"
     ]
    }
   ],
   "source": [
    "# Remove extra spaces at the beginning and end of strings.\n",
    "# This operation is often called \"trimming\". In Python\n",
    "# you can use the function str.strip().\n",
    "split_countries = [s.strip() for s in split_countries]\n",
    "\n",
    "# sort country names\n",
    "ordered_countries = sorted(split_countries)\n",
    "print(ordered_countries)"
   ]
  },
  {
   "cell_type": "markdown",
   "metadata": {},
   "source": [
    "End of notebook"
   ]
  }
 ],
 "metadata": {
  "kernelspec": {
   "display_name": "Python 3",
   "language": "python",
   "name": "python3"
  },
  "language_info": {
   "codemirror_mode": {
    "name": "ipython",
    "version": 3
   },
   "file_extension": ".py",
   "mimetype": "text/x-python",
   "name": "python",
   "nbconvert_exporter": "python",
   "pygments_lexer": "ipython3",
   "version": "3.9.1"
  }
 },
 "nbformat": 4,
 "nbformat_minor": 4
}
