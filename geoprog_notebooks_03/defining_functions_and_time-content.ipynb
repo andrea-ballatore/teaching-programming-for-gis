{
 "cells": [
  {
   "cell_type": "markdown",
   "metadata": {},
   "source": [
    "# Defining functions and working with time in Python\n",
    "\n",
    "**Author**: Andrea Ballatore (Birkbeck, University of London)\n",
    "\n",
    "**Abstract**: Learn how to use and define functions and how to manipulate temporal information in Python.\n",
    "\n",
    "## Setup\n",
    "This is to check that your environment is set up correctly (it should print 'env ok', ignore warnings)."
   ]
  },
  {
   "cell_type": "code",
   "execution_count": 1,
   "metadata": {},
   "outputs": [
    {
     "name": "stdout",
     "output_type": "stream",
     "text": [
      "Conda env: geoprogv1\n",
      "env ok\n"
     ]
    }
   ],
   "source": [
    "# Test geospatial libraries\n",
    "# check environment\n",
    "import os\n",
    "print(\"Conda env:\", os.environ['CONDA_DEFAULT_ENV'])\n",
    "if os.environ['CONDA_DEFAULT_ENV'] != 'geoprogv1':\n",
    "    raise Exception(\"Set the environment 'geoprogv1' on Anaconda. Current environment: \" + os.environ['CONDA_DEFAULT_ENV'])\n",
    "\n",
    "# spatial libraries \n",
    "import fiona as fi\n",
    "import geopandas as gpd\n",
    "import pandas as pd\n",
    "import pysal as sal\n",
    "import numpy as np\n",
    "import math\n",
    "\n",
    "# create output folders\n",
    "folders = ['tmp']\n",
    "for f in folders:\n",
    "    if not os.path.exists(f):\n",
    "        os.makedirs(f)\n",
    "\n",
    "print('env ok')"
   ]
  },
  {
   "cell_type": "markdown",
   "metadata": {},
   "source": [
    "----\n",
    "## What is a function?\n",
    "\n",
    "- A **function** is a stand-alone section of code that is designed to generate a specific **result** based on one or more parameters.\n",
    "- A function has an **input** (parameters) and an **ouput** (a return value or an effect in the system):\n",
    "\n",
    "<img src=\"img/function.png\" width=200>\n",
    "\n",
    "- In programming, the general structure of a function is \n",
    "\n",
    "`return_value = function_name(parameter1, parameter2, ...)`.\n",
    "\n",
    "- When you write Python code, you are **calling functions** on your data to produce the results you are interested in.\n",
    "- A function can **return** a value (the result of the computation). The **return value** is the output of the calculation. Some functions might not have a return value."
   ]
  },
  {
   "cell_type": "markdown",
   "metadata": {},
   "source": [
    "## Types of functions\n",
    "- Functions can be grouped as:\n",
    "  - **Built-in**: basic functions in Python. These functions are documented at (https://docs.python.org/3/library/functions.html).\n",
    "  - **Packages**: functions defined in packages that can be imported (for example from `pandas` or other packages). Most code that you write uses some of these functions to perform complex tasks. Each package provides documentation on how its functions work.\n",
    "  - **User-defined functions**: functions that you define in your notebook/script/application to perform your tasks.\n",
    "- For example, let us consider some of the basic built-in functions in Python: `len`, `min`, `max` and `abs`."
   ]
  },
  {
   "cell_type": "code",
   "execution_count": 4,
   "metadata": {},
   "outputs": [
    {
     "name": "stdout",
     "output_type": "stream",
     "text": [
      "6\n"
     ]
    }
   ],
   "source": [
    "# built-in functions\n",
    "# define a list of integers\n",
    "nums = [7,23,4,1,-19,231]\n",
    "\n",
    "# call 'len' on the list to see how many elements it contains\n",
    "# nums: first parameter\n",
    "# n: variable that contains the return value\n",
    "n = len(nums)\n",
    "print(n)"
   ]
  },
  {
   "cell_type": "code",
   "execution_count": 3,
   "metadata": {},
   "outputs": [
    {
     "name": "stdout",
     "output_type": "stream",
     "text": [
      "-19 231\n"
     ]
    }
   ],
   "source": [
    "# call 'min' on the list and save the value in min_num\n",
    "# nums: first parameter\n",
    "# min_num: return value\n",
    "min_num = min(nums)\n",
    "\n",
    "# call 'max' on the list and save the value in max_num\n",
    "# nums: first parameter\n",
    "# max_num: return value\n",
    "max_num = max(nums)\n",
    "\n",
    "# print results\n",
    "print(min_num, max_num)\n",
    "\n",
    "# note how you can call min or max anywhere in your code \n",
    "# and will perform the same task."
   ]
  },
  {
   "cell_type": "code",
   "execution_count": 4,
   "metadata": {},
   "outputs": [
    {
     "name": "stdout",
     "output_type": "stream",
     "text": [
      "341\n"
     ]
    }
   ],
   "source": [
    "# 'abs' returns the absolute value of a number.\n",
    "abs_num = abs(-341)\n",
    "print(abs_num)"
   ]
  },
  {
   "cell_type": "code",
   "execution_count": 5,
   "metadata": {},
   "outputs": [
    {
     "name": "stdout",
     "output_type": "stream",
     "text": [
      "341\n"
     ]
    }
   ],
   "source": [
    "# If you do not need the result later, you can just print the return value:\n",
    "print(abs(-341))\n",
    "# In this case, the result is printed and not saved in a variable."
   ]
  },
  {
   "cell_type": "markdown",
   "metadata": {},
   "source": [
    "## Calling functions on multiple values\n",
    "\n",
    "* In many situations, you want to call the same function on multiple values stored in a data structure.\n",
    "* When you want to call the same function on a list, you can use a `for` loop or a Python structure called list comprehension.\n"
   ]
  },
  {
   "cell_type": "code",
   "execution_count": 5,
   "metadata": {},
   "outputs": [
    {
     "name": "stdout",
     "output_type": "stream",
     "text": [
      "input list: [-1203, -39, 46, -10, 669]\n",
      "1203 39 46 10 669\n"
     ]
    }
   ],
   "source": [
    "# consider this list of numbers\n",
    "nums = [-1203, -39, 46, -10, 669]\n",
    "print('input list:', nums)\n",
    "\n",
    "# you can call the 'abs' on each element:\n",
    "print(abs(nums[0]), abs(nums[1]), abs(nums[2]), abs(nums[3]), abs(nums[4]))\n",
    "# this works but it is a terrible approach. This code does not \n",
    "# adapt to lists of different sizes and it is very easy to make mistakes."
   ]
  },
  {
   "cell_type": "code",
   "execution_count": 7,
   "metadata": {},
   "outputs": [
    {
     "name": "stdout",
     "output_type": "stream",
     "text": [
      "[1203, 39, 46, 10, 669]\n"
     ]
    }
   ],
   "source": [
    "# A 'for' loop is a much better approach.\n",
    "# Create an empty list to host the results:\n",
    "results = []\n",
    "for n in nums:\n",
    "    # call 'abs' and add the result to the new list\n",
    "    results.append( abs(n) )\n",
    "print(results)"
   ]
  },
  {
   "cell_type": "code",
   "execution_count": 6,
   "metadata": {},
   "outputs": [
    {
     "name": "stdout",
     "output_type": "stream",
     "text": [
      "for loop result: [1203, 39, 46, 10, 669, 491, 4, 12, 10]\n"
     ]
    }
   ],
   "source": [
    "# this code will adapt to any list, for example:\n",
    "nums = [-1203, -39, 46, -10, 669, 491, 4, 12, -10]\n",
    "results = []\n",
    "for n in nums:\n",
    "    # call 'abs' and add the result to the new list\n",
    "    results.append( abs(n) )\n",
    "print('for loop result:', results)"
   ]
  },
  {
   "cell_type": "markdown",
   "metadata": {},
   "source": [
    "## List comprehension\n",
    "\n",
    "This syntax allows you to call a function on each element of a list:\n",
    "\n",
    "`results = [function(element) for element in my_list]`"
   ]
  },
  {
   "cell_type": "code",
   "execution_count": 7,
   "metadata": {},
   "outputs": [
    {
     "name": "stdout",
     "output_type": "stream",
     "text": [
      "list comprehension result: [1203, 39, 46, 10, 669, 491, 4, 12, 10]\n"
     ]
    }
   ],
   "source": [
    "# List comprehension allows you to do achieve the same goal in a \n",
    "# more concise, elegant way:\n",
    "results = [abs(n) for n in nums]\n",
    "print('list comprehension result:', results)"
   ]
  },
  {
   "cell_type": "code",
   "execution_count": 10,
   "metadata": {},
   "outputs": [
    {
     "name": "stdout",
     "output_type": "stream",
     "text": [
      "all values by 10: [-12030, -390, 460, -100, 6690, 4910, 40, 120, -100]\n"
     ]
    }
   ],
   "source": [
    "# Another example: multiply all numbers by 10:\n",
    "results = [n*10 for n in nums]\n",
    "print('all values by 10:', results)"
   ]
  },
  {
   "cell_type": "markdown",
   "metadata": {},
   "source": [
    "## Chaining functions\n",
    "\n",
    "- When you want to combine functions, you can call a function directly on the result of another function.\n",
    "- This is the syntax: `result = function1(function2(function3(parameters)))`\n",
    "- This will be executed as follows:\n",
    "    - Step 1. call `function3` on `parameters`\n",
    "    - Step 2. call `function2` on the result of step 1\n",
    "    - Step 3. call `function1` on the result of step 2\n",
    "    - Step 4. save the result in variable `result`\n",
    "- Many bugs are caused by errors in these sequences.\n"
   ]
  },
  {
   "cell_type": "code",
   "execution_count": 11,
   "metadata": {},
   "outputs": [
    {
     "name": "stdout",
     "output_type": "stream",
     "text": [
      "result: 4.605\n"
     ]
    }
   ],
   "source": [
    "# get the logarithm of the absolute value of -100 and \n",
    "# then round it to the 3rd digit\n",
    "result = round(math.log(abs(-100)),3)\n",
    "print('result:', result)\n",
    "# the execution sequence is: abs -> log -> round"
   ]
  },
  {
   "cell_type": "markdown",
   "metadata": {},
   "source": [
    "- Note the syntax on `math.log`. When a function is part of an object or an imported package, we can call it with the dot (`.`): `object.function_name(parameters)`\n",
    "- Functions can have 0 parameters: `object.function_name()`"
   ]
  },
  {
   "cell_type": "code",
   "execution_count": 8,
   "metadata": {},
   "outputs": [
    {
     "name": "stdout",
     "output_type": "stream",
     "text": [
      "['London', 'Cairo', 'Buenos Aires']\n"
     ]
    }
   ],
   "source": [
    "cities = ['London','Cairo']\n",
    "# cities is an object with a number of functions available:\n",
    "cities.append('Buenos Aires') # add a new element\n",
    "print(cities)"
   ]
  },
  {
   "cell_type": "code",
   "execution_count": 13,
   "metadata": {},
   "outputs": [
    {
     "name": "stdout",
     "output_type": "stream",
     "text": [
      "['Buenos Aires', 'Cairo', 'London']\n",
      "[]\n"
     ]
    }
   ],
   "source": [
    "cities.reverse() # reverse the order\n",
    "print(cities)\n",
    "cities.clear() # delete all elements\n",
    "print(cities)"
   ]
  },
  {
   "cell_type": "markdown",
   "metadata": {},
   "source": [
    "## User-defined functions\n",
    "\n",
    "- When a piece of functionality is not available, you can write it yourself.\n",
    "- The main advantage of writing your own functions is that you can then **call** them anywhere in your code.\n",
    "- Functions are useful to **structure** your code and make it reusable in other notebooks/scripts.\n",
    "- Functions are easier to understand and debug than large pieces of unwieldy code.\n",
    "- To define a new function in Python, you can use the keyword `def` (define)."
   ]
  },
  {
   "cell_type": "markdown",
   "metadata": {},
   "source": [
    "- In the example below:\n",
    "    - Function name: `miles_to_km`\n",
    "    - Parameter: `miles`\n",
    "    - Return value: `miles` converted to km\n",
    "- Always conclude your function with the `return` keyword."
   ]
  },
  {
   "cell_type": "code",
   "execution_count": 12,
   "metadata": {},
   "outputs": [],
   "source": [
    "# a function to convert miles to kilometers:\n",
    "def miles_to_km(miles):\n",
    "    length_km = miles * 1.60934\n",
    "    return length_km\n",
    "    # Note the indentation! \n",
    "    # The function code is indented to the right"
   ]
  },
  {
   "cell_type": "code",
   "execution_count": 13,
   "metadata": {},
   "outputs": [
    {
     "name": "stdout",
     "output_type": "stream",
     "text": [
      "1.60934\n",
      "80.467\n"
     ]
    }
   ],
   "source": [
    "# now we can call this function anywhere in our code,\n",
    "# without repeating this code.\n",
    "print(miles_to_km(1))\n",
    "print(miles_to_km(50))"
   ]
  },
  {
   "cell_type": "code",
   "execution_count": 16,
   "metadata": {},
   "outputs": [
    {
     "name": "stdout",
     "output_type": "stream",
     "text": [
      "[1.60934, 40.2335, 80.467, 160.934, 402.335, 804.67]\n"
     ]
    }
   ],
   "source": [
    "# let use list comprehension to convert a list of distances\n",
    "dist_miles = [1,25,50,100,250,500]\n",
    "dist_km = [miles_to_km(d) for d in dist_miles]\n",
    "print(dist_km)"
   ]
  },
  {
   "cell_type": "markdown",
   "metadata": {},
   "source": [
    "- Functions can have multiple parameters and can (and should) reuse other functions.\n",
    "- In programming, being **lazy** is positive. You should always use existing functions rather than re-inventing the wheel.\n",
    "\n",
    "<img src=\"img/wheel1.png\" width=400>\n",
    "\n",
    "- For example, this is a slighty more complicated function with 3 parameters that can convert miles into km and vice-versa:"
   ]
  },
  {
   "cell_type": "code",
   "execution_count": 28,
   "metadata": {},
   "outputs": [],
   "source": [
    "# read this code and try to understand what it does:\n",
    "def convert_distance(dist, in_unit, out_unit):\n",
    "    print(\"convert_distance\", dist, in_unit, out_unit) # useful DEBUG\n",
    "    if in_unit == 'miles' and out_unit == 'km':\n",
    "        result = dist * 1.60934\n",
    "    elif in_unit == 'km' and out_unit == 'miles':\n",
    "        result = dist * 0.62137\n",
    "    else:\n",
    "        # stop the programme: invalid options\n",
    "        raise RuntimeError('convert_distance failed: Invalid units. Valid units: miles, km')\n",
    "    return result"
   ]
  },
  {
   "cell_type": "code",
   "execution_count": 25,
   "metadata": {},
   "outputs": [],
   "source": [
    "# call convert_distance:\n",
    "print(convert_distance(10,'km','miles'))\n",
    "print(convert_distance(10,'miles','km'))\n",
    "print(convert_distance(500,'miles','km'))"
   ]
  },
  {
   "cell_type": "markdown",
   "metadata": {},
   "source": [
    "### Explicit units\n",
    "- Units are so important in scientific computing that packages have been created to **explicitly** declare units for variables. \n",
    "- See for example the package `pint`, in which you can write `3 * ureg.meter + 4 * ureg.cm` and obtain the quantity `3.04 <metres>`: https://pint.readthedocs.io. \n",
    "- Errors caused by incorrect unit conversions have caused [very expensive disasters](https://www.mentalfloss.com/article/25845/quick-6-six-unit-conversion-disasters) in the aerospatial sector."
   ]
  },
  {
   "cell_type": "markdown",
   "metadata": {},
   "source": [
    "## Raising errors\n",
    "\n",
    "- When you call functions, you might specify incorrect parameters. \n",
    "- For example, you might \n",
    "`convert_distance(10,'km','kg')`. As kilometers cannot be converted to kilograms, the programme should **stop** and give an clear error message to the user. \n",
    "- `raise RuntimeError(<message>)` is a simple way to stop the programme and inform the user.\n",
    "- Note that the user could be yourself! Even if you work on your own, your code should still check for errors and handle them correctly."
   ]
  },
  {
   "cell_type": "code",
   "execution_count": 20,
   "metadata": {},
   "outputs": [
    {
     "ename": "RuntimeError",
     "evalue": "convert_distance failed: Invalid units. Valid units: miles, km",
     "output_type": "error",
     "traceback": [
      "\u001b[0;31m---------------------------------------------------------------------------\u001b[0m",
      "\u001b[0;31mRuntimeError\u001b[0m                              Traceback (most recent call last)",
      "\u001b[0;32m<ipython-input-20-0f31f5a693de>\u001b[0m in \u001b[0;36m<module>\u001b[0;34m\u001b[0m\n\u001b[1;32m      1\u001b[0m \u001b[0;31m# this call will fail and give you a clear error message\u001b[0m\u001b[0;34m\u001b[0m\u001b[0;34m\u001b[0m\u001b[0;34m\u001b[0m\u001b[0m\n\u001b[0;32m----> 2\u001b[0;31m \u001b[0mconvert_distance\u001b[0m\u001b[0;34m(\u001b[0m\u001b[0;36m10\u001b[0m\u001b[0;34m,\u001b[0m\u001b[0;34m'km'\u001b[0m\u001b[0;34m,\u001b[0m\u001b[0;34m'kg'\u001b[0m\u001b[0;34m)\u001b[0m\u001b[0;34m\u001b[0m\u001b[0;34m\u001b[0m\u001b[0m\n\u001b[0m",
      "\u001b[0;32m<ipython-input-17-bf21b4cbc603>\u001b[0m in \u001b[0;36mconvert_distance\u001b[0;34m(dist, in_unit, out_unit)\u001b[0m\n\u001b[1;32m      7\u001b[0m     \u001b[0;32melse\u001b[0m\u001b[0;34m:\u001b[0m\u001b[0;34m\u001b[0m\u001b[0;34m\u001b[0m\u001b[0m\n\u001b[1;32m      8\u001b[0m         \u001b[0;31m# stop the programme: invalid options\u001b[0m\u001b[0;34m\u001b[0m\u001b[0;34m\u001b[0m\u001b[0;34m\u001b[0m\u001b[0m\n\u001b[0;32m----> 9\u001b[0;31m         \u001b[0;32mraise\u001b[0m \u001b[0mRuntimeError\u001b[0m\u001b[0;34m(\u001b[0m\u001b[0;34m'convert_distance failed: Invalid units. Valid units: miles, km'\u001b[0m\u001b[0;34m)\u001b[0m\u001b[0;34m\u001b[0m\u001b[0;34m\u001b[0m\u001b[0m\n\u001b[0m\u001b[1;32m     10\u001b[0m     \u001b[0;32mreturn\u001b[0m \u001b[0mresult\u001b[0m\u001b[0;34m\u001b[0m\u001b[0;34m\u001b[0m\u001b[0m\n",
      "\u001b[0;31mRuntimeError\u001b[0m: convert_distance failed: Invalid units. Valid units: miles, km"
     ]
    }
   ],
   "source": [
    "# this call will fail and give you a clear error message\n",
    "convert_distance(10,'km','kg')"
   ]
  },
  {
   "cell_type": "markdown",
   "metadata": {},
   "source": [
    "## Re-using functions\n",
    "\n",
    "- Functions are like small bricks that can be combined to build your code.\n",
    "- Now let us extend convert_distance to handle lists. This is convenient to handle realistic situations where we want to convert multiple values and not a single one:"
   ]
  },
  {
   "cell_type": "code",
   "execution_count": 26,
   "metadata": {},
   "outputs": [],
   "source": [
    "def convert_distance_list(dist_list, in_unit, out_unit):\n",
    "    # call convert_distance on each element\n",
    "    # keep the same in_unit and out_unit\n",
    "    results = [convert_distance(d, in_unit, out_unit) for d in dist_list]\n",
    "    return results"
   ]
  },
  {
   "cell_type": "code",
   "execution_count": 29,
   "metadata": {},
   "outputs": [
    {
     "name": "stdout",
     "output_type": "stream",
     "text": [
      "convert_distance 1 miles km\n",
      "convert_distance 3 miles km\n",
      "convert_distance 5 miles km\n",
      "convert_distance 10.5 miles km\n",
      "convert_distance 300 miles km\n",
      "distances in km [1.60934, 4.82802, 8.0467, 16.89807, 482.802]\n",
      "convert_distance 1.60934 km miles\n",
      "convert_distance 4.82802 km miles\n",
      "convert_distance 8.0467 km miles\n",
      "convert_distance 16.89807 km miles\n",
      "convert_distance 482.802 km miles\n"
     ]
    }
   ],
   "source": [
    "# call convert_distance_list on a real list:\n",
    "dists_miles = [1,3,5,10.5,300]\n",
    "dists_km = convert_distance_list(dists_miles,'miles','km')\n",
    "print('distances in km',dists_km)\n",
    "dists_miles_converted = convert_distance_list(dists_km,'km','miles')"
   ]
  },
  {
   "cell_type": "code",
   "execution_count": 30,
   "metadata": {},
   "outputs": [
    {
     "name": "stdout",
     "output_type": "stream",
     "text": [
      "Note the inevitable small error in the conversion:\n",
      "distances in miles (converted) [0.9999955958, 2.9999867874, 4.999977979, 10.4999537559, 299.99867874]\n",
      "distances in miles (original) [1, 3, 5, 10.5, 300]\n"
     ]
    }
   ],
   "source": [
    "print('Note the inevitable small error in the conversion:')\n",
    "print('distances in miles (converted)',dists_miles_converted)\n",
    "print('distances in miles (original)',dists_miles)"
   ]
  },
  {
   "cell_type": "markdown",
   "metadata": {},
   "source": [
    "## Variable scoping\n",
    "\n",
    "- This is a subtle and complex concept that is crucial to understand how functions work.\n",
    "- Many bugs and issues are caused by misunderstanding this aspect of programming.\n",
    "- When we define a variable within a function, it will not be **visible** outside of it.\n",
    "- A **global variable** is visible everywhere in a notebook.\n",
    "- A **local variable** is visible only within a function.\n",
    "- This behaviour is desirable to keep function **isolated** from the rest of the programme to minimise potential bugs and errors in the code."
   ]
  },
  {
   "cell_type": "markdown",
   "metadata": {},
   "source": [
    "- For example, this cell has two variables called `x`, one global (gx) and one local (lx). These two variables are completely separate. lx only exists within the function, while gx exists in the main programme. \n",
    "- If you change lx, you will not overwrite gx!\n",
    "- This means that we can **safely** work on local variables without overwriting global variables.\n",
    "\n",
    "<img src=\"img/scoping1.png\" />"
   ]
  },
  {
   "cell_type": "code",
   "execution_count": 31,
   "metadata": {},
   "outputs": [
    {
     "name": "stdout",
     "output_type": "stream",
     "text": [
      "global x = 1\n",
      "local x = 50\n",
      "global x = 1\n"
     ]
    }
   ],
   "source": [
    "# global x\n",
    "x = 1\n",
    "print('global x =',x)\n",
    "\n",
    "# define function\n",
    "def do_something():\n",
    "    # define local x, which exists only within \n",
    "    # this function. This is a different variable \n",
    "    # that has nothing to do with global x\n",
    "    x = 50\n",
    "    print('local x =',x)\n",
    "\n",
    "# call function\n",
    "do_something()\n",
    "# global x has not changed!\n",
    "print('global x =',x)"
   ]
  },
  {
   "cell_type": "code",
   "execution_count": 33,
   "metadata": {},
   "outputs": [
    {
     "name": "stdout",
     "output_type": "stream",
     "text": [
      "area in ha: 500\n"
     ]
    }
   ],
   "source": [
    "# Let us consider conversions between areas expressed as \n",
    "# square kilometers (km2) and hectares (ha).\n",
    "\n",
    "# 1 km2 is equal to 100 hectares\n",
    "km2_to_ha = 100\n",
    "# this variable is GLOBAL\n",
    "area_km2 = 5\n",
    "# 'area_ha' is also global\n",
    "area_ha = km2_to_ha * area_km2\n",
    "print('area in ha:', area_ha)"
   ]
  },
  {
   "cell_type": "code",
   "execution_count": 34,
   "metadata": {},
   "outputs": [],
   "source": [
    "def convert_sqkm_to_hectares(area_km2):\n",
    "    # 'km2_to_ha' is a GLOBAL variable that we can use in here.\n",
    "    # This environment is ISOLATED from the rest of the notebook.\n",
    "    # \n",
    "    # 'area_ha' and 'area_km2' are LOCAL variables that\n",
    "    # only exist within this function:\n",
    "    area_ha = area_km2 * km2_to_ha\n",
    "    return area_ha"
   ]
  },
  {
   "cell_type": "code",
   "execution_count": 36,
   "metadata": {},
   "outputs": [
    {
     "name": "stdout",
     "output_type": "stream",
     "text": [
      "result from function (local variable 'area_ha'): 2500\n",
      "the global 'area_ha' has not changed: 500\n",
      "the global 'global_area_km2' has not changed: 5\n"
     ]
    }
   ],
   "source": [
    "print(\"result from function (local variable 'area_ha'):\", convert_sqkm_to_hectares(25))\n",
    "# the area_ha and local_area_km2 have now been destroyed\n",
    "print(\"the global 'area_ha' has not changed:\", area_ha)\n",
    "print(\"the global 'global_area_km2' has not changed:\", area_km2)"
   ]
  },
  {
   "cell_type": "code",
   "execution_count": 37,
   "metadata": {},
   "outputs": [
    {
     "name": "stdout",
     "output_type": "stream",
     "text": [
      "result from function: 3000\n",
      "the global area_ha has not changed: 500\n"
     ]
    }
   ],
   "source": [
    "print('result from function:', convert_sqkm_to_hectares(30))\n",
    "print('the global area_ha has not changed:', area_ha)\n",
    "# This behaviour is great because we can define new variables \n",
    "# without changing the environment in the notebook."
   ]
  },
  {
   "cell_type": "markdown",
   "metadata": {},
   "source": [
    "- In general, it is better to avoid using global variables too much, as they make the input of a function unclear.\n",
    "- It is good practice to include all input variables of a function as **explicit parameters**, rather than using global variables. This makes the code easier to understand and test.\n",
    "- A better version of `convert_sqkm_to_hectares` uses a local variable `km2_to_ha`. This way the function is **self-contained** (i.e., it does not dependent on the surrounding environment)."
   ]
  },
  {
   "cell_type": "code",
   "execution_count": 38,
   "metadata": {},
   "outputs": [
    {
     "name": "stdout",
     "output_type": "stream",
     "text": [
      "1000\n"
     ]
    }
   ],
   "source": [
    "def convert_sqkm_to_hectares2(area_km2):\n",
    "    # use local variable\n",
    "    km2_to_ha = 100\n",
    "    area_ha = area_km2 * km2_to_ha\n",
    "    return area_ha\n",
    "\n",
    "print(convert_sqkm_to_hectares2(10))"
   ]
  },
  {
   "cell_type": "markdown",
   "metadata": {},
   "source": [
    "## Functions in Pandas \n",
    "\n",
    "- `pandas` data frames are used to handle tabular data.\n",
    "- `apply` allows to call a function on each value of a data frame.\n",
    "- The parameter `axis` allows to call a function on rows or columns."
   ]
  },
  {
   "cell_type": "code",
   "execution_count": 40,
   "metadata": {},
   "outputs": [
    {
     "data": {
      "text/html": [
       "<div>\n",
       "<style scoped>\n",
       "    .dataframe tbody tr th:only-of-type {\n",
       "        vertical-align: middle;\n",
       "    }\n",
       "\n",
       "    .dataframe tbody tr th {\n",
       "        vertical-align: top;\n",
       "    }\n",
       "\n",
       "    .dataframe thead th {\n",
       "        text-align: right;\n",
       "    }\n",
       "</style>\n",
       "<table border=\"1\" class=\"dataframe\">\n",
       "  <thead>\n",
       "    <tr style=\"text-align: right;\">\n",
       "      <th></th>\n",
       "      <th>a</th>\n",
       "      <th>b</th>\n",
       "      <th>c</th>\n",
       "    </tr>\n",
       "  </thead>\n",
       "  <tbody>\n",
       "    <tr>\n",
       "      <th>0</th>\n",
       "      <td>12</td>\n",
       "      <td>4</td>\n",
       "      <td>7</td>\n",
       "    </tr>\n",
       "    <tr>\n",
       "      <th>1</th>\n",
       "      <td>22</td>\n",
       "      <td>5</td>\n",
       "      <td>93</td>\n",
       "    </tr>\n",
       "    <tr>\n",
       "      <th>2</th>\n",
       "      <td>3</td>\n",
       "      <td>61</td>\n",
       "      <td>34</td>\n",
       "    </tr>\n",
       "  </tbody>\n",
       "</table>\n",
       "</div>"
      ],
      "text/plain": [
       "    a   b   c\n",
       "0  12   4   7\n",
       "1  22   5  93\n",
       "2   3  61  34"
      ]
     },
     "execution_count": 40,
     "metadata": {},
     "output_type": "execute_result"
    }
   ],
   "source": [
    "# create a simple data frame \n",
    "# containing measurements in metres\n",
    "df = pd.DataFrame({\n",
    "     'a':[12, 22, 3],\n",
    "     'b':[4, 5, 61],  \n",
    "     'c':[7, 93, 34]})\n",
    "df"
   ]
  },
  {
   "cell_type": "markdown",
   "metadata": {},
   "source": [
    "- Let us apply the square root to each value of the data frame. \n",
    "- Note that you have to use function `np.sqrt` and not `math.sqrt` that works on individual numbers."
   ]
  },
  {
   "cell_type": "code",
   "execution_count": 41,
   "metadata": {},
   "outputs": [
    {
     "data": {
      "text/html": [
       "<div>\n",
       "<style scoped>\n",
       "    .dataframe tbody tr th:only-of-type {\n",
       "        vertical-align: middle;\n",
       "    }\n",
       "\n",
       "    .dataframe tbody tr th {\n",
       "        vertical-align: top;\n",
       "    }\n",
       "\n",
       "    .dataframe thead th {\n",
       "        text-align: right;\n",
       "    }\n",
       "</style>\n",
       "<table border=\"1\" class=\"dataframe\">\n",
       "  <thead>\n",
       "    <tr style=\"text-align: right;\">\n",
       "      <th></th>\n",
       "      <th>a</th>\n",
       "      <th>b</th>\n",
       "      <th>c</th>\n",
       "    </tr>\n",
       "  </thead>\n",
       "  <tbody>\n",
       "    <tr>\n",
       "      <th>0</th>\n",
       "      <td>3.464102</td>\n",
       "      <td>2.000000</td>\n",
       "      <td>2.645751</td>\n",
       "    </tr>\n",
       "    <tr>\n",
       "      <th>1</th>\n",
       "      <td>4.690416</td>\n",
       "      <td>2.236068</td>\n",
       "      <td>9.643651</td>\n",
       "    </tr>\n",
       "    <tr>\n",
       "      <th>2</th>\n",
       "      <td>1.732051</td>\n",
       "      <td>7.810250</td>\n",
       "      <td>5.830952</td>\n",
       "    </tr>\n",
       "  </tbody>\n",
       "</table>\n",
       "</div>"
      ],
      "text/plain": [
       "          a         b         c\n",
       "0  3.464102  2.000000  2.645751\n",
       "1  4.690416  2.236068  9.643651\n",
       "2  1.732051  7.810250  5.830952"
      ]
     },
     "execution_count": 41,
     "metadata": {},
     "output_type": "execute_result"
    }
   ],
   "source": [
    "sqrt_df = df.apply(np.sqrt)\n",
    "sqrt_df"
   ]
  },
  {
   "cell_type": "code",
   "execution_count": 42,
   "metadata": {},
   "outputs": [
    {
     "data": {
      "text/html": [
       "<div>\n",
       "<style scoped>\n",
       "    .dataframe tbody tr th:only-of-type {\n",
       "        vertical-align: middle;\n",
       "    }\n",
       "\n",
       "    .dataframe tbody tr th {\n",
       "        vertical-align: top;\n",
       "    }\n",
       "\n",
       "    .dataframe thead th {\n",
       "        text-align: right;\n",
       "    }\n",
       "</style>\n",
       "<table border=\"1\" class=\"dataframe\">\n",
       "  <thead>\n",
       "    <tr style=\"text-align: right;\">\n",
       "      <th></th>\n",
       "      <th>a</th>\n",
       "      <th>b</th>\n",
       "      <th>c</th>\n",
       "      <th>row_sum</th>\n",
       "      <th>row_mean</th>\n",
       "    </tr>\n",
       "  </thead>\n",
       "  <tbody>\n",
       "    <tr>\n",
       "      <th>0</th>\n",
       "      <td>12</td>\n",
       "      <td>4</td>\n",
       "      <td>7</td>\n",
       "      <td>23</td>\n",
       "      <td>11.5</td>\n",
       "    </tr>\n",
       "    <tr>\n",
       "      <th>1</th>\n",
       "      <td>22</td>\n",
       "      <td>5</td>\n",
       "      <td>93</td>\n",
       "      <td>120</td>\n",
       "      <td>60.0</td>\n",
       "    </tr>\n",
       "    <tr>\n",
       "      <th>2</th>\n",
       "      <td>3</td>\n",
       "      <td>61</td>\n",
       "      <td>34</td>\n",
       "      <td>98</td>\n",
       "      <td>49.0</td>\n",
       "    </tr>\n",
       "  </tbody>\n",
       "</table>\n",
       "</div>"
      ],
      "text/plain": [
       "    a   b   c  row_sum  row_mean\n",
       "0  12   4   7       23      11.5\n",
       "1  22   5  93      120      60.0\n",
       "2   3  61  34       98      49.0"
      ]
     },
     "execution_count": 42,
     "metadata": {},
     "output_type": "execute_result"
    }
   ],
   "source": [
    "# apply functions to each row (axis = 1 means \"by row\")\n",
    "df['row_sum'] = df.apply(sum, axis=1)\n",
    "df['row_mean'] = df.apply(np.mean, axis=1)\n",
    "df"
   ]
  },
  {
   "cell_type": "code",
   "execution_count": 43,
   "metadata": {},
   "outputs": [
    {
     "data": {
      "text/plain": [
       "a            37.0\n",
       "b            70.0\n",
       "c           134.0\n",
       "row_sum     241.0\n",
       "row_mean    120.5\n",
       "dtype: float64"
      ]
     },
     "execution_count": 43,
     "metadata": {},
     "output_type": "execute_result"
    }
   ],
   "source": [
    "# apply sum to each column\n",
    "df.apply(sum, axis=0)"
   ]
  },
  {
   "cell_type": "code",
   "execution_count": 44,
   "metadata": {},
   "outputs": [
    {
     "data": {
      "text/plain": [
       "a           12.333333\n",
       "b           23.333333\n",
       "c           44.666667\n",
       "row_sum     80.333333\n",
       "row_mean    40.166667\n",
       "dtype: float64"
      ]
     },
     "execution_count": 44,
     "metadata": {},
     "output_type": "execute_result"
    }
   ],
   "source": [
    "# apply mean to each column\n",
    "df.apply(np.mean, axis=0)"
   ]
  },
  {
   "cell_type": "code",
   "execution_count": 45,
   "metadata": {},
   "outputs": [
    {
     "data": {
      "text/html": [
       "<div>\n",
       "<style scoped>\n",
       "    .dataframe tbody tr th:only-of-type {\n",
       "        vertical-align: middle;\n",
       "    }\n",
       "\n",
       "    .dataframe tbody tr th {\n",
       "        vertical-align: top;\n",
       "    }\n",
       "\n",
       "    .dataframe thead th {\n",
       "        text-align: right;\n",
       "    }\n",
       "</style>\n",
       "<table border=\"1\" class=\"dataframe\">\n",
       "  <thead>\n",
       "    <tr style=\"text-align: right;\">\n",
       "      <th></th>\n",
       "      <th>a</th>\n",
       "      <th>b</th>\n",
       "      <th>c</th>\n",
       "      <th>row_sum</th>\n",
       "      <th>row_mean</th>\n",
       "    </tr>\n",
       "  </thead>\n",
       "  <tbody>\n",
       "    <tr>\n",
       "      <th>0</th>\n",
       "      <td>39.37008</td>\n",
       "      <td>13.12336</td>\n",
       "      <td>22.96588</td>\n",
       "      <td>75.45932</td>\n",
       "      <td>37.72966</td>\n",
       "    </tr>\n",
       "    <tr>\n",
       "      <th>1</th>\n",
       "      <td>72.17848</td>\n",
       "      <td>16.40420</td>\n",
       "      <td>305.11812</td>\n",
       "      <td>393.70080</td>\n",
       "      <td>196.85040</td>\n",
       "    </tr>\n",
       "    <tr>\n",
       "      <th>2</th>\n",
       "      <td>9.84252</td>\n",
       "      <td>200.13124</td>\n",
       "      <td>111.54856</td>\n",
       "      <td>321.52232</td>\n",
       "      <td>160.76116</td>\n",
       "    </tr>\n",
       "  </tbody>\n",
       "</table>\n",
       "</div>"
      ],
      "text/plain": [
       "          a          b          c    row_sum   row_mean\n",
       "0  39.37008   13.12336   22.96588   75.45932   37.72966\n",
       "1  72.17848   16.40420  305.11812  393.70080  196.85040\n",
       "2   9.84252  200.13124  111.54856  321.52232  160.76116"
      ]
     },
     "execution_count": 45,
     "metadata": {},
     "output_type": "execute_result"
    }
   ],
   "source": [
    "# define custom functions to call on each value\n",
    "def convert_to_feet(metres):\n",
    "    feet = 3.28084 * metres\n",
    "    return feet\n",
    "    \n",
    "feet_df = df.apply(convert_to_feet)\n",
    "feet_df"
   ]
  },
  {
   "cell_type": "code",
   "execution_count": 46,
   "metadata": {},
   "outputs": [
    {
     "data": {
      "text/html": [
       "<div>\n",
       "<style scoped>\n",
       "    .dataframe tbody tr th:only-of-type {\n",
       "        vertical-align: middle;\n",
       "    }\n",
       "\n",
       "    .dataframe tbody tr th {\n",
       "        vertical-align: top;\n",
       "    }\n",
       "\n",
       "    .dataframe thead th {\n",
       "        text-align: right;\n",
       "    }\n",
       "</style>\n",
       "<table border=\"1\" class=\"dataframe\">\n",
       "  <thead>\n",
       "    <tr style=\"text-align: right;\">\n",
       "      <th></th>\n",
       "      <th>a</th>\n",
       "      <th>b</th>\n",
       "      <th>c</th>\n",
       "      <th>row_sum</th>\n",
       "      <th>row_mean</th>\n",
       "      <th>mult_row</th>\n",
       "    </tr>\n",
       "  </thead>\n",
       "  <tbody>\n",
       "    <tr>\n",
       "      <th>0</th>\n",
       "      <td>12</td>\n",
       "      <td>4</td>\n",
       "      <td>7</td>\n",
       "      <td>23</td>\n",
       "      <td>11.5</td>\n",
       "      <td>336.0</td>\n",
       "    </tr>\n",
       "    <tr>\n",
       "      <th>1</th>\n",
       "      <td>22</td>\n",
       "      <td>5</td>\n",
       "      <td>93</td>\n",
       "      <td>120</td>\n",
       "      <td>60.0</td>\n",
       "      <td>10230.0</td>\n",
       "    </tr>\n",
       "    <tr>\n",
       "      <th>2</th>\n",
       "      <td>3</td>\n",
       "      <td>61</td>\n",
       "      <td>34</td>\n",
       "      <td>98</td>\n",
       "      <td>49.0</td>\n",
       "      <td>6222.0</td>\n",
       "    </tr>\n",
       "  </tbody>\n",
       "</table>\n",
       "</div>"
      ],
      "text/plain": [
       "    a   b   c  row_sum  row_mean  mult_row\n",
       "0  12   4   7       23      11.5     336.0\n",
       "1  22   5  93      120      60.0   10230.0\n",
       "2   3  61  34       98      49.0    6222.0"
      ]
     },
     "execution_count": 46,
     "metadata": {},
     "output_type": "execute_result"
    }
   ],
   "source": [
    "# define custom function to call on each row\n",
    "def multiply_row(row):\n",
    "    mult_row = row['a'] * row['b'] * row['c']\n",
    "    return mult_row\n",
    "\n",
    "# apply on each row\n",
    "df['mult_row'] = df.apply(multiply_row, axis=1)\n",
    "df"
   ]
  },
  {
   "cell_type": "code",
   "execution_count": 48,
   "metadata": {},
   "outputs": [
    {
     "data": {
      "text/plain": [
       "a           7.920000e+02\n",
       "b           1.220000e+03\n",
       "c           2.213400e+04\n",
       "row_sum     2.704800e+05\n",
       "row_mean    3.381000e+04\n",
       "mult_row    2.138676e+10\n",
       "dtype: float64"
      ]
     },
     "execution_count": 48,
     "metadata": {},
     "output_type": "execute_result"
    }
   ],
   "source": [
    "# define custom function to call on each column\n",
    "def multiply_values(vals):\n",
    "    res = 1\n",
    "    for val in vals:\n",
    "        res = res * val\n",
    "    return res\n",
    "\n",
    "# apply multiply_values to each column\n",
    "mult_columns = df.apply(multiply_values, axis=0)\n",
    "mult_columns"
   ]
  },
  {
   "cell_type": "markdown",
   "metadata": {},
   "source": [
    "## Examples of functions\n",
    "\n",
    "- These are examples of functions that perform realistic operations in data science.\n",
    "- Note that the **function name** and **parameter names** should be as clear as possible. If you call your parameters `a` `b` `c`, you might unable to understand what they mean in a few weeks.\n",
    "- Note the **comment** below the function name delimited by `'''`: This is the conventional way of explaning what a function does. This comment can then be accessed anywhere with `help(function_name)`."
   ]
  },
  {
   "cell_type": "code",
   "execution_count": 50,
   "metadata": {},
   "outputs": [],
   "source": [
    "# example 1\n",
    "def count_negative(nums):\n",
    "    '''\n",
    "    Count negative numbers in list nums.\n",
    "    Args:\n",
    "        nums: a list of numbers\n",
    "    Returns:\n",
    "        The number of negative numbers\n",
    "    '''\n",
    "    # initialise the counter\n",
    "    i = 0\n",
    "    for n in nums:\n",
    "        if n < 0: \n",
    "            i += 1 # increase counter i by 1\n",
    "    return i\n",
    "\n",
    "# show function help\n",
    "help(count_negative)"
   ]
  },
  {
   "cell_type": "code",
   "execution_count": 51,
   "metadata": {},
   "outputs": [
    {
     "name": "stdout",
     "output_type": "stream",
     "text": [
      "2\n",
      "0\n",
      "0\n"
     ]
    }
   ],
   "source": [
    "print(count_negative([-1,3,10,-20,4]))\n",
    "print(count_negative([3,10,4]))\n",
    "print(count_negative([]))"
   ]
  },
  {
   "cell_type": "code",
   "execution_count": 53,
   "metadata": {},
   "outputs": [
    {
     "name": "stdout",
     "output_type": "stream",
     "text": [
      "Help on function remove_spaces in module __main__:\n",
      "\n",
      "remove_spaces(str_list)\n",
      "    Removes spaces from a list of strings.\n",
      "    Args:\n",
      "        str_list: list of strings\n",
      "    Returns: the list of strings without spaces\n",
      "\n"
     ]
    }
   ],
   "source": [
    "# example 2\n",
    "def remove_spaces( str_list ):\n",
    "    '''Removes spaces from a list of strings.\n",
    "    Args:\n",
    "        str_list: list of strings\n",
    "    Returns: the list of strings without spaces\n",
    "    '''\n",
    "    results = []\n",
    "    for s in str_list:\n",
    "        # remove spaces\n",
    "        clean_s = s.replace(' ','')\n",
    "        # add to results\n",
    "        results.append(clean_s)\n",
    "    return results\n",
    "\n",
    "help(remove_spaces)"
   ]
  },
  {
   "cell_type": "code",
   "execution_count": 55,
   "metadata": {},
   "outputs": [
    {
     "name": "stdout",
     "output_type": "stream",
     "text": [
      "['RioDeJaneiro', 'London', 'MexicoCity', 'AddisAbaba']\n",
      "[]\n"
     ]
    }
   ],
   "source": [
    "# test the function\n",
    "cities = remove_spaces(['Rio De Janeiro','London','Mexico City ',' Addis Ababa'])\n",
    "print(cities)\n",
    "\n",
    "# test behaviour with empty list\n",
    "cities = remove_spaces([])\n",
    "print(cities)"
   ]
  },
  {
   "cell_type": "markdown",
   "metadata": {},
   "source": [
    "## A spatial example: Haversine formula\n",
    "- In geographic data science, we often make calculations with geo-coordinates. \n",
    "- It is very useful to write these calculations in small functions with a clear input and output that can be tested and re-used.\n",
    "- For example, the **haversine formula** determines the great-circle distance between two points on a sphere given their longitudes and latitudes and can be used to approximate distances on the Earth surface.\n",
    "\n",
    "<img src=\"img/haversine1.png\" width=400>\n",
    "\n",
    "- where $r$ is the radius of the Earth, $\\phi_1$ and  $\\phi_1$ are the latitudes and $\\lambda_1$ and $\\lambda_2$ are the longitudes.\n",
    "- Note that calculus always use **radians** and not degrees. Hence, we have to convert all lat/lon degrees into radians before calculating haversine. A radian is calculated as $d (\\pi/180)$, where $d$ is degrees.\n",
    "\n",
    "<img src=\"img/radians1.png\" width=380>\n",
    "\n",
    "- Note that when coding it is recommended to write lat/lon pairs as **LON/LAT** pairs. This is because lon refers to the horizontal axis (x) and lat to vertical axis (y). Writing y/x pairs is counter-intuitive and potentially confusing when switching between geographic and projected reference systems.\n",
    "- It is useful to write lat/lon as **LAT_Y** and **LON_X**, showing x/y explicitly."
   ]
  },
  {
   "cell_type": "code",
   "execution_count": 61,
   "metadata": {},
   "outputs": [],
   "source": [
    "# For brevity, we can import the function from a module directly.\n",
    "# This way we can call 'sin()' and not 'math.sin()':\n",
    "from math import sin, cos, sqrt, atan2, radians\n",
    "\n",
    "def distance_latlon(xlon1deg, ylat1deg, xlon2deg, ylat2deg):\n",
    "    ''' Calculate distance on Earth surface between two lat/lon points.\n",
    "    Args:\n",
    "        xlon1deg, ylat1deg, xlon2deg, ylat2deg: coordinates in degrees.\n",
    "    Returns:\n",
    "        The approximate distance in KM.\n",
    "    '''\n",
    "    # convert all degrees into radians\n",
    "    lat1 = radians(ylat1deg)\n",
    "    lon1 = radians(xlon1deg)\n",
    "    lat2 = radians(ylat2deg)\n",
    "    lon2 = radians(xlon2deg)\n",
    "    # approximate radius of earth in km\n",
    "    r_km = 6371.0\n",
    "    dlon = lon2 - lon1\n",
    "    dlat = lat2 - lat1\n",
    "    # haversine formula in Python:\n",
    "    a = sin(dlat / 2)**2 + cos(lat1) * cos(lat2) * sin(dlon / 2)**2\n",
    "    c = 2 * atan2(sqrt(a), sqrt(1 - a))\n",
    "    distance_km = r_km * c\n",
    "    return distance_km"
   ]
  },
  {
   "cell_type": "markdown",
   "metadata": {},
   "source": [
    "- When writing a function, you should always **TEST** it to make sure that the results are correct.\n",
    "- Testing a function requires trying out different examples of input and examining the output.\n",
    "- **Edge cases** are extreme cases that the function might mishandle: For example, what happens if we call the function on `None` or on usual or invalid values?"
   ]
  },
  {
   "cell_type": "code",
   "execution_count": 63,
   "metadata": {},
   "outputs": [],
   "source": [
    "# Centroids of three cities (as lists of two values):\n",
    "london_lonlat = [-0.126236,51.500153]\n",
    "manchester_lonlat = [2.2426, 53.4808]\n",
    "nairobi_lonlat = [36.813107, -1.274359]"
   ]
  },
  {
   "cell_type": "code",
   "execution_count": 64,
   "metadata": {},
   "outputs": [
    {
     "name": "stdout",
     "output_type": "stream",
     "text": [
      "dist(London,Manchester) in km: 272.4\n",
      "convert_distance 272.4148708486612 km miles\n",
      "dist(London,Manchester) in miles: 169.3\n"
     ]
    }
   ],
   "source": [
    "# use [0] and [1] to access the specific values\n",
    "# round the results\n",
    "d = distance_latlon(london_lonlat[0], london_lonlat[1], \n",
    "                    manchester_lonlat[0], manchester_lonlat[1])\n",
    "print('dist(London,Manchester) in km:', round(d,1))\n",
    "# use convert_distance to show the distances in miles too\n",
    "print('dist(London,Manchester) in miles:', round(convert_distance(d,'km','miles'),1))"
   ]
  },
  {
   "cell_type": "code",
   "execution_count": 65,
   "metadata": {},
   "outputs": [
    {
     "name": "stdout",
     "output_type": "stream",
     "text": [
      "dist(Nairobi,London) in km: 6817.7\n"
     ]
    }
   ],
   "source": [
    "d = distance_latlon(nairobi_lonlat[0], nairobi_lonlat[1], \n",
    "                    london_lonlat[0], london_lonlat[1])\n",
    "print('dist(Nairobi,London) in km:', round(d,1))"
   ]
  },
  {
   "cell_type": "code",
   "execution_count": 66,
   "metadata": {},
   "outputs": [
    {
     "name": "stdout",
     "output_type": "stream",
     "text": [
      "dist(Nairobi,Manchester) in km: 6875.7\n"
     ]
    }
   ],
   "source": [
    "d = distance_latlon(nairobi_lonlat[0], nairobi_lonlat[1], \n",
    "                    manchester_lonlat[0], manchester_lonlat[1])\n",
    "print('dist(Nairobi,Manchester) in km:', round(d,1))"
   ]
  },
  {
   "cell_type": "code",
   "execution_count": 67,
   "metadata": {},
   "outputs": [
    {
     "name": "stdout",
     "output_type": "stream",
     "text": [
      "0.0\n"
     ]
    },
    {
     "ename": "TypeError",
     "evalue": "must be real number, not NoneType",
     "output_type": "error",
     "traceback": [
      "\u001b[0;31m---------------------------------------------------------------------------\u001b[0m",
      "\u001b[0;31mTypeError\u001b[0m                                 Traceback (most recent call last)",
      "\u001b[0;32m<ipython-input-67-034ee9a15404>\u001b[0m in \u001b[0;36m<module>\u001b[0;34m\u001b[0m\n\u001b[1;32m      1\u001b[0m \u001b[0;31m# Testing edge cases\u001b[0m\u001b[0;34m\u001b[0m\u001b[0;34m\u001b[0m\u001b[0;34m\u001b[0m\u001b[0m\n\u001b[1;32m      2\u001b[0m \u001b[0mprint\u001b[0m\u001b[0;34m(\u001b[0m\u001b[0mdistance_latlon\u001b[0m\u001b[0;34m(\u001b[0m\u001b[0;36m0\u001b[0m\u001b[0;34m,\u001b[0m \u001b[0;36m0\u001b[0m\u001b[0;34m,\u001b[0m \u001b[0;36m0\u001b[0m\u001b[0;34m,\u001b[0m \u001b[0;36m0\u001b[0m\u001b[0;34m)\u001b[0m\u001b[0;34m)\u001b[0m\u001b[0;34m\u001b[0m\u001b[0;34m\u001b[0m\u001b[0m\n\u001b[0;32m----> 3\u001b[0;31m \u001b[0mdistance_latlon\u001b[0m\u001b[0;34m(\u001b[0m\u001b[0;32mNone\u001b[0m\u001b[0;34m,\u001b[0m \u001b[0;34m-\u001b[0m\u001b[0;36m10000\u001b[0m\u001b[0;34m,\u001b[0m \u001b[0;32mNone\u001b[0m\u001b[0;34m,\u001b[0m \u001b[0;36m0\u001b[0m\u001b[0;34m)\u001b[0m\u001b[0;34m\u001b[0m\u001b[0;34m\u001b[0m\u001b[0m\n\u001b[0m\u001b[1;32m      4\u001b[0m \u001b[0;31m# None returns an error. This is the correct behaviour\u001b[0m\u001b[0;34m\u001b[0m\u001b[0;34m\u001b[0m\u001b[0;34m\u001b[0m\u001b[0m\n\u001b[1;32m      5\u001b[0m \u001b[0;31m# as we cannot calculate distance between null values.\u001b[0m\u001b[0;34m\u001b[0m\u001b[0;34m\u001b[0m\u001b[0;34m\u001b[0m\u001b[0m\n",
      "\u001b[0;32m<ipython-input-61-c35f8dc423b8>\u001b[0m in \u001b[0;36mdistance_latlon\u001b[0;34m(xlon1deg, ylat1deg, xlon2deg, ylat2deg)\u001b[0m\n\u001b[1;32m     12\u001b[0m     \u001b[0;31m# convert all degrees into radians\u001b[0m\u001b[0;34m\u001b[0m\u001b[0;34m\u001b[0m\u001b[0;34m\u001b[0m\u001b[0m\n\u001b[1;32m     13\u001b[0m     \u001b[0mlat1\u001b[0m \u001b[0;34m=\u001b[0m \u001b[0mradians\u001b[0m\u001b[0;34m(\u001b[0m\u001b[0mylat1deg\u001b[0m\u001b[0;34m)\u001b[0m\u001b[0;34m\u001b[0m\u001b[0;34m\u001b[0m\u001b[0m\n\u001b[0;32m---> 14\u001b[0;31m     \u001b[0mlon1\u001b[0m \u001b[0;34m=\u001b[0m \u001b[0mradians\u001b[0m\u001b[0;34m(\u001b[0m\u001b[0mxlon1deg\u001b[0m\u001b[0;34m)\u001b[0m\u001b[0;34m\u001b[0m\u001b[0;34m\u001b[0m\u001b[0m\n\u001b[0m\u001b[1;32m     15\u001b[0m     \u001b[0mlat2\u001b[0m \u001b[0;34m=\u001b[0m \u001b[0mradians\u001b[0m\u001b[0;34m(\u001b[0m\u001b[0mylat2deg\u001b[0m\u001b[0;34m)\u001b[0m\u001b[0;34m\u001b[0m\u001b[0;34m\u001b[0m\u001b[0m\n\u001b[1;32m     16\u001b[0m     \u001b[0mlon2\u001b[0m \u001b[0;34m=\u001b[0m \u001b[0mradians\u001b[0m\u001b[0;34m(\u001b[0m\u001b[0mxlon2deg\u001b[0m\u001b[0;34m)\u001b[0m\u001b[0;34m\u001b[0m\u001b[0;34m\u001b[0m\u001b[0m\n",
      "\u001b[0;31mTypeError\u001b[0m: must be real number, not NoneType"
     ]
    }
   ],
   "source": [
    "# Testing edge cases\n",
    "print(distance_latlon(0, 0, 0, 0))\n",
    "distance_latlon(None, -10000, None, 0)\n",
    "# None returns an error. This is the correct behaviour \n",
    "# as we cannot calculate distance between null values."
   ]
  },
  {
   "cell_type": "code",
   "execution_count": 68,
   "metadata": {},
   "outputs": [
    {
     "name": "stdout",
     "output_type": "stream",
     "text": [
      "Help on function distance_latlon in module __main__:\n",
      "\n",
      "distance_latlon(xlon1deg, ylat1deg, xlon2deg, ylat2deg)\n",
      "    Calculate distance on Earth surface between two lat/lon points.\n",
      "    Args:\n",
      "        xlon1deg, ylat1deg, xlon2deg, ylat2deg: coordinates in degrees.\n",
      "    Returns:\n",
      "        The approximate distance in KM.\n",
      "\n"
     ]
    }
   ],
   "source": [
    "help(distance_latlon)"
   ]
  },
  {
   "cell_type": "markdown",
   "metadata": {},
   "source": [
    "---\n",
    "## Reasoning with time in Python\n",
    "\n",
    "- In geographic data science, spatio-temporal data is our bread and butter. Time matters!\n",
    "- In Python, the package `datetime` provides useful functionality to handle temporal information. This package contains a lot of complex knowledge about how we organise and measure time, mostly based on the [Gregorian Calendar](https://www.britannica.com/topic/Gregorian-calendar). \n",
    "- Thanks to this package, you can confidently know what day of the week it was on the 2nd of February 1950 and how many days February will have in 2050.\n",
    "- **Time series analysis** is an important part of data science.\n",
    "\n",
    "### Datetime\n",
    "\n",
    "- A very common type of temporal information is the **timestamp**, which indicates a point in time as precisely as possible (`datetime.datetime`). `.ctime()` returns a human-readable version of a datetime object.\n"
   ]
  },
  {
   "cell_type": "code",
   "execution_count": 75,
   "metadata": {},
   "outputs": [
    {
     "name": "stdout",
     "output_type": "stream",
     "text": [
      "2021-01-18 15:16:52.639524\n",
      "Mon Jan 18 15:16:52 2021\n"
     ]
    }
   ],
   "source": [
    "from datetime import datetime\n",
    "\n",
    "# print current timestamp\n",
    "ts = datetime.now()\n",
    "print(ts)\n",
    "print(ts.ctime())"
   ]
  },
  {
   "cell_type": "markdown",
   "metadata": {},
   "source": [
    "- Often we need to extract elements from a timestamp, for example getting the date with `.date()` and hours, minutes, and seconds."
   ]
  },
  {
   "cell_type": "code",
   "execution_count": 77,
   "metadata": {},
   "outputs": [
    {
     "name": "stdout",
     "output_type": "stream",
     "text": [
      "2021\n",
      "1\n",
      "18\n"
     ]
    }
   ],
   "source": [
    "ts_date = ts.date()\n",
    "print(ts_date.year)\n",
    "print(ts_date.month)\n",
    "print(ts_date.day)"
   ]
  },
  {
   "cell_type": "code",
   "execution_count": 79,
   "metadata": {},
   "outputs": [
    {
     "name": "stdout",
     "output_type": "stream",
     "text": [
      "15 17 50\n"
     ]
    }
   ],
   "source": [
    "# update timestamp to see time passing\n",
    "ts = datetime.now()\n",
    "# extract hour, minute, second\n",
    "print(ts.hour, ts.minute, ts.second)"
   ]
  },
  {
   "cell_type": "code",
   "execution_count": 80,
   "metadata": {},
   "outputs": [
    {
     "data": {
      "text/plain": [
       "'2021-01-18T15:17:50.592366'"
      ]
     },
     "execution_count": 80,
     "metadata": {},
     "output_type": "execute_result"
    }
   ],
   "source": [
    "# print timestamp using ISO standard format. \n",
    "# This is useful to express a datetime as a string in a standard way:\n",
    "ts.isoformat()"
   ]
  },
  {
   "cell_type": "markdown",
   "metadata": {},
   "source": [
    "- Using `.strftime`, we can extract information from a datetime object in a very flexible way. For example, `%A` means full name of the week day, `%B` month full name (see https://docs.python.org/3/library/datetime.html#strftime-strptime-behavior for reference):"
   ]
  },
  {
   "cell_type": "code",
   "execution_count": 84,
   "metadata": {},
   "outputs": [
    {
     "name": "stdout",
     "output_type": "stream",
     "text": [
      "Thursday\n",
      "Thursday, 02 February 1950\n"
     ]
    }
   ],
   "source": [
    "# what day was it on 2 Feb 1950?\n",
    "some_day = datetime(1950, 2, 2, 0, 0, 0, 0)\n",
    "print(some_day.strftime('%A'))\n",
    "\n",
    "# print date in an arbitrary format\n",
    "print(some_day.strftime('%A, %d %B %Y'))"
   ]
  },
  {
   "cell_type": "markdown",
   "metadata": {},
   "source": [
    "### Time deltas\n",
    "\n",
    "- In Python, we can easily calculate time differences, for example the time elapsed from the French Revolution (5th of May, 1789):"
   ]
  },
  {
   "cell_type": "code",
   "execution_count": 91,
   "metadata": {},
   "outputs": [
    {
     "name": "stdout",
     "output_type": "stream",
     "text": [
      "84598 days, 15:23:32.106150\n"
     ]
    }
   ],
   "source": [
    "# create a specific datetime in the past\n",
    "french_revolution = datetime(1789, 6, 5, 0, 0, 0, 0)\n",
    "# calculate difference\n",
    "time_elapsed = datetime.now() - french_revolution\n",
    "# this object is of type datetime.timedelta\n",
    "print(time_elapsed)"
   ]
  },
  {
   "cell_type": "code",
   "execution_count": 98,
   "metadata": {},
   "outputs": [
    {
     "name": "stdout",
     "output_type": "stream",
     "text": [
      "0:00:00.000005\n"
     ]
    }
   ],
   "source": [
    "# Executing datetime.now() is not a big deal for your computer,\n",
    "# but it takes a tiny amount of time. To see how long it takes, you can do:\n",
    "how_fast = -(datetime.now() - datetime.now())\n",
    "print(how_fast)\n",
    "# for example on my computer it took 00.000004 seconds (4 microseconds)."
   ]
  },
  {
   "cell_type": "markdown",
   "metadata": {},
   "source": [
    "- Sometimes, particularly when we interact with remote servers, we want to tell the system to wait for a while.\n",
    "The function `time.sleep(seconds)` allows you to do that."
   ]
  },
  {
   "cell_type": "code",
   "execution_count": 100,
   "metadata": {},
   "outputs": [
    {
     "name": "stdout",
     "output_type": "stream",
     "text": [
      "Sleeping for 3 seconds...\n",
      "Awake.\n"
     ]
    }
   ],
   "source": [
    "import time\n",
    "print(\"Sleeping for 3 seconds...\")\n",
    "time.sleep(3)\n",
    "print(\"Awake.\")"
   ]
  },
  {
   "cell_type": "markdown",
   "metadata": {},
   "source": [
    "### Coordinated Universal Time\n",
    "- In the same way that coordinates must be expressed in a spatial reference system to be meaningful, absolute temporal information must be linked to a **time zone**. Intuitively, 14:00 indicates a different time in London and in Delhi.\n",
    "- The **Coordinated Universal Time (UTC)** is a critical piece of our infrastructure that allows any machine to synchronise across the globe, including smartphones, satellites, stock market servers, and cargo ships. UTC is based on the Universal Time (UT), the mean solar time of the Greenwich meridian (0° longitude) (see [Britannica entry](https://www.britannica.com/science/Coordinated-Universal-Time)).\n",
    "- In Python, you can use `datetime.utcnow()` to see the current time in UTC. The function `.ctime()` returns a human-readable format of the timestamp."
   ]
  },
  {
   "cell_type": "code",
   "execution_count": 101,
   "metadata": {},
   "outputs": [
    {
     "name": "stdout",
     "output_type": "stream",
     "text": [
      "Machine-friendly format:\n",
      "2021-01-18 15:28:49.903815\n",
      "2021-01-18 15:28:49.903907\n",
      "\n",
      "Human format using ctime:\n",
      "Mon Jan 18 15:28:49 2021\n",
      "Mon Jan 18 15:28:49 2021\n",
      "\n",
      "ISO format:\n",
      "2021-01-18T15:28:49.904287\n",
      "2021-01-18T15:28:49.904363\n"
     ]
    }
   ],
   "source": [
    "# note that your computer will take a few nanoseconds to execute these instructions,\n",
    "# so you will see a lag between them:\n",
    "print('Machine-friendly format:')\n",
    "print(datetime.utcnow())\n",
    "print(datetime.now())\n",
    "\n",
    "print('\\nHuman format using ctime:')\n",
    "print(datetime.utcnow().ctime())\n",
    "print(datetime.now().ctime())\n",
    "\n",
    "print('\\nISO format:')\n",
    "print(datetime.utcnow().isoformat())\n",
    "print(datetime.now().isoformat())"
   ]
  },
  {
   "cell_type": "markdown",
   "metadata": {},
   "source": [
    "### Time zones\n",
    "\n",
    "- When working with real-world temporal data, **we must use timezones**.\n",
    "- The package `pytz` allows you to manipulate time zones in an intuitive way (see a [short guide here](https://techmonger.github.io/32/pytz-example-conversion/))."
   ]
  },
  {
   "cell_type": "code",
   "execution_count": 102,
   "metadata": {},
   "outputs": [
    {
     "data": {
      "text/plain": [
       "datetime.timezone(datetime.timedelta(0), 'GMT')"
      ]
     },
     "execution_count": 102,
     "metadata": {},
     "output_type": "execute_result"
    }
   ],
   "source": [
    "import pytz\n",
    "from datetime import timezone\n",
    "\n",
    "# what is the local time zone?\n",
    "local_tmz = datetime.now().astimezone().tzinfo\n",
    "local_tmz"
   ]
  },
  {
   "cell_type": "code",
   "execution_count": 104,
   "metadata": {},
   "outputs": [
    {
     "name": "stdout",
     "output_type": "stream",
     "text": [
      "UTC: 2021-01-18T15:31:29.918786+00:00\n",
      "US Pacific: 2021-01-18T07:31:29.921635-08:00\n",
      "Cairo: 2021-01-18T17:31:29.922762+02:00\n"
     ]
    }
   ],
   "source": [
    "# get current time stating that we want it in UTC\n",
    "utc_now = datetime.now(timezone.utc)\n",
    "pacific_now = datetime.now(pytz.timezone('US/Pacific'))\n",
    "cairo_now = datetime.now(pytz.timezone('Africa/Cairo'))\n",
    "\n",
    "print(\"UTC:\", utc_now.isoformat())\n",
    "print(\"US Pacific:\", pacific_now.isoformat())\n",
    "print(\"Cairo:\", cairo_now.isoformat())"
   ]
  },
  {
   "cell_type": "code",
   "execution_count": 106,
   "metadata": {},
   "outputs": [
    {
     "data": {
      "text/plain": [
       "['Africa/Abidjan',\n",
       " 'Africa/Accra',\n",
       " 'Africa/Addis_Ababa',\n",
       " 'Africa/Algiers',\n",
       " 'Africa/Asmara',\n",
       " 'Africa/Bamako',\n",
       " 'Africa/Bangui',\n",
       " 'Africa/Banjul',\n",
       " 'Africa/Bissau',\n",
       " 'Africa/Blantyre',\n",
       " 'Africa/Brazzaville',\n",
       " 'Africa/Bujumbura',\n",
       " 'Africa/Cairo',\n",
       " 'Africa/Casablanca',\n",
       " 'Africa/Ceuta',\n",
       " 'Africa/Conakry',\n",
       " 'Africa/Dakar',\n",
       " 'Africa/Dar_es_Salaam',\n",
       " 'Africa/Djibouti',\n",
       " 'Africa/Douala']"
      ]
     },
     "execution_count": 106,
     "metadata": {},
     "output_type": "execute_result"
    }
   ],
   "source": [
    "# common time zones (first 20):\n",
    "pytz.common_timezones[:20]"
   ]
  },
  {
   "cell_type": "markdown",
   "metadata": {},
   "source": [
    "- Datetime objects can be compared with operators `=`, `<` and `>` as if they were simple numbers:"
   ]
  },
  {
   "cell_type": "code",
   "execution_count": 108,
   "metadata": {},
   "outputs": [
    {
     "name": "stdout",
     "output_type": "stream",
     "text": [
      "time1 after time2? True\n",
      "time1 before today? True\n"
     ]
    }
   ],
   "source": [
    "today = datetime.now()\n",
    "time1 = datetime(2015, 1, 1, 0, 0, 0, 0)\n",
    "time2 = datetime(2010, 1, 1, 0, 0, 0, 0)\n",
    "\n",
    "print(\"time1 after time2?\", time1 > time2)\n",
    "print(\"time1 before today?\", time1 < today)"
   ]
  },
  {
   "cell_type": "code",
   "execution_count": 109,
   "metadata": {},
   "outputs": [
    {
     "data": {
      "text/plain": [
       "[datetime.datetime(2015, 1, 1, 0, 0),\n",
       " datetime.datetime(2021, 1, 18, 15, 33, 54, 56515),\n",
       " datetime.datetime(2010, 1, 1, 0, 0)]"
      ]
     },
     "execution_count": 109,
     "metadata": {},
     "output_type": "execute_result"
    }
   ],
   "source": [
    "# make a list\n",
    "times = [time1,today,time2]\n",
    "times"
   ]
  },
  {
   "cell_type": "code",
   "execution_count": 110,
   "metadata": {},
   "outputs": [
    {
     "data": {
      "text/plain": [
       "[datetime.datetime(2010, 1, 1, 0, 0),\n",
       " datetime.datetime(2015, 1, 1, 0, 0),\n",
       " datetime.datetime(2021, 1, 18, 15, 33, 54, 56515)]"
      ]
     },
     "execution_count": 110,
     "metadata": {},
     "output_type": "execute_result"
    }
   ],
   "source": [
    "# sort times\n",
    "times = sorted(times)\n",
    "times"
   ]
  },
  {
   "cell_type": "markdown",
   "metadata": {},
   "source": [
    "End of notebook"
   ]
  }
 ],
 "metadata": {
  "kernelspec": {
   "display_name": "Python 3",
   "language": "python",
   "name": "python3"
  },
  "language_info": {
   "codemirror_mode": {
    "name": "ipython",
    "version": 3
   },
   "file_extension": ".py",
   "mimetype": "text/x-python",
   "name": "python",
   "nbconvert_exporter": "python",
   "pygments_lexer": "ipython3",
   "version": "3.9.1"
  }
 },
 "nbformat": 4,
 "nbformat_minor": 4
}
