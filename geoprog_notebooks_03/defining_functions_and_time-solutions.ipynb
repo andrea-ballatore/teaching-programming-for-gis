{
 "cells": [
  {
   "cell_type": "markdown",
   "metadata": {},
   "source": [
    "# Defining functions and working with time in Python: Exercise solutions\n",
    "\n",
    "**Author**: Andrea Ballatore (Birkbeck, University of London)\n",
    "\n",
    "**Abstract**: Learn how to use and define functions and how to manipulate temporal information in Python.\n",
    "\n",
    "## Setup\n",
    "This is to check that your environment is set up correctly (it should print 'env ok', ignore warnings)."
   ]
  },
  {
   "cell_type": "code",
   "execution_count": 1,
   "metadata": {},
   "outputs": [
    {
     "name": "stdout",
     "output_type": "stream",
     "text": [
      "Conda env: geoprogv1\n",
      "env ok\n"
     ]
    }
   ],
   "source": [
    "# Test geospatial libraries\n",
    "# check environment\n",
    "import os\n",
    "print(\"Conda env:\", os.environ['CONDA_DEFAULT_ENV'])\n",
    "assert os.environ['CONDA_DEFAULT_ENV'] == 'geoprogv1'\n",
    "# spatial libraries \n",
    "import fiona as fi\n",
    "import geopandas as gpd\n",
    "import pandas as pd\n",
    "import pysal as sal\n",
    "\n",
    "# create output folders\n",
    "folders = ['tmp']\n",
    "for f in folders:\n",
    "    if not os.path.exists(f):\n",
    "        os.makedirs(f)\n",
    "\n",
    "print('env ok')"
   ]
  },
  {
   "cell_type": "markdown",
   "metadata": {},
   "source": [
    "-----\n",
    "## Exercises\n",
    "\n",
    "When you are in doubt about how a package or a function work, use the Python website (https://docs.python.org/3.9/) and **Google** to find relevant documentation."
   ]
  },
  {
   "cell_type": "markdown",
   "metadata": {},
   "source": [
    "a. Write and test a function that takes the coordinates of two points and returns the Euclidean distance. Test the function with at least 4 pairs of points."
   ]
  },
  {
   "cell_type": "code",
   "execution_count": 3,
   "metadata": {},
   "outputs": [
    {
     "name": "stdout",
     "output_type": "stream",
     "text": [
      "1.4142135623730951\n",
      "0.0\n"
     ]
    }
   ],
   "source": [
    "def euclidean_distance(pt_a, pt_b):\n",
    "    \"\"\" Calculate Euclidean distance between two dimensional points \"\"\"\n",
    "    pt_a_x = pt_a[0]\n",
    "    pt_a_y = pt_a[1]\n",
    "    pt_b_x = pt_b[0]\n",
    "    pt_b_y = pt_b[1]\n",
    "    \n",
    "    squares = [(pt_b_x-pt_a_x)**2 + (pt_b_y-pt_a_y)**2]\n",
    "    dist = sum(squares) ** .5\n",
    "    return dist\n",
    "\n",
    "# test function\n",
    "print(euclidean_distance([1,2],[2,3]))\n",
    "print(euclidean_distance([0,0],[0,0]))"
   ]
  },
  {
   "cell_type": "code",
   "execution_count": 4,
   "metadata": {},
   "outputs": [
    {
     "name": "stdout",
     "output_type": "stream",
     "text": [
      "3.0\n"
     ]
    }
   ],
   "source": [
    "# In reality, you do not need to write these well-known functions yourselves.\n",
    "# the package numpy provides a very fast implementation of the euclidean distance\n",
    "# for multi-dimensional points.\n",
    "\n",
    "import numpy as np\n",
    "\n",
    "# numpy arrays \n",
    "point1 = np.array((1, 2, 3)) \n",
    "point2 = np.array((1, 1, 1)) \n",
    "  \n",
    "# calculating Euclidean distance \n",
    "# using linalg.norm() \n",
    "dist = np.linalg.norm(point1 - point2) \n",
    "  \n",
    "# printing Euclidean distance \n",
    "print(dist)"
   ]
  },
  {
   "cell_type": "markdown",
   "metadata": {},
   "source": [
    "b. Given a list of values representing GDP annual growth, write a function that classifies them with the following categories:\n",
    "\n",
    "- `bust`: < -4\n",
    "- `negative`: < -.05\n",
    "- `zero`: [-.05,.05]\n",
    "- `positive`: > .05\n",
    "- `boom`: > 4"
   ]
  },
  {
   "cell_type": "code",
   "execution_count": 5,
   "metadata": {},
   "outputs": [
    {
     "data": {
      "text/plain": [
       "['bust', 'boom', 'negative', 'positive', 'positive', 'boom', 'negative']"
      ]
     },
     "execution_count": 5,
     "metadata": {},
     "output_type": "execute_result"
    }
   ],
   "source": [
    "def classify_growth(growth_rate):\n",
    "    \"\"\" Classify growth rate \"\"\"\n",
    "    if growth_rate < -4:\n",
    "        return 'bust'\n",
    "    elif growth_rate < -.05:\n",
    "        # here we know that growth_rate >= -4\n",
    "        return 'negative'\n",
    "    elif growth_rate < .05:\n",
    "        # here we know that growth_rate >= -.05\n",
    "        return 'zero'\n",
    "    elif growth_rate < 4:\n",
    "        # here we know that growth_rate >= .05\n",
    "        return 'positive'\n",
    "    else:\n",
    "        assert growth_rate > 4, \"check if value is > 4\"\n",
    "        return 'boom'\n",
    "\n",
    "growth_rates = [-4.103, 10.53, -.4, 0.1, .5, 4.56, -2.45]\n",
    "\n",
    "# use list comprehension to call the function\n",
    "growth_rates_classified = [classify_growth(g) for g in growth_rates]\n",
    "\n",
    "growth_rates_classified"
   ]
  },
  {
   "cell_type": "markdown",
   "metadata": {},
   "source": [
    "c. Write a utility function that, given a string, it trims it, replaces all spaces with `_`, and makes it lower case."
   ]
  },
  {
   "cell_type": "code",
   "execution_count": 17,
   "metadata": {},
   "outputs": [
    {
     "data": {
      "text/plain": [
       "'_Greater_London_'"
      ]
     },
     "execution_count": 17,
     "metadata": {},
     "output_type": "execute_result"
    }
   ],
   "source": [
    "\"\\n  London. \\t\".strip()\n",
    "\"   Greater   London   \".strip().replace(\" \",\"_\")\n",
    "import re\n",
    "ins = \"   Greater                    London   \"\n",
    "# Regular expressions\n",
    "re.sub(\"\\s\\s+\",\"_\",ins)"
   ]
  },
  {
   "cell_type": "code",
   "execution_count": 11,
   "metadata": {},
   "outputs": [
    {
     "name": "stdout",
     "output_type": "stream",
     "text": [
      "['city_of_london', 'hammersmith', 'lambeth', 'enfield', 'kensington_and_chelsea']\n"
     ]
    }
   ],
   "source": [
    "def clean_string(s):\n",
    "    # chain the operations on one line\n",
    "    clean_s = s.strip().lower().replace(' ','_')\n",
    "    return clean_s\n",
    "\n",
    "# test function\n",
    "clean_strings = []\n",
    "for input_s in [' City of London ', 'Hammersmith ', '  Lambeth', 'ENFIELD ', 'KensinGton and ChelsEa  ']:\n",
    "    clean_strings.append(clean_string(input_s))\n",
    "\n",
    "print(clean_strings)"
   ]
  },
  {
   "cell_type": "markdown",
   "metadata": {},
   "source": [
    "d. Given a data frame with data about cities, write a function to calculate the population growth rate between 2000 and 2020 (e.g., 10% or -4.2%). Round values to the second decimal digit."
   ]
  },
  {
   "cell_type": "code",
   "execution_count": 21,
   "metadata": {},
   "outputs": [
    {
     "data": {
      "text/html": [
       "<div>\n",
       "<style scoped>\n",
       "    .dataframe tbody tr th:only-of-type {\n",
       "        vertical-align: middle;\n",
       "    }\n",
       "\n",
       "    .dataframe tbody tr th {\n",
       "        vertical-align: top;\n",
       "    }\n",
       "\n",
       "    .dataframe thead th {\n",
       "        text-align: right;\n",
       "    }\n",
       "</style>\n",
       "<table border=\"1\" class=\"dataframe\">\n",
       "  <thead>\n",
       "    <tr style=\"text-align: right;\">\n",
       "      <th></th>\n",
       "      <th>city_id</th>\n",
       "      <th>city_name</th>\n",
       "      <th>population_2000</th>\n",
       "      <th>population_2020</th>\n",
       "      <th>area_km2</th>\n",
       "    </tr>\n",
       "  </thead>\n",
       "  <tbody>\n",
       "    <tr>\n",
       "      <th>0</th>\n",
       "      <td>1</td>\n",
       "      <td>London</td>\n",
       "      <td>7195000</td>\n",
       "      <td>8982000</td>\n",
       "      <td>1572</td>\n",
       "    </tr>\n",
       "    <tr>\n",
       "      <th>1</th>\n",
       "      <td>2</td>\n",
       "      <td>Lagos</td>\n",
       "      <td>7281000</td>\n",
       "      <td>14368000</td>\n",
       "      <td>1171</td>\n",
       "    </tr>\n",
       "    <tr>\n",
       "      <th>2</th>\n",
       "      <td>3</td>\n",
       "      <td>Hong Kong</td>\n",
       "      <td>6665000</td>\n",
       "      <td>7451000</td>\n",
       "      <td>1106</td>\n",
       "    </tr>\n",
       "    <tr>\n",
       "      <th>3</th>\n",
       "      <td>4</td>\n",
       "      <td>Lima</td>\n",
       "      <td>7294000</td>\n",
       "      <td>10719000</td>\n",
       "      <td>2672</td>\n",
       "    </tr>\n",
       "  </tbody>\n",
       "</table>\n",
       "</div>"
      ],
      "text/plain": [
       "   city_id  city_name  population_2000  population_2020  area_km2\n",
       "0        1     London          7195000          8982000      1572\n",
       "1        2      Lagos          7281000         14368000      1171\n",
       "2        3  Hong Kong          6665000          7451000      1106\n",
       "3        4       Lima          7294000         10719000      2672"
      ]
     },
     "execution_count": 21,
     "metadata": {},
     "output_type": "execute_result"
    }
   ],
   "source": [
    "cities_df = pd.DataFrame({\"city_id\" : [1,2,3,4],\n",
    "    \"city_name\" : [\"London\", \"Lagos\", \"Hong Kong\", \"Lima\"],\n",
    "    \"population_2000\" : [7195000,  7281000, 6665000,  7294000],\n",
    "    \"population_2020\" : [8982000, 14368000, 7451000, 10719000],\n",
    "    \"area_km2\" : [1572, 1171, 1106, 2672]})\n",
    "cities_df"
   ]
  },
  {
   "cell_type": "code",
   "execution_count": 25,
   "metadata": {},
   "outputs": [
    {
     "data": {
      "text/html": [
       "<div>\n",
       "<style scoped>\n",
       "    .dataframe tbody tr th:only-of-type {\n",
       "        vertical-align: middle;\n",
       "    }\n",
       "\n",
       "    .dataframe tbody tr th {\n",
       "        vertical-align: top;\n",
       "    }\n",
       "\n",
       "    .dataframe thead th {\n",
       "        text-align: right;\n",
       "    }\n",
       "</style>\n",
       "<table border=\"1\" class=\"dataframe\">\n",
       "  <thead>\n",
       "    <tr style=\"text-align: right;\">\n",
       "      <th></th>\n",
       "      <th>city_id</th>\n",
       "      <th>city_name</th>\n",
       "      <th>population_2000</th>\n",
       "      <th>population_2020</th>\n",
       "      <th>area_km2</th>\n",
       "      <th>growth_rate</th>\n",
       "      <th>forecast_pop40</th>\n",
       "      <th>proj_pop40</th>\n",
       "    </tr>\n",
       "  </thead>\n",
       "  <tbody>\n",
       "    <tr>\n",
       "      <th>0</th>\n",
       "      <td>1</td>\n",
       "      <td>London</td>\n",
       "      <td>7195000</td>\n",
       "      <td>8982000</td>\n",
       "      <td>1572</td>\n",
       "      <td>24.84</td>\n",
       "      <td>11213128.8</td>\n",
       "      <td>11213128.8</td>\n",
       "    </tr>\n",
       "    <tr>\n",
       "      <th>1</th>\n",
       "      <td>2</td>\n",
       "      <td>Lagos</td>\n",
       "      <td>7281000</td>\n",
       "      <td>14368000</td>\n",
       "      <td>1171</td>\n",
       "      <td>97.34</td>\n",
       "      <td>28353811.2</td>\n",
       "      <td>28353811.2</td>\n",
       "    </tr>\n",
       "    <tr>\n",
       "      <th>2</th>\n",
       "      <td>3</td>\n",
       "      <td>Hong Kong</td>\n",
       "      <td>6665000</td>\n",
       "      <td>7451000</td>\n",
       "      <td>1106</td>\n",
       "      <td>11.79</td>\n",
       "      <td>8329472.9</td>\n",
       "      <td>8329472.9</td>\n",
       "    </tr>\n",
       "    <tr>\n",
       "      <th>3</th>\n",
       "      <td>4</td>\n",
       "      <td>Lima</td>\n",
       "      <td>7294000</td>\n",
       "      <td>10719000</td>\n",
       "      <td>2672</td>\n",
       "      <td>46.96</td>\n",
       "      <td>15752642.4</td>\n",
       "      <td>15752642.4</td>\n",
       "    </tr>\n",
       "  </tbody>\n",
       "</table>\n",
       "</div>"
      ],
      "text/plain": [
       "   city_id  city_name  population_2000  population_2020  area_km2  \\\n",
       "0        1     London          7195000          8982000      1572   \n",
       "1        2      Lagos          7281000         14368000      1171   \n",
       "2        3  Hong Kong          6665000          7451000      1106   \n",
       "3        4       Lima          7294000         10719000      2672   \n",
       "\n",
       "   growth_rate  forecast_pop40  proj_pop40  \n",
       "0        24.84      11213128.8  11213128.8  \n",
       "1        97.34      28353811.2  28353811.2  \n",
       "2        11.79       8329472.9   8329472.9  \n",
       "3        46.96      15752642.4  15752642.4  "
      ]
     },
     "execution_count": 25,
     "metadata": {},
     "output_type": "execute_result"
    }
   ],
   "source": [
    "\n",
    "def calculate_growth(row):\n",
    "    \"\"\" Calculate growth rate (aka percentage change) between pop 2000 and 2020. \"\"\"\n",
    "    # row is a single row of the data frame\n",
    "    # extract fields\n",
    "    pop00 = row['population_2000']\n",
    "    pop20 = row['population_2020']\n",
    "    # calculate growth\n",
    "    growth = ((pop20-pop00)/pop00)*100\n",
    "    return round(growth,2)\n",
    "\n",
    "# call calculate_growth on cities_df with `apply` on each row\n",
    "cities_df['growth_rate'] = cities_df.apply(calculate_growth, axis=1)\n",
    "\n",
    "#cities_df['proj_pop40'] = cities_df['population_2020'] * (1+cities_df['growth_rate']/100)\n",
    "\n",
    "cities_df"
   ]
  },
  {
   "cell_type": "markdown",
   "metadata": {},
   "source": [
    "e. A function `convert_area` has to be able to convert areas between m$^2$, km$^2$, and mi$^2$. It should handle all combinations. If `in_unit == out_unit`, just return the same value."
   ]
  },
  {
   "cell_type": "code",
   "execution_count": 26,
   "metadata": {},
   "outputs": [
    {
     "name": "stdout",
     "output_type": "stream",
     "text": [
      "9.999999999999999e-06\n",
      "258.99899999999997\n"
     ]
    }
   ],
   "source": [
    "def convert_area(area, in_unit, out_unit):\n",
    "    # check input \n",
    "    if area < 0:\n",
    "        raise ValueError('area cannot be negative.')\n",
    "    \n",
    "    # valid units: 'sqm','sqkm','sqmi'\n",
    "    if in_unit == out_unit:\n",
    "        # no conversion needed\n",
    "        return area\n",
    "    # init converted area to None\n",
    "    conv_area = None\n",
    "    \n",
    "    # create a data frame (matrix) with same rows and columns\n",
    "    #unit_matrix \n",
    "    \n",
    "    #conv_area = area * unit_matrix[in_unit,out_unit]\n",
    "    \n",
    "    # handle all combinations\n",
    "    if in_unit=='sqm':\n",
    "        if out_unit=='sqkm':\n",
    "            conv_area = area * 1e-6\n",
    "        if out_unit=='sqmi':\n",
    "            conv_area = area * 3.861e-7\n",
    "    if in_unit=='sqmi':\n",
    "        if out_unit=='sqkm':\n",
    "            conv_area = area * 2.58999\n",
    "        if out_unit=='sqm':\n",
    "            conv_area = area * 2.59e+6\n",
    "    if in_unit=='sqkm':\n",
    "        if out_unit=='sqmi':\n",
    "            conv_area = area * 0.386102\n",
    "        if out_unit=='sqm':\n",
    "            conv_area = area * 1e6\n",
    "\n",
    "    if conv_area is None: \n",
    "        # this should never be reached if the input is correct\n",
    "        raise ValueError(\"conversion failed\")\n",
    "    return conv_area\n",
    "\n",
    "\n",
    "print(convert_area(10,'sqm','sqkm'))\n",
    "print(convert_area(100,'sqmi','sqkm'))"
   ]
  },
  {
   "cell_type": "markdown",
   "metadata": {},
   "source": [
    "f. Modify and test `convert_area` to give an error if it is supplied a negative value (areas cannot be smaller than 0). Then create a list with 6 areas in km$^2$. Use `convert_area` to convert them to m$^2$ and mi$^2$. "
   ]
  },
  {
   "cell_type": "code",
   "execution_count": 27,
   "metadata": {},
   "outputs": [
    {
     "name": "stdout",
     "output_type": "stream",
     "text": [
      "km2 [3943, 1243, 135, 419, 34458, 14701]\n",
      "m2 [3943000000.0, 1243000000.0, 135000000.0, 419000000.0, 34458000000.0, 14701000000.0]\n",
      "mi2 [1522.400186, 479.924786, 52.12377, 161.776738, 13304.302716, 5676.085502]\n"
     ]
    }
   ],
   "source": [
    "areas_km2 = [3943,1243,135,419,34458,14701]\n",
    "print(\"km2\",areas_km2)\n",
    "\n",
    "areas_m2 = [convert_area(a,'sqkm','sqm') for a in areas_km2]\n",
    "print(\"m2\",areas_m2)\n",
    "\n",
    "areas_mi2 = [convert_area(a,'sqkm','sqmi') for a in areas_km2]\n",
    "print(\"mi2\",areas_mi2)"
   ]
  },
  {
   "cell_type": "markdown",
   "metadata": {},
   "source": [
    "Units are so important in scientific computing that packages have been created to declare units for variables explicitly. See for example `pint`, in which you can write `3 * ureg.meter + 4 * ureg.cm` and obtain the quantity `3.04 <metres>`: https://pint.readthedocs.io. Errors caused by incorrect unit conversions have caused [very expensive disasters](https://www.mentalfloss.com/article/25845/quick-6-six-unit-conversion-disasters) in the aerospatial sector."
   ]
  },
  {
   "cell_type": "markdown",
   "metadata": {},
   "source": [
    "e. Write a function to check the validity of a lon/lat pair checking their range (e.g., -180,180). The function should return `False` if the pair is invalid, and `True` otherwise. The function should rely on two sub-functions `is_lat_valid` and `is_lon_valid`."
   ]
  },
  {
   "cell_type": "code",
   "execution_count": 31,
   "metadata": {},
   "outputs": [
    {
     "name": "stdout",
     "output_type": "stream",
     "text": [
      "True\n",
      "False\n",
      "False\n",
      "True\n"
     ]
    }
   ],
   "source": [
    "def is_lat_valid(lat):\n",
    "    valid = lat >= -90 and lat <= 90\n",
    "    return valid\n",
    "\n",
    "def is_lon_valid(lon):\n",
    "    valid = lon >= -180 and lon <= 180\n",
    "    return valid\n",
    "\n",
    "def is_latlon_valid(xlon, ylat):\n",
    "    # This is an example of building functions using other functions.\n",
    "    # both have to be True.\n",
    "    valid = is_lon_valid(xlon) and is_lat_valid(ylat)\n",
    "    return valid\n",
    "\n",
    "print(is_latlon_valid(42.3, 5.53))\n",
    "print(is_latlon_valid(542.3, -5.53))\n",
    "print(is_lat_valid(-493))\n",
    "print(is_lon_valid(2.54))\n",
    "\n",
    "# Typically, this kind of function is used to validate the input and\n",
    "# output of a programme. If you are making calculations \n",
    "# with lat/lon coordinates, it is reassuring to \"assert\":\n",
    "\n",
    "lat = 54.215\n",
    "lon = -0.347\n",
    "# some calculations\n",
    "# ...\n",
    "# this line will fail and raise an error is the result is invalid!\n",
    "assert is_latlon_valid(lon,lat),'invalid lon/lat'\n",
    "\n",
    "# These assertions are widely used to develop professional \n",
    "# scientific and commercial programmes."
   ]
  },
  {
   "cell_type": "markdown",
   "metadata": {},
   "source": [
    "f. Given a list of timestamps (for example representing GPS fixes), write a function that sorts them and then calculates the interval (_timedelta_) between them. Observe the structure of the result `datetime.now()` to understand the `datetime` type. Enter some dates of notable events as specified below:"
   ]
  },
  {
   "cell_type": "code",
   "execution_count": 2,
   "metadata": {},
   "outputs": [
    {
     "data": {
      "text/plain": [
       "[datetime.datetime(1989, 11, 9, 0, 0),\n",
       " datetime.datetime(2003, 3, 20, 0, 0),\n",
       " datetime.datetime(2001, 9, 11, 0, 0),\n",
       " datetime.datetime(2011, 3, 15, 0, 0),\n",
       " datetime.datetime(2021, 2, 2, 19, 6, 2, 462838),\n",
       " datetime.datetime(2021, 2, 2, 19, 6, 4, 467314)]"
      ]
     },
     "execution_count": 2,
     "metadata": {},
     "output_type": "execute_result"
    }
   ],
   "source": [
    "from datetime import datetime\n",
    "# from <package> import <object>\n",
    "\n",
    "import time\n",
    "\n",
    "# build some example timestamps with sleep between them\n",
    "example_timestamps = []\n",
    "# format: datetime(year, month, day, hour, min, seconds, decimal)\n",
    "\n",
    "# Fall of the Berlin wall\n",
    "example_timestamps.append(datetime(1989, 11, 9, 0,0,0))\n",
    "\n",
    "# Beginning of the Iraq War\n",
    "example_timestamps.append(datetime(2003, 3, 20, 0,0,0))\n",
    "\n",
    "# 9/11 attacks\n",
    "example_timestamps.append(datetime(2001, 9, 11, 0,0,0))\n",
    "\n",
    "# Beginning of the Syrian Civil War\n",
    "example_timestamps.append(datetime(2011, 3, 15, 0,0,0))\n",
    "\n",
    "# add now\n",
    "example_timestamps.append(datetime.now())\n",
    "time.sleep(2)\n",
    "example_timestamps.append(datetime.now())\n",
    "\n",
    "example_timestamps"
   ]
  },
  {
   "cell_type": "code",
   "execution_count": 3,
   "metadata": {},
   "outputs": [
    {
     "name": "stdout",
     "output_type": "stream",
     "text": [
      "[datetime.timedelta(days=4324), datetime.timedelta(days=555), datetime.timedelta(days=2917), datetime.timedelta(days=3612, seconds=68762, microseconds=462838), datetime.timedelta(seconds=2, microseconds=4476)]\n"
     ]
    }
   ],
   "source": [
    "def time_intervals(timestamps):\n",
    "    \"\"\" \n",
    "    @ timestamps is a list of datetimes \n",
    "    @ returns a list of timedeltas \n",
    "    \"\"\"\n",
    "    # sort datetime objects\n",
    "    sorted_timestamps = sorted(timestamps)\n",
    "    intervals = []\n",
    "    # count timestamps\n",
    "    n = len(sorted_timestamps)\n",
    "    \n",
    "    # scan timestamps getting an element (i) and \n",
    "    # the next one (i+1). For this reason we \n",
    "    # stop the range at n-1 and not at n. \n",
    "    # Element n+1 does not exist.\n",
    "    for i in range(n-1):\n",
    "        t_1 = sorted_timestamps[i]\n",
    "        t_2 = sorted_timestamps[i+1]\n",
    "        delta = t_2 - t_1\n",
    "        intervals.append(delta)\n",
    "        \n",
    "    # the number of intervals is equal to n-1\n",
    "    assert len(intervals) == n-1\n",
    "    return intervals\n",
    "\n",
    "intervals = time_intervals(example_timestamps)\n",
    "print(intervals)\n",
    "# for example, the delta between the fall of the Berlin Wall \n",
    "# and the 9/11 attacks is 4324 days."
   ]
  },
  {
   "cell_type": "markdown",
   "metadata": {},
   "source": [
    "g. Using `pytz`, write a function that given a datetime in UTC, returns the time shifted all common time zones (`pytz.common_timezones`). The function `astimezone()` supports the conversion between different timezones. Return the results in a pandas data frame with the following columns: `time_zone`,`time_iso`,`time_ctime`,`hours`,`minutes`. In the tests, save the results to a CSV file to inspect them more easily. Some ideas are discussed on [StackOverflow](https://stackoverflow.com/questions/25264811/pytz-converting-utc-and-timezone-to-local-time)."
   ]
  },
  {
   "cell_type": "code",
   "execution_count": 4,
   "metadata": {},
   "outputs": [
    {
     "name": "stdout",
     "output_type": "stream",
     "text": [
      "now_world_df rows: 439\n"
     ]
    },
    {
     "data": {
      "text/html": [
       "<div>\n",
       "<style scoped>\n",
       "    .dataframe tbody tr th:only-of-type {\n",
       "        vertical-align: middle;\n",
       "    }\n",
       "\n",
       "    .dataframe tbody tr th {\n",
       "        vertical-align: top;\n",
       "    }\n",
       "\n",
       "    .dataframe thead th {\n",
       "        text-align: right;\n",
       "    }\n",
       "</style>\n",
       "<table border=\"1\" class=\"dataframe\">\n",
       "  <thead>\n",
       "    <tr style=\"text-align: right;\">\n",
       "      <th></th>\n",
       "      <th>time_zone</th>\n",
       "      <th>time</th>\n",
       "      <th>offset</th>\n",
       "    </tr>\n",
       "  </thead>\n",
       "  <tbody>\n",
       "    <tr>\n",
       "      <th>0</th>\n",
       "      <td>Africa/Abidjan</td>\n",
       "      <td>2021-02-02 19:06:13.542163+00:00</td>\n",
       "      <td>+0000</td>\n",
       "    </tr>\n",
       "    <tr>\n",
       "      <th>1</th>\n",
       "      <td>Africa/Accra</td>\n",
       "      <td>2021-02-02 19:06:13.542163+00:00</td>\n",
       "      <td>+0000</td>\n",
       "    </tr>\n",
       "    <tr>\n",
       "      <th>5</th>\n",
       "      <td>Africa/Bamako</td>\n",
       "      <td>2021-02-02 19:06:13.542163+00:00</td>\n",
       "      <td>+0000</td>\n",
       "    </tr>\n",
       "    <tr>\n",
       "      <th>7</th>\n",
       "      <td>Africa/Banjul</td>\n",
       "      <td>2021-02-02 19:06:13.542163+00:00</td>\n",
       "      <td>+0000</td>\n",
       "    </tr>\n",
       "    <tr>\n",
       "      <th>8</th>\n",
       "      <td>Africa/Bissau</td>\n",
       "      <td>2021-02-02 19:06:13.542163+00:00</td>\n",
       "      <td>+0000</td>\n",
       "    </tr>\n",
       "    <tr>\n",
       "      <th>...</th>\n",
       "      <td>...</td>\n",
       "      <td>...</td>\n",
       "      <td>...</td>\n",
       "    </tr>\n",
       "    <tr>\n",
       "      <th>426</th>\n",
       "      <td>Pacific/Tahiti</td>\n",
       "      <td>2021-02-02 09:06:13.542163-10:00</td>\n",
       "      <td>-1000</td>\n",
       "    </tr>\n",
       "    <tr>\n",
       "      <th>435</th>\n",
       "      <td>US/Hawaii</td>\n",
       "      <td>2021-02-02 09:06:13.542163-10:00</td>\n",
       "      <td>-1000</td>\n",
       "    </tr>\n",
       "    <tr>\n",
       "      <th>414</th>\n",
       "      <td>Pacific/Midway</td>\n",
       "      <td>2021-02-02 08:06:13.542163-11:00</td>\n",
       "      <td>-1100</td>\n",
       "    </tr>\n",
       "    <tr>\n",
       "      <th>416</th>\n",
       "      <td>Pacific/Niue</td>\n",
       "      <td>2021-02-02 08:06:13.542163-11:00</td>\n",
       "      <td>-1100</td>\n",
       "    </tr>\n",
       "    <tr>\n",
       "      <th>419</th>\n",
       "      <td>Pacific/Pago_Pago</td>\n",
       "      <td>2021-02-02 08:06:13.542163-11:00</td>\n",
       "      <td>-1100</td>\n",
       "    </tr>\n",
       "  </tbody>\n",
       "</table>\n",
       "<p>439 rows × 3 columns</p>\n",
       "</div>"
      ],
      "text/plain": [
       "             time_zone                              time offset\n",
       "0       Africa/Abidjan  2021-02-02 19:06:13.542163+00:00  +0000\n",
       "1         Africa/Accra  2021-02-02 19:06:13.542163+00:00  +0000\n",
       "5        Africa/Bamako  2021-02-02 19:06:13.542163+00:00  +0000\n",
       "7        Africa/Banjul  2021-02-02 19:06:13.542163+00:00  +0000\n",
       "8        Africa/Bissau  2021-02-02 19:06:13.542163+00:00  +0000\n",
       "..                 ...                               ...    ...\n",
       "426     Pacific/Tahiti  2021-02-02 09:06:13.542163-10:00  -1000\n",
       "435          US/Hawaii  2021-02-02 09:06:13.542163-10:00  -1000\n",
       "414     Pacific/Midway  2021-02-02 08:06:13.542163-11:00  -1100\n",
       "416       Pacific/Niue  2021-02-02 08:06:13.542163-11:00  -1100\n",
       "419  Pacific/Pago_Pago  2021-02-02 08:06:13.542163-11:00  -1100\n",
       "\n",
       "[439 rows x 3 columns]"
      ]
     },
     "execution_count": 4,
     "metadata": {},
     "output_type": "execute_result"
    }
   ],
   "source": [
    "import pytz\n",
    "\n",
    "def all_time_zones(a_utc_datetime):\n",
    "    \"\"\" \n",
    "    Generates a data frame with a_utc_datetime in all common time zones.\n",
    "    @returns a data frame \n",
    "    \"\"\"\n",
    "    # define empty data frame with 3 columns (no rows)\n",
    "    times_df = pd.DataFrame(columns=['time_zone','time','offset'])\n",
    "    \n",
    "    for time_zone_name in pytz.common_timezones:\n",
    "        # get the time zone from name\n",
    "        tz = pytz.timezone(time_zone_name)\n",
    "        # apply time zone shift to a_utc_datetime\n",
    "        shifted_time = tz.fromutc(a_utc_datetime)\n",
    "        offset = shifted_time.strftime('%z')\n",
    "        new_row_dict = {'time_zone':time_zone_name, 'time':shifted_time, 'offset':offset}\n",
    "        # this is a way to add a new row to a data frame.\n",
    "        # Note the re-assignment: 'append' works differently \n",
    "        # for lists and data frames.\n",
    "        times_df = times_df.append(new_row_dict, ignore_index=True)\n",
    "        \n",
    "    # sort by offset and time_zone\n",
    "    times_df = times_df.sort_values(by=['offset','time_zone'])\n",
    "    return times_df\n",
    "\n",
    "now_world_df = all_time_zones(datetime.utcnow())\n",
    "print(\"now_world_df rows:\",len(now_world_df))\n",
    "now_world_df.to_csv('tmp/all_time_zones.csv', index=False)\n",
    "\n",
    "now_world_df"
   ]
  },
  {
   "cell_type": "markdown",
   "metadata": {},
   "source": [
    "----\n",
    "End of notebook.\n"
   ]
  }
 ],
 "metadata": {
  "kernelspec": {
   "display_name": "Python 3",
   "language": "python",
   "name": "python3"
  },
  "language_info": {
   "codemirror_mode": {
    "name": "ipython",
    "version": 3
   },
   "file_extension": ".py",
   "mimetype": "text/x-python",
   "name": "python",
   "nbconvert_exporter": "python",
   "pygments_lexer": "ipython3",
   "version": "3.9.1"
  }
 },
 "nbformat": 4,
 "nbformat_minor": 4
}
