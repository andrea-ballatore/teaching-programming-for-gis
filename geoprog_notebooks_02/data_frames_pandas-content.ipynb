{
 "cells": [
  {
   "cell_type": "markdown",
   "metadata": {},
   "source": [
    "# Pandas data frames and visualisation\n",
    "\n",
    "**Author**: Andrea Ballatore (Birkbeck, University of London)\n",
    "\n",
    "**Abstract**: Learn how to use data frames with the **pandas** package (https://pandas.pydata.org) and how to do basic data visualisations with **matplotlib**.\n",
    "\n",
    "## Setup\n",
    "This is to check that your environment is set up correctly (it should print 'env ok')."
   ]
  },
  {
   "cell_type": "code",
   "execution_count": 1,
   "metadata": {},
   "outputs": [
    {
     "name": "stdout",
     "output_type": "stream",
     "text": [
      "Conda env: geoprogv1\n",
      "env ok\n"
     ]
    }
   ],
   "source": [
    "# Test geospatial libraries\n",
    "# check environment\n",
    "import os\n",
    "print(\"Conda env:\", os.environ['CONDA_DEFAULT_ENV'])\n",
    "if os.environ['CONDA_DEFAULT_ENV'] != 'geoprogv1':\n",
    "    raise Exception(\"Set the environment 'geoprogv1' on Anaconda. Current environment: \" + os.environ['CONDA_DEFAULT_ENV'])\n",
    "\n",
    "# spatial libraries \n",
    "import fiona as fi\n",
    "import pandas as pd\n",
    "import pysal as sal\n",
    "import matplotlib.pyplot as plt\n",
    "import numpy as np\n",
    "\n",
    "print('env ok')"
   ]
  },
  {
   "cell_type": "markdown",
   "metadata": {},
   "source": [
    "----\n",
    "## Tables\n",
    "\n",
    "- Python supports many data structures, such as lists and dictionaries. \n",
    "- These data structures are very useful but, in data science, we tend to work with tabular data.\n",
    "- A **table** is a concept coming from the world of relational databases. \n",
    "- A table has **columns** representing attributes and **rows** representing cases/individuals. \n",
    "- For example, this is a table with 3 colums and 4 rows representing some urban data:\n",
    "\n",
    "| city_id | city_name | population_2020 | area_km2 |\n",
    "| -: | :--- | -----------: | ---: |\n",
    "| 1 | London | 8982000 | 1572 | \n",
    "| 2 | Lagos | 14368000 | 1171 |\n",
    "| 3 | Hong Kong | 7451000 | 1106 |\n",
    "| 4 | Lima | 10719000 | 2672 |\n",
    "\n",
    "- To import pandas in your notebook, note the `import pandas as pd` at the beginning of the notebook. The `as pd` allows to refer to pandas functionality with an abbreviation, as shown below.\n",
    "- This cheat sheet summarises the main concepts and functionality of `pandas`: (https://pandas.pydata.org/Pandas_Cheat_Sheet.pdf)"
   ]
  },
  {
   "cell_type": "markdown",
   "metadata": {},
   "source": [
    "## Pandas data frames\n",
    "\n",
    "- To work with tabular data in Python, the package `pandas` is the best option.\n",
    "- `pandas` provides support for tables with a data structures called **data frame**.\n",
    "- A data frame has an **index** containing the row names and **columns**.\n",
    "- Row names must be unique (for example, you cannot have `1` `1` `2` as row names).\n",
    "- You can create a data frame this way, with `a` `b` `c` being the columns and `1` `2` `3` being the row names (the index):"
   ]
  },
  {
   "cell_type": "code",
   "execution_count": 2,
   "metadata": {},
   "outputs": [
    {
     "data": {
      "text/html": [
       "<div>\n",
       "<style scoped>\n",
       "    .dataframe tbody tr th:only-of-type {\n",
       "        vertical-align: middle;\n",
       "    }\n",
       "\n",
       "    .dataframe tbody tr th {\n",
       "        vertical-align: top;\n",
       "    }\n",
       "\n",
       "    .dataframe thead th {\n",
       "        text-align: right;\n",
       "    }\n",
       "</style>\n",
       "<table border=\"1\" class=\"dataframe\">\n",
       "  <thead>\n",
       "    <tr style=\"text-align: right;\">\n",
       "      <th></th>\n",
       "      <th>a</th>\n",
       "      <th>b</th>\n",
       "      <th>c</th>\n",
       "    </tr>\n",
       "  </thead>\n",
       "  <tbody>\n",
       "    <tr>\n",
       "      <th>1</th>\n",
       "      <td>4</td>\n",
       "      <td>7</td>\n",
       "      <td>10</td>\n",
       "    </tr>\n",
       "    <tr>\n",
       "      <th>2</th>\n",
       "      <td>5</td>\n",
       "      <td>8</td>\n",
       "      <td>11</td>\n",
       "    </tr>\n",
       "    <tr>\n",
       "      <th>3</th>\n",
       "      <td>6</td>\n",
       "      <td>9</td>\n",
       "      <td>12</td>\n",
       "    </tr>\n",
       "  </tbody>\n",
       "</table>\n",
       "</div>"
      ],
      "text/plain": [
       "   a  b   c\n",
       "1  4  7  10\n",
       "2  5  8  11\n",
       "3  6  9  12"
      ]
     },
     "execution_count": 2,
     "metadata": {},
     "output_type": "execute_result"
    }
   ],
   "source": [
    "# pd.DataFrame is an abbreviation for pandas.DataFrame\n",
    "test_df = pd.DataFrame({\"a\" : [4 ,5, 6],\n",
    "    \"b\" : [7, 8, 9],\n",
    "    \"c\" : [10, 11, 12]},\n",
    "    index = [1, 2, 3])\n",
    "# show the data frame\n",
    "test_df"
   ]
  },
  {
   "cell_type": "markdown",
   "metadata": {},
   "source": [
    "## Dictionaries\n",
    "\n",
    "- To understand this syntax, it is useful to look at the **dictionary**, one of the basic Python data structures.\n",
    "- A dictionary is a set of **key/value pairs**. Keys must be unique. \n",
    "- Values can be non-unique. Values can be lists or other complex objects.\n",
    "- Note that dictionaries are *sets* and not sequences. The order of the pairs is not defined and might vary.\n",
    "- For example, dictionaries can be used to represent associations between codes and descriptions:"
   ]
  },
  {
   "cell_type": "code",
   "execution_count": 3,
   "metadata": {},
   "outputs": [],
   "source": [
    "# syntax: { <key1>: <value1>, <key2>: <value2>, ... }\n",
    "country_codes = {\n",
    "    'GB':\"United Kingdom\",\n",
    "    'AR':'Argentina', \n",
    "    'ER':'Eritrea',\n",
    "    'JP':'Japan'\n",
    "}"
   ]
  },
  {
   "cell_type": "code",
   "execution_count": 4,
   "metadata": {},
   "outputs": [
    {
     "name": "stdout",
     "output_type": "stream",
     "text": [
      "4\n"
     ]
    }
   ],
   "source": [
    "# print dictionary size\n",
    "print(len(country_codes))"
   ]
  },
  {
   "cell_type": "code",
   "execution_count": 5,
   "metadata": {},
   "outputs": [
    {
     "name": "stdout",
     "output_type": "stream",
     "text": [
      "dict_keys(['GB', 'AR', 'ER', 'JP'])\n",
      "dict_values(['United Kingdom', 'Argentina', 'Eritrea', 'Japan'])\n"
     ]
    }
   ],
   "source": [
    "# print keys\n",
    "print(country_codes.keys())\n",
    "\n",
    "# print values\n",
    "print(country_codes.values())"
   ]
  },
  {
   "cell_type": "code",
   "execution_count": 6,
   "metadata": {},
   "outputs": [
    {
     "name": "stdout",
     "output_type": "stream",
     "text": [
      "Argentina\n"
     ]
    }
   ],
   "source": [
    "# select a value by key:\n",
    "print(country_codes['AR'])\n",
    "\n",
    "# add a new key/value pair\n",
    "country_codes['LI'] = 'Liechtenstein'"
   ]
  },
  {
   "cell_type": "code",
   "execution_count": 7,
   "metadata": {},
   "outputs": [
    {
     "name": "stdout",
     "output_type": "stream",
     "text": [
      "5\n"
     ]
    }
   ],
   "source": [
    "# print new dictionary size\n",
    "print(len(country_codes))"
   ]
  },
  {
   "cell_type": "markdown",
   "metadata": {},
   "source": [
    "## Exploring data frames\n",
    "\n",
    "- Pandas allows you to explore a data frame in many ways:"
   ]
  },
  {
   "cell_type": "code",
   "execution_count": 8,
   "metadata": {},
   "outputs": [
    {
     "name": "stdout",
     "output_type": "stream",
     "text": [
      "number of rows: 3\n",
      "number of columns: 3\n"
     ]
    }
   ],
   "source": [
    "# get general information about the data frame\n",
    "print(\"number of rows:\", len(test_df))\n",
    "print(\"number of columns:\", len(test_df.columns))"
   ]
  },
  {
   "cell_type": "code",
   "execution_count": 9,
   "metadata": {},
   "outputs": [
    {
     "name": "stdout",
     "output_type": "stream",
     "text": [
      "index: Int64Index([1, 2, 3], dtype='int64')\n",
      "columns: Index(['a', 'b', 'c'], dtype='object')\n"
     ]
    }
   ],
   "source": [
    "# list the index (integers in this case)\n",
    "print(\"index:\", test_df.index) \n",
    "\n",
    "# list the columns (strings)\n",
    "print(\"columns:\", test_df.columns) "
   ]
  },
  {
   "cell_type": "markdown",
   "metadata": {},
   "source": [
    "- Let us create a more interesting data frame with city data.\n",
    "- Note that, as in databases, it is recommended to use consistent attribute names without spaces:"
   ]
  },
  {
   "cell_type": "code",
   "execution_count": 10,
   "metadata": {},
   "outputs": [],
   "source": [
    "cities_df = pd.DataFrame({\"city_id\" : [1,2,3,4],\n",
    "    \"city_name\" : [\"London\", \"Lagos\", \"Hong Kong\", \"Lima\"],\n",
    "    \"population_2020\" : [8982000, 14368000, 7451000, 10719000],\n",
    "    \"area_km2\" : [1572, 1171, 1106, 2672]},\n",
    "    index = [1, 2, 3, 4])"
   ]
  },
  {
   "cell_type": "code",
   "execution_count": 11,
   "metadata": {},
   "outputs": [
    {
     "name": "stdout",
     "output_type": "stream",
     "text": [
      "number of cities: 4\n",
      "number of attributes: 4\n"
     ]
    },
    {
     "data": {
      "text/html": [
       "<div>\n",
       "<style scoped>\n",
       "    .dataframe tbody tr th:only-of-type {\n",
       "        vertical-align: middle;\n",
       "    }\n",
       "\n",
       "    .dataframe tbody tr th {\n",
       "        vertical-align: top;\n",
       "    }\n",
       "\n",
       "    .dataframe thead th {\n",
       "        text-align: right;\n",
       "    }\n",
       "</style>\n",
       "<table border=\"1\" class=\"dataframe\">\n",
       "  <thead>\n",
       "    <tr style=\"text-align: right;\">\n",
       "      <th></th>\n",
       "      <th>city_id</th>\n",
       "      <th>city_name</th>\n",
       "      <th>population_2020</th>\n",
       "      <th>area_km2</th>\n",
       "    </tr>\n",
       "  </thead>\n",
       "  <tbody>\n",
       "    <tr>\n",
       "      <th>1</th>\n",
       "      <td>1</td>\n",
       "      <td>London</td>\n",
       "      <td>8982000</td>\n",
       "      <td>1572</td>\n",
       "    </tr>\n",
       "    <tr>\n",
       "      <th>2</th>\n",
       "      <td>2</td>\n",
       "      <td>Lagos</td>\n",
       "      <td>14368000</td>\n",
       "      <td>1171</td>\n",
       "    </tr>\n",
       "    <tr>\n",
       "      <th>3</th>\n",
       "      <td>3</td>\n",
       "      <td>Hong Kong</td>\n",
       "      <td>7451000</td>\n",
       "      <td>1106</td>\n",
       "    </tr>\n",
       "    <tr>\n",
       "      <th>4</th>\n",
       "      <td>4</td>\n",
       "      <td>Lima</td>\n",
       "      <td>10719000</td>\n",
       "      <td>2672</td>\n",
       "    </tr>\n",
       "  </tbody>\n",
       "</table>\n",
       "</div>"
      ],
      "text/plain": [
       "   city_id  city_name  population_2020  area_km2\n",
       "1        1     London          8982000      1572\n",
       "2        2      Lagos         14368000      1171\n",
       "3        3  Hong Kong          7451000      1106\n",
       "4        4       Lima         10719000      2672"
      ]
     },
     "execution_count": 11,
     "metadata": {},
     "output_type": "execute_result"
    }
   ],
   "source": [
    "print(\"number of cities:\",len(cities_df))\n",
    "print(\"number of attributes:\",len(cities_df.columns))\n",
    "\n",
    "# note that the index (shown on the left) is NOT an attribute:\n",
    "cities_df"
   ]
  },
  {
   "cell_type": "markdown",
   "metadata": {},
   "source": [
    "- With `pandas`, you can extract data from a data frame by selecting rows and columns.\n",
    "- These operations are very similar to those supported by SQL in relational databases:"
   ]
  },
  {
   "cell_type": "code",
   "execution_count": 12,
   "metadata": {},
   "outputs": [
    {
     "name": "stdout",
     "output_type": "stream",
     "text": [
      "1       London\n",
      "2        Lagos\n",
      "3    Hong Kong\n",
      "4         Lima\n",
      "Name: city_name, dtype: object\n",
      "1     8982000\n",
      "2    14368000\n",
      "3     7451000\n",
      "4    10719000\n",
      "Name: population_2020, dtype: int64\n"
     ]
    }
   ],
   "source": [
    "# get the name column\n",
    "print(cities_df['city_name'])\n",
    "# get the population column\n",
    "print(cities_df['population_2020'])"
   ]
  },
  {
   "cell_type": "code",
   "execution_count": 13,
   "metadata": {},
   "outputs": [
    {
     "name": "stdout",
     "output_type": "stream",
     "text": [
      "city_id                  1\n",
      "city_name           London\n",
      "population_2020    8982000\n",
      "area_km2              1572\n",
      "Name: 1, dtype: object\n",
      "N columns in sel_df 2\n"
     ]
    }
   ],
   "source": [
    "# get a row by index\n",
    "print(cities_df.loc[1])\n",
    "\n",
    "# copy the data into a new data frame containing only 2 columns:\n",
    "sel_df = cities_df[['city_name','area_km2']]\n",
    "print('N columns in sel_df', len(sel_df.columns))"
   ]
  },
  {
   "cell_type": "markdown",
   "metadata": {},
   "source": [
    "- You can **derive new attributes** from the existing ones.\n",
    "- To do this, you do not need to use a `for` loop. `pandas` can apply an operation on whole columns, value by value. This concept is called **vectorisation** and makes your life at a lot easier.\n",
    "- For example, you can calculate the population density in a single, intuitive instruction:\n"
   ]
  },
  {
   "cell_type": "code",
   "execution_count": 14,
   "metadata": {},
   "outputs": [
    {
     "data": {
      "text/html": [
       "<div>\n",
       "<style scoped>\n",
       "    .dataframe tbody tr th:only-of-type {\n",
       "        vertical-align: middle;\n",
       "    }\n",
       "\n",
       "    .dataframe tbody tr th {\n",
       "        vertical-align: top;\n",
       "    }\n",
       "\n",
       "    .dataframe thead th {\n",
       "        text-align: right;\n",
       "    }\n",
       "</style>\n",
       "<table border=\"1\" class=\"dataframe\">\n",
       "  <thead>\n",
       "    <tr style=\"text-align: right;\">\n",
       "      <th></th>\n",
       "      <th>city_id</th>\n",
       "      <th>city_name</th>\n",
       "      <th>population_2020</th>\n",
       "      <th>area_km2</th>\n",
       "      <th>pop_km2</th>\n",
       "    </tr>\n",
       "  </thead>\n",
       "  <tbody>\n",
       "    <tr>\n",
       "      <th>1</th>\n",
       "      <td>1</td>\n",
       "      <td>London</td>\n",
       "      <td>8982000</td>\n",
       "      <td>1572</td>\n",
       "      <td>5713.7</td>\n",
       "    </tr>\n",
       "    <tr>\n",
       "      <th>2</th>\n",
       "      <td>2</td>\n",
       "      <td>Lagos</td>\n",
       "      <td>14368000</td>\n",
       "      <td>1171</td>\n",
       "      <td>12269.9</td>\n",
       "    </tr>\n",
       "    <tr>\n",
       "      <th>3</th>\n",
       "      <td>3</td>\n",
       "      <td>Hong Kong</td>\n",
       "      <td>7451000</td>\n",
       "      <td>1106</td>\n",
       "      <td>6736.9</td>\n",
       "    </tr>\n",
       "    <tr>\n",
       "      <th>4</th>\n",
       "      <td>4</td>\n",
       "      <td>Lima</td>\n",
       "      <td>10719000</td>\n",
       "      <td>2672</td>\n",
       "      <td>4011.6</td>\n",
       "    </tr>\n",
       "  </tbody>\n",
       "</table>\n",
       "</div>"
      ],
      "text/plain": [
       "   city_id  city_name  population_2020  area_km2  pop_km2\n",
       "1        1     London          8982000      1572   5713.7\n",
       "2        2      Lagos         14368000      1171  12269.9\n",
       "3        3  Hong Kong          7451000      1106   6736.9\n",
       "4        4       Lima         10719000      2672   4011.6"
      ]
     },
     "execution_count": 14,
     "metadata": {},
     "output_type": "execute_result"
    }
   ],
   "source": [
    "cities_df['pop_km2'] = cities_df['population_2020']/cities_df['area_km2']\n",
    "# route the value to the first digit\n",
    "cities_df['pop_km2'] = round(cities_df['pop_km2'],1)\n",
    "cities_df"
   ]
  },
  {
   "cell_type": "markdown",
   "metadata": {},
   "source": [
    "## Read and write dataframes\n",
    "\n",
    "- `pandas` provides functionality to import and export data frames in a variety of formats.\n"
   ]
  },
  {
   "cell_type": "code",
   "execution_count": 27,
   "metadata": {},
   "outputs": [
    {
     "data": {
      "text/html": [
       "<div>\n",
       "<style scoped>\n",
       "    .dataframe tbody tr th:only-of-type {\n",
       "        vertical-align: middle;\n",
       "    }\n",
       "\n",
       "    .dataframe tbody tr th {\n",
       "        vertical-align: top;\n",
       "    }\n",
       "\n",
       "    .dataframe thead th {\n",
       "        text-align: right;\n",
       "    }\n",
       "</style>\n",
       "<table border=\"1\" class=\"dataframe\">\n",
       "  <thead>\n",
       "    <tr style=\"text-align: right;\">\n",
       "      <th></th>\n",
       "      <th>city_id</th>\n",
       "      <th>city_name</th>\n",
       "      <th>population_2020</th>\n",
       "      <th>area_km2</th>\n",
       "      <th>pop_km2</th>\n",
       "    </tr>\n",
       "  </thead>\n",
       "  <tbody>\n",
       "    <tr>\n",
       "      <th>1</th>\n",
       "      <td>1</td>\n",
       "      <td>London</td>\n",
       "      <td>8982000</td>\n",
       "      <td>1572</td>\n",
       "      <td>5713.7</td>\n",
       "    </tr>\n",
       "    <tr>\n",
       "      <th>2</th>\n",
       "      <td>2</td>\n",
       "      <td>Lagos</td>\n",
       "      <td>14368000</td>\n",
       "      <td>1171</td>\n",
       "      <td>12269.9</td>\n",
       "    </tr>\n",
       "    <tr>\n",
       "      <th>3</th>\n",
       "      <td>3</td>\n",
       "      <td>Hong Kong</td>\n",
       "      <td>7451000</td>\n",
       "      <td>1106</td>\n",
       "      <td>6736.9</td>\n",
       "    </tr>\n",
       "    <tr>\n",
       "      <th>4</th>\n",
       "      <td>4</td>\n",
       "      <td>Lima</td>\n",
       "      <td>10719000</td>\n",
       "      <td>2672</td>\n",
       "      <td>4011.6</td>\n",
       "    </tr>\n",
       "  </tbody>\n",
       "</table>\n",
       "</div>"
      ],
      "text/plain": [
       "   city_id  city_name  population_2020  area_km2  pop_km2\n",
       "1        1     London          8982000      1572   5713.7\n",
       "2        2      Lagos         14368000      1171  12269.9\n",
       "3        3  Hong Kong          7451000      1106   6736.9\n",
       "4        4       Lima         10719000      2672   4011.6"
      ]
     },
     "execution_count": 27,
     "metadata": {},
     "output_type": "execute_result"
    }
   ],
   "source": [
    "# create output folder 'out' (if does not already exist)\n",
    "if not os.path.exists('out'):\n",
    "    os.makedirs('out')\n",
    "    \n",
    "cities_df"
   ]
  },
  {
   "cell_type": "code",
   "execution_count": 15,
   "metadata": {},
   "outputs": [],
   "source": [
    "# write cities data frame to a CSV file:\n",
    "cities_df.to_csv('out/cities_df.csv')"
   ]
  },
  {
   "cell_type": "markdown",
   "metadata": {},
   "source": [
    "- The resulting CSV file has this content:\n",
    "```\n",
    ",city_id,city_name,population_2020,area_km2,pop_km2\n",
    "1,1,London,8982000,1572,5713.7\n",
    "2,2,Lagos,14368000,1171,12269.9\n",
    "3,3,Hong Kong,7451000,1106,6736.9\n",
    "4,4,Lima,10719000,2672,4011.6\n",
    "```\n",
    "- Note that the index is included. Often we want to exclude the index from the CSV output.\n",
    "- Check the new files in the `out` folder:"
   ]
  },
  {
   "cell_type": "code",
   "execution_count": 28,
   "metadata": {},
   "outputs": [],
   "source": [
    "# write CSV file without index\n",
    "cities_df.to_csv('out/cities_noindex_df.csv', index=False)"
   ]
  },
  {
   "cell_type": "markdown",
   "metadata": {},
   "source": [
    "- Explore the results with Excel in the folder `out`.\n",
    "- When doing data science in Python, the best way to store a data frame (or any data) in a file is **pickle**. \n",
    "- Every format conversion (for example to and from CSV or TSV) risks generating some data loss or errors, while pickle is faster and more reliable.\n",
    "- `pandas` allows you to store directly a data frame in a pickle file:"
   ]
  },
  {
   "cell_type": "code",
   "execution_count": 17,
   "metadata": {},
   "outputs": [],
   "source": [
    "cities_df.to_pickle('out/cities_df.pik')"
   ]
  },
  {
   "cell_type": "markdown",
   "metadata": {},
   "source": [
    "## World Bank data\n",
    "\n",
    "- The local folder `data` includes external datasets that you can read.\n",
    "- Let us read a real dataset into our notebook.\n",
    "- This dataset with country-level indicators was collected from the World Bank in December 2020 (https://data.worldbank.org).\n",
    "- To keep the example to a manageable size, the dataset includes EU countries and the UK.\n",
    "- First, let us take a look at the **data dictionary** that describes the World Bank indicators in this dataset, loading it from a file:"
   ]
  },
  {
   "cell_type": "code",
   "execution_count": 2,
   "metadata": {},
   "outputs": [
    {
     "name": "stdout",
     "output_type": "stream",
     "text": [
      "Index(['indicator_id', 'indicator', 'unit', 'indicator_desc', 'source_org',\n",
      "       'source_id', 'source'],\n",
      "      dtype='object')\n"
     ]
    },
    {
     "data": {
      "text/html": [
       "<div>\n",
       "<style scoped>\n",
       "    .dataframe tbody tr th:only-of-type {\n",
       "        vertical-align: middle;\n",
       "    }\n",
       "\n",
       "    .dataframe tbody tr th {\n",
       "        vertical-align: top;\n",
       "    }\n",
       "\n",
       "    .dataframe thead th {\n",
       "        text-align: right;\n",
       "    }\n",
       "</style>\n",
       "<table border=\"1\" class=\"dataframe\">\n",
       "  <thead>\n",
       "    <tr style=\"text-align: right;\">\n",
       "      <th></th>\n",
       "      <th>indicator_id</th>\n",
       "      <th>indicator</th>\n",
       "    </tr>\n",
       "  </thead>\n",
       "  <tbody>\n",
       "    <tr>\n",
       "      <th>0</th>\n",
       "      <td>GB.XPD.RSDV.GD.ZS</td>\n",
       "      <td>Research and development expenditure (% of GDP)</td>\n",
       "    </tr>\n",
       "    <tr>\n",
       "      <th>1</th>\n",
       "      <td>IT.NET.USER.ZS</td>\n",
       "      <td>Individuals using the Internet (% of population)</td>\n",
       "    </tr>\n",
       "    <tr>\n",
       "      <th>2</th>\n",
       "      <td>NY.GDP.MKTP.PP.CD</td>\n",
       "      <td>GDP, PPP (current international $)</td>\n",
       "    </tr>\n",
       "    <tr>\n",
       "      <th>3</th>\n",
       "      <td>SP.DYN.LE00.IN</td>\n",
       "      <td>Life expectancy at birth, total (years)</td>\n",
       "    </tr>\n",
       "    <tr>\n",
       "      <th>4</th>\n",
       "      <td>SP.POP.TOTL</td>\n",
       "      <td>Population, total</td>\n",
       "    </tr>\n",
       "    <tr>\n",
       "      <th>5</th>\n",
       "      <td>ST.INT.ARVL</td>\n",
       "      <td>International tourism, number of arrivals</td>\n",
       "    </tr>\n",
       "  </tbody>\n",
       "</table>\n",
       "</div>"
      ],
      "text/plain": [
       "        indicator_id                                         indicator\n",
       "0  GB.XPD.RSDV.GD.ZS   Research and development expenditure (% of GDP)\n",
       "1     IT.NET.USER.ZS  Individuals using the Internet (% of population)\n",
       "2  NY.GDP.MKTP.PP.CD                GDP, PPP (current international $)\n",
       "3     SP.DYN.LE00.IN           Life expectancy at birth, total (years)\n",
       "4        SP.POP.TOTL                                 Population, total\n",
       "5        ST.INT.ARVL         International tourism, number of arrivals"
      ]
     },
     "execution_count": 2,
     "metadata": {},
     "output_type": "execute_result"
    }
   ],
   "source": [
    "# this file is saved as tab-separate values (TSV) \n",
    "# which is a bit safer than CSV to exchange data:\n",
    "wb_var_df = pd.read_csv('data/world_bank_indicators_eu_dict.tsv', sep='\\t')\n",
    "\n",
    "# check the column names\n",
    "print(wb_var_df.columns)\n",
    "\n",
    "# list all variables\n",
    "wb_var_df[['indicator_id','indicator']]"
   ]
  },
  {
   "cell_type": "markdown",
   "metadata": {},
   "source": []
  },
  {
   "cell_type": "markdown",
   "metadata": {},
   "source": [
    "- Now let us load the data frame with the indicators.\n",
    "- A row contains an indicator about a `country` for a given year (`date`).\n",
    "- The column names are the code specified above.\n",
    "- `iso3c` and `iso2c` are ISO standard country names:"
   ]
  },
  {
   "cell_type": "code",
   "execution_count": 3,
   "metadata": {},
   "outputs": [
    {
     "name": "stdout",
     "output_type": "stream",
     "text": [
      "rows: 560\n",
      "columns: Index(['iso2c', 'iso3c', 'country', 'date', 'SP.POP.TOTL', 'IT.NET.USER.ZS',\n",
      "       'SP.DYN.LE00.IN', 'ST.INT.ARVL', 'GB.XPD.RSDV.GD.ZS',\n",
      "       'NY.GDP.MKTP.PP.CD'],\n",
      "      dtype='object')\n"
     ]
    }
   ],
   "source": [
    "wb_ind_df = pd.read_csv('data/world_bank_indicators_eu_df.tsv', sep='\\t')\n",
    "print('rows:',len(wb_ind_df))\n",
    "print('columns:',wb_ind_df.columns)"
   ]
  },
  {
   "cell_type": "markdown",
   "metadata": {},
   "source": [
    "- Let us select a subset of rows from this data frame using a condition.\n",
    "- The most complete data is from 2014. Select all rows with where `date==2014`:"
   ]
  },
  {
   "cell_type": "code",
   "execution_count": 4,
   "metadata": {},
   "outputs": [
    {
     "name": "stdout",
     "output_type": "stream",
     "text": [
      "rows: 28\n",
      "rows: 28\n"
     ]
    }
   ],
   "source": [
    "wb2014_df = wb_ind_df.loc[wb_ind_df['date'] == 2014, ]\n",
    "print('rows:', len(wb2014_df))\n",
    "\n",
    "# alternatively, you can obtain the same result \n",
    "# with this SQL-like syntax:\n",
    "wb2014_df = wb_ind_df.query(\"date == 2014\")\n",
    "print('rows:', len(wb2014_df))"
   ]
  },
  {
   "cell_type": "code",
   "execution_count": 5,
   "metadata": {},
   "outputs": [
    {
     "data": {
      "text/html": [
       "<div>\n",
       "<style scoped>\n",
       "    .dataframe tbody tr th:only-of-type {\n",
       "        vertical-align: middle;\n",
       "    }\n",
       "\n",
       "    .dataframe tbody tr th {\n",
       "        vertical-align: top;\n",
       "    }\n",
       "\n",
       "    .dataframe thead th {\n",
       "        text-align: right;\n",
       "    }\n",
       "</style>\n",
       "<table border=\"1\" class=\"dataframe\">\n",
       "  <thead>\n",
       "    <tr style=\"text-align: right;\">\n",
       "      <th></th>\n",
       "      <th>iso2c</th>\n",
       "      <th>iso3c</th>\n",
       "      <th>country</th>\n",
       "      <th>date</th>\n",
       "      <th>pop</th>\n",
       "      <th>internet_users</th>\n",
       "      <th>life_exp</th>\n",
       "      <th>in_tourists</th>\n",
       "      <th>research_gdp</th>\n",
       "      <th>gdp</th>\n",
       "    </tr>\n",
       "  </thead>\n",
       "  <tbody>\n",
       "    <tr>\n",
       "      <th>4</th>\n",
       "      <td>AT</td>\n",
       "      <td>AUT</td>\n",
       "      <td>Austria</td>\n",
       "      <td>2014</td>\n",
       "      <td>8546356</td>\n",
       "      <td>80.995825</td>\n",
       "      <td>81.490244</td>\n",
       "      <td>25291000.0</td>\n",
       "      <td>3.08429</td>\n",
       "      <td>4.170597e+11</td>\n",
       "    </tr>\n",
       "    <tr>\n",
       "      <th>23</th>\n",
       "      <td>BE</td>\n",
       "      <td>BEL</td>\n",
       "      <td>Belgium</td>\n",
       "      <td>2014</td>\n",
       "      <td>11209057</td>\n",
       "      <td>85.000000</td>\n",
       "      <td>81.287805</td>\n",
       "      <td>7887000.0</td>\n",
       "      <td>2.38729</td>\n",
       "      <td>5.036194e+11</td>\n",
       "    </tr>\n",
       "    <tr>\n",
       "      <th>47</th>\n",
       "      <td>BG</td>\n",
       "      <td>BGR</td>\n",
       "      <td>Bulgaria</td>\n",
       "      <td>2014</td>\n",
       "      <td>7223938</td>\n",
       "      <td>55.490000</td>\n",
       "      <td>74.465854</td>\n",
       "      <td>7311000.0</td>\n",
       "      <td>0.79377</td>\n",
       "      <td>1.268198e+11</td>\n",
       "    </tr>\n",
       "    <tr>\n",
       "      <th>78</th>\n",
       "      <td>CY</td>\n",
       "      <td>CYP</td>\n",
       "      <td>Cyprus</td>\n",
       "      <td>2014</td>\n",
       "      <td>1152285</td>\n",
       "      <td>69.330000</td>\n",
       "      <td>80.178000</td>\n",
       "      <td>2441000.0</td>\n",
       "      <td>0.50835</td>\n",
       "      <td>2.561163e+10</td>\n",
       "    </tr>\n",
       "    <tr>\n",
       "      <th>95</th>\n",
       "      <td>CZ</td>\n",
       "      <td>CZE</td>\n",
       "      <td>Czech Republic</td>\n",
       "      <td>2014</td>\n",
       "      <td>10525347</td>\n",
       "      <td>74.231712</td>\n",
       "      <td>78.824390</td>\n",
       "      <td>8096000.0</td>\n",
       "      <td>1.97285</td>\n",
       "      <td>3.395826e+11</td>\n",
       "    </tr>\n",
       "    <tr>\n",
       "      <th>119</th>\n",
       "      <td>DE</td>\n",
       "      <td>DEU</td>\n",
       "      <td>Germany</td>\n",
       "      <td>2014</td>\n",
       "      <td>80982500</td>\n",
       "      <td>86.190000</td>\n",
       "      <td>81.090244</td>\n",
       "      <td>32999000.0</td>\n",
       "      <td>2.86691</td>\n",
       "      <td>3.807113e+12</td>\n",
       "    </tr>\n",
       "    <tr>\n",
       "      <th>127</th>\n",
       "      <td>DK</td>\n",
       "      <td>DNK</td>\n",
       "      <td>Denmark</td>\n",
       "      <td>2014</td>\n",
       "      <td>5643475</td>\n",
       "      <td>95.990000</td>\n",
       "      <td>80.700000</td>\n",
       "      <td>10267000.0</td>\n",
       "      <td>2.91409</td>\n",
       "      <td>2.703306e+11</td>\n",
       "    </tr>\n",
       "    <tr>\n",
       "      <th>144</th>\n",
       "      <td>ES</td>\n",
       "      <td>ESP</td>\n",
       "      <td>Spain</td>\n",
       "      <td>2014</td>\n",
       "      <td>46480882</td>\n",
       "      <td>76.190000</td>\n",
       "      <td>83.229268</td>\n",
       "      <td>64939000.0</td>\n",
       "      <td>1.23535</td>\n",
       "      <td>1.558306e+12</td>\n",
       "    </tr>\n",
       "    <tr>\n",
       "      <th>171</th>\n",
       "      <td>EE</td>\n",
       "      <td>EST</td>\n",
       "      <td>Estonia</td>\n",
       "      <td>2014</td>\n",
       "      <td>1314545</td>\n",
       "      <td>84.241528</td>\n",
       "      <td>77.034146</td>\n",
       "      <td>3160000.0</td>\n",
       "      <td>1.42931</td>\n",
       "      <td>3.830019e+10</td>\n",
       "    </tr>\n",
       "    <tr>\n",
       "      <th>192</th>\n",
       "      <td>FI</td>\n",
       "      <td>FIN</td>\n",
       "      <td>Finland</td>\n",
       "      <td>2014</td>\n",
       "      <td>5461512</td>\n",
       "      <td>86.530393</td>\n",
       "      <td>81.180488</td>\n",
       "      <td>2731000.0</td>\n",
       "      <td>3.16931</td>\n",
       "      <td>2.280586e+11</td>\n",
       "    </tr>\n",
       "    <tr>\n",
       "      <th>209</th>\n",
       "      <td>FR</td>\n",
       "      <td>FRA</td>\n",
       "      <td>France</td>\n",
       "      <td>2014</td>\n",
       "      <td>66312067</td>\n",
       "      <td>83.750000</td>\n",
       "      <td>82.719512</td>\n",
       "      <td>83701000.0</td>\n",
       "      <td>2.27592</td>\n",
       "      <td>2.662033e+12</td>\n",
       "    </tr>\n",
       "    <tr>\n",
       "      <th>224</th>\n",
       "      <td>GB</td>\n",
       "      <td>GBR</td>\n",
       "      <td>United Kingdom</td>\n",
       "      <td>2014</td>\n",
       "      <td>64602298</td>\n",
       "      <td>91.610000</td>\n",
       "      <td>81.304878</td>\n",
       "      <td>32613000.0</td>\n",
       "      <td>1.65915</td>\n",
       "      <td>2.665874e+12</td>\n",
       "    </tr>\n",
       "    <tr>\n",
       "      <th>247</th>\n",
       "      <td>GR</td>\n",
       "      <td>GRC</td>\n",
       "      <td>Greece</td>\n",
       "      <td>2014</td>\n",
       "      <td>10892413</td>\n",
       "      <td>63.210000</td>\n",
       "      <td>81.385366</td>\n",
       "      <td>22033000.0</td>\n",
       "      <td>0.83330</td>\n",
       "      <td>2.923355e+11</td>\n",
       "    </tr>\n",
       "    <tr>\n",
       "      <th>272</th>\n",
       "      <td>HR</td>\n",
       "      <td>HRV</td>\n",
       "      <td>Croatia</td>\n",
       "      <td>2014</td>\n",
       "      <td>4238389</td>\n",
       "      <td>68.570000</td>\n",
       "      <td>77.478049</td>\n",
       "      <td>11623000.0</td>\n",
       "      <td>0.78252</td>\n",
       "      <td>9.350765e+10</td>\n",
       "    </tr>\n",
       "    <tr>\n",
       "      <th>282</th>\n",
       "      <td>HU</td>\n",
       "      <td>HUN</td>\n",
       "      <td>Hungary</td>\n",
       "      <td>2014</td>\n",
       "      <td>9866468</td>\n",
       "      <td>75.653197</td>\n",
       "      <td>75.763415</td>\n",
       "      <td>12140000.0</td>\n",
       "      <td>1.35373</td>\n",
       "      <td>2.526308e+11</td>\n",
       "    </tr>\n",
       "    <tr>\n",
       "      <th>313</th>\n",
       "      <td>IE</td>\n",
       "      <td>IRL</td>\n",
       "      <td>Ireland</td>\n",
       "      <td>2014</td>\n",
       "      <td>4657740</td>\n",
       "      <td>83.491722</td>\n",
       "      <td>81.348780</td>\n",
       "      <td>8813000.0</td>\n",
       "      <td>1.52307</td>\n",
       "      <td>2.378614e+11</td>\n",
       "    </tr>\n",
       "    <tr>\n",
       "      <th>325</th>\n",
       "      <td>IT</td>\n",
       "      <td>ITA</td>\n",
       "      <td>Italy</td>\n",
       "      <td>2014</td>\n",
       "      <td>60789140</td>\n",
       "      <td>55.638460</td>\n",
       "      <td>83.090244</td>\n",
       "      <td>48576000.0</td>\n",
       "      <td>1.34301</td>\n",
       "      <td>2.200255e+12</td>\n",
       "    </tr>\n",
       "    <tr>\n",
       "      <th>348</th>\n",
       "      <td>LT</td>\n",
       "      <td>LTU</td>\n",
       "      <td>Lithuania</td>\n",
       "      <td>2014</td>\n",
       "      <td>2932367</td>\n",
       "      <td>72.130000</td>\n",
       "      <td>74.517073</td>\n",
       "      <td>2063000.0</td>\n",
       "      <td>1.03048</td>\n",
       "      <td>8.256427e+10</td>\n",
       "    </tr>\n",
       "    <tr>\n",
       "      <th>368</th>\n",
       "      <td>LU</td>\n",
       "      <td>LUX</td>\n",
       "      <td>Luxembourg</td>\n",
       "      <td>2014</td>\n",
       "      <td>556319</td>\n",
       "      <td>94.670000</td>\n",
       "      <td>82.229268</td>\n",
       "      <td>1038000.0</td>\n",
       "      <td>1.26404</td>\n",
       "      <td>5.635377e+10</td>\n",
       "    </tr>\n",
       "    <tr>\n",
       "      <th>385</th>\n",
       "      <td>LV</td>\n",
       "      <td>LVA</td>\n",
       "      <td>Latvia</td>\n",
       "      <td>2014</td>\n",
       "      <td>1993782</td>\n",
       "      <td>75.830000</td>\n",
       "      <td>74.124390</td>\n",
       "      <td>1843000.0</td>\n",
       "      <td>0.68930</td>\n",
       "      <td>4.754033e+10</td>\n",
       "    </tr>\n",
       "    <tr>\n",
       "      <th>418</th>\n",
       "      <td>MT</td>\n",
       "      <td>MLT</td>\n",
       "      <td>Malta</td>\n",
       "      <td>2014</td>\n",
       "      <td>434558</td>\n",
       "      <td>73.170000</td>\n",
       "      <td>82.046341</td>\n",
       "      <td>1690000.0</td>\n",
       "      <td>0.71197</td>\n",
       "      <td>1.450862e+10</td>\n",
       "    </tr>\n",
       "    <tr>\n",
       "      <th>438</th>\n",
       "      <td>NL</td>\n",
       "      <td>NLD</td>\n",
       "      <td>Netherlands</td>\n",
       "      <td>2014</td>\n",
       "      <td>16865008</td>\n",
       "      <td>91.666666</td>\n",
       "      <td>81.707317</td>\n",
       "      <td>13925000.0</td>\n",
       "      <td>1.97568</td>\n",
       "      <td>8.303186e+11</td>\n",
       "    </tr>\n",
       "    <tr>\n",
       "      <th>446</th>\n",
       "      <td>PL</td>\n",
       "      <td>POL</td>\n",
       "      <td>Poland</td>\n",
       "      <td>2014</td>\n",
       "      <td>38011735</td>\n",
       "      <td>66.600000</td>\n",
       "      <td>77.602439</td>\n",
       "      <td>16000000.0</td>\n",
       "      <td>0.93978</td>\n",
       "      <td>9.735664e+11</td>\n",
       "    </tr>\n",
       "    <tr>\n",
       "      <th>470</th>\n",
       "      <td>PT</td>\n",
       "      <td>PRT</td>\n",
       "      <td>Portugal</td>\n",
       "      <td>2014</td>\n",
       "      <td>10401062</td>\n",
       "      <td>64.590000</td>\n",
       "      <td>81.121951</td>\n",
       "      <td>10497000.0</td>\n",
       "      <td>1.28973</td>\n",
       "      <td>2.989519e+11</td>\n",
       "    </tr>\n",
       "    <tr>\n",
       "      <th>489</th>\n",
       "      <td>RO</td>\n",
       "      <td>ROU</td>\n",
       "      <td>Romania</td>\n",
       "      <td>2014</td>\n",
       "      <td>19908979</td>\n",
       "      <td>54.080000</td>\n",
       "      <td>74.909756</td>\n",
       "      <td>8442000.0</td>\n",
       "      <td>0.38225</td>\n",
       "      <td>4.105881e+11</td>\n",
       "    </tr>\n",
       "    <tr>\n",
       "      <th>516</th>\n",
       "      <td>SK</td>\n",
       "      <td>SVK</td>\n",
       "      <td>Slovak Republic</td>\n",
       "      <td>2014</td>\n",
       "      <td>5418649</td>\n",
       "      <td>79.980000</td>\n",
       "      <td>76.812195</td>\n",
       "      <td>1475000.0</td>\n",
       "      <td>0.88008</td>\n",
       "      <td>1.570951e+11</td>\n",
       "    </tr>\n",
       "    <tr>\n",
       "      <th>539</th>\n",
       "      <td>SI</td>\n",
       "      <td>SVN</td>\n",
       "      <td>Slovenia</td>\n",
       "      <td>2014</td>\n",
       "      <td>2061980</td>\n",
       "      <td>71.590000</td>\n",
       "      <td>81.078049</td>\n",
       "      <td>2675000.0</td>\n",
       "      <td>2.36743</td>\n",
       "      <td>6.365337e+10</td>\n",
       "    </tr>\n",
       "    <tr>\n",
       "      <th>556</th>\n",
       "      <td>SE</td>\n",
       "      <td>SWE</td>\n",
       "      <td>Sweden</td>\n",
       "      <td>2014</td>\n",
       "      <td>9696110</td>\n",
       "      <td>92.520000</td>\n",
       "      <td>82.253659</td>\n",
       "      <td>5660000.0</td>\n",
       "      <td>3.14261</td>\n",
       "      <td>4.575077e+11</td>\n",
       "    </tr>\n",
       "  </tbody>\n",
       "</table>\n",
       "</div>"
      ],
      "text/plain": [
       "    iso2c iso3c          country  date       pop  internet_users   life_exp  \\\n",
       "4      AT   AUT          Austria  2014   8546356       80.995825  81.490244   \n",
       "23     BE   BEL          Belgium  2014  11209057       85.000000  81.287805   \n",
       "47     BG   BGR         Bulgaria  2014   7223938       55.490000  74.465854   \n",
       "78     CY   CYP           Cyprus  2014   1152285       69.330000  80.178000   \n",
       "95     CZ   CZE   Czech Republic  2014  10525347       74.231712  78.824390   \n",
       "119    DE   DEU          Germany  2014  80982500       86.190000  81.090244   \n",
       "127    DK   DNK          Denmark  2014   5643475       95.990000  80.700000   \n",
       "144    ES   ESP            Spain  2014  46480882       76.190000  83.229268   \n",
       "171    EE   EST          Estonia  2014   1314545       84.241528  77.034146   \n",
       "192    FI   FIN          Finland  2014   5461512       86.530393  81.180488   \n",
       "209    FR   FRA           France  2014  66312067       83.750000  82.719512   \n",
       "224    GB   GBR   United Kingdom  2014  64602298       91.610000  81.304878   \n",
       "247    GR   GRC           Greece  2014  10892413       63.210000  81.385366   \n",
       "272    HR   HRV          Croatia  2014   4238389       68.570000  77.478049   \n",
       "282    HU   HUN          Hungary  2014   9866468       75.653197  75.763415   \n",
       "313    IE   IRL          Ireland  2014   4657740       83.491722  81.348780   \n",
       "325    IT   ITA            Italy  2014  60789140       55.638460  83.090244   \n",
       "348    LT   LTU        Lithuania  2014   2932367       72.130000  74.517073   \n",
       "368    LU   LUX       Luxembourg  2014    556319       94.670000  82.229268   \n",
       "385    LV   LVA           Latvia  2014   1993782       75.830000  74.124390   \n",
       "418    MT   MLT            Malta  2014    434558       73.170000  82.046341   \n",
       "438    NL   NLD      Netherlands  2014  16865008       91.666666  81.707317   \n",
       "446    PL   POL           Poland  2014  38011735       66.600000  77.602439   \n",
       "470    PT   PRT         Portugal  2014  10401062       64.590000  81.121951   \n",
       "489    RO   ROU          Romania  2014  19908979       54.080000  74.909756   \n",
       "516    SK   SVK  Slovak Republic  2014   5418649       79.980000  76.812195   \n",
       "539    SI   SVN         Slovenia  2014   2061980       71.590000  81.078049   \n",
       "556    SE   SWE           Sweden  2014   9696110       92.520000  82.253659   \n",
       "\n",
       "     in_tourists  research_gdp           gdp  \n",
       "4     25291000.0       3.08429  4.170597e+11  \n",
       "23     7887000.0       2.38729  5.036194e+11  \n",
       "47     7311000.0       0.79377  1.268198e+11  \n",
       "78     2441000.0       0.50835  2.561163e+10  \n",
       "95     8096000.0       1.97285  3.395826e+11  \n",
       "119   32999000.0       2.86691  3.807113e+12  \n",
       "127   10267000.0       2.91409  2.703306e+11  \n",
       "144   64939000.0       1.23535  1.558306e+12  \n",
       "171    3160000.0       1.42931  3.830019e+10  \n",
       "192    2731000.0       3.16931  2.280586e+11  \n",
       "209   83701000.0       2.27592  2.662033e+12  \n",
       "224   32613000.0       1.65915  2.665874e+12  \n",
       "247   22033000.0       0.83330  2.923355e+11  \n",
       "272   11623000.0       0.78252  9.350765e+10  \n",
       "282   12140000.0       1.35373  2.526308e+11  \n",
       "313    8813000.0       1.52307  2.378614e+11  \n",
       "325   48576000.0       1.34301  2.200255e+12  \n",
       "348    2063000.0       1.03048  8.256427e+10  \n",
       "368    1038000.0       1.26404  5.635377e+10  \n",
       "385    1843000.0       0.68930  4.754033e+10  \n",
       "418    1690000.0       0.71197  1.450862e+10  \n",
       "438   13925000.0       1.97568  8.303186e+11  \n",
       "446   16000000.0       0.93978  9.735664e+11  \n",
       "470   10497000.0       1.28973  2.989519e+11  \n",
       "489    8442000.0       0.38225  4.105881e+11  \n",
       "516    1475000.0       0.88008  1.570951e+11  \n",
       "539    2675000.0       2.36743  6.365337e+10  \n",
       "556    5660000.0       3.14261  4.575077e+11  "
      ]
     },
     "execution_count": 5,
     "metadata": {},
     "output_type": "execute_result"
    }
   ],
   "source": [
    "# for readability, rename columns with simpler names with 'rename'\n",
    "wb2014_df = wb2014_df.rename(columns={\"SP.POP.TOTL\": \"pop\", \n",
    "    \"ST.INT.ARVL\": \"in_tourists\",              \n",
    "    'SP.DYN.LE00.IN':'life_exp',\n",
    "    \"IT.NET.USER.ZS\":'internet_users',\n",
    "    \"GB.XPD.RSDV.GD.ZS\":'research_gdp',\n",
    "    'NY.GDP.MKTP.PP.CD': 'gdp'})\n",
    "\n",
    "wb2014_df"
   ]
  },
  {
   "cell_type": "markdown",
   "metadata": {},
   "source": [
    "- Save data into a CSV file:"
   ]
  },
  {
   "cell_type": "code",
   "execution_count": 6,
   "metadata": {},
   "outputs": [],
   "source": [
    "wb2014_df.to_csv('out/world_bank_eu_2014.csv', index=False)"
   ]
  },
  {
   "cell_type": "markdown",
   "metadata": {},
   "source": [
    "## Descriptive statistics\n",
    "\n",
    "- `pandas` provides basic functions to calculate descriptive statistics from a data frame.\n",
    "- This is similar to what you can do in Microsoft Excel (but better, of course)."
   ]
  },
  {
   "cell_type": "code",
   "execution_count": 22,
   "metadata": {},
   "outputs": [
    {
     "name": "stdout",
     "output_type": "stream",
     "text": [
      "Index(['iso2c', 'iso3c', 'country', 'date', 'pop', 'internet_users',\n",
      "       'life_exp', 'in_tourists', 'research_gdp', 'gdp'],\n",
      "      dtype='object')\n"
     ]
    },
    {
     "data": {
      "text/html": [
       "<div>\n",
       "<style scoped>\n",
       "    .dataframe tbody tr th:only-of-type {\n",
       "        vertical-align: middle;\n",
       "    }\n",
       "\n",
       "    .dataframe tbody tr th {\n",
       "        vertical-align: top;\n",
       "    }\n",
       "\n",
       "    .dataframe thead th {\n",
       "        text-align: right;\n",
       "    }\n",
       "</style>\n",
       "<table border=\"1\" class=\"dataframe\">\n",
       "  <thead>\n",
       "    <tr style=\"text-align: right;\">\n",
       "      <th></th>\n",
       "      <th>iso2c</th>\n",
       "      <th>iso3c</th>\n",
       "      <th>country</th>\n",
       "      <th>date</th>\n",
       "      <th>pop</th>\n",
       "      <th>internet_users</th>\n",
       "      <th>life_exp</th>\n",
       "      <th>in_tourists</th>\n",
       "      <th>research_gdp</th>\n",
       "      <th>gdp</th>\n",
       "    </tr>\n",
       "  </thead>\n",
       "  <tbody>\n",
       "    <tr>\n",
       "      <th>127</th>\n",
       "      <td>DK</td>\n",
       "      <td>DNK</td>\n",
       "      <td>Denmark</td>\n",
       "      <td>2014</td>\n",
       "      <td>5643475</td>\n",
       "      <td>95.990000</td>\n",
       "      <td>80.700000</td>\n",
       "      <td>10267000.0</td>\n",
       "      <td>2.91409</td>\n",
       "      <td>2.703306e+11</td>\n",
       "    </tr>\n",
       "    <tr>\n",
       "      <th>368</th>\n",
       "      <td>LU</td>\n",
       "      <td>LUX</td>\n",
       "      <td>Luxembourg</td>\n",
       "      <td>2014</td>\n",
       "      <td>556319</td>\n",
       "      <td>94.670000</td>\n",
       "      <td>82.229268</td>\n",
       "      <td>1038000.0</td>\n",
       "      <td>1.26404</td>\n",
       "      <td>5.635377e+10</td>\n",
       "    </tr>\n",
       "    <tr>\n",
       "      <th>556</th>\n",
       "      <td>SE</td>\n",
       "      <td>SWE</td>\n",
       "      <td>Sweden</td>\n",
       "      <td>2014</td>\n",
       "      <td>9696110</td>\n",
       "      <td>92.520000</td>\n",
       "      <td>82.253659</td>\n",
       "      <td>5660000.0</td>\n",
       "      <td>3.14261</td>\n",
       "      <td>4.575077e+11</td>\n",
       "    </tr>\n",
       "    <tr>\n",
       "      <th>438</th>\n",
       "      <td>NL</td>\n",
       "      <td>NLD</td>\n",
       "      <td>Netherlands</td>\n",
       "      <td>2014</td>\n",
       "      <td>16865008</td>\n",
       "      <td>91.666666</td>\n",
       "      <td>81.707317</td>\n",
       "      <td>13925000.0</td>\n",
       "      <td>1.97568</td>\n",
       "      <td>8.303186e+11</td>\n",
       "    </tr>\n",
       "    <tr>\n",
       "      <th>224</th>\n",
       "      <td>GB</td>\n",
       "      <td>GBR</td>\n",
       "      <td>United Kingdom</td>\n",
       "      <td>2014</td>\n",
       "      <td>64602298</td>\n",
       "      <td>91.610000</td>\n",
       "      <td>81.304878</td>\n",
       "      <td>32613000.0</td>\n",
       "      <td>1.65915</td>\n",
       "      <td>2.665874e+12</td>\n",
       "    </tr>\n",
       "  </tbody>\n",
       "</table>\n",
       "</div>"
      ],
      "text/plain": [
       "    iso2c iso3c         country  date       pop  internet_users   life_exp  \\\n",
       "127    DK   DNK         Denmark  2014   5643475       95.990000  80.700000   \n",
       "368    LU   LUX      Luxembourg  2014    556319       94.670000  82.229268   \n",
       "556    SE   SWE          Sweden  2014   9696110       92.520000  82.253659   \n",
       "438    NL   NLD     Netherlands  2014  16865008       91.666666  81.707317   \n",
       "224    GB   GBR  United Kingdom  2014  64602298       91.610000  81.304878   \n",
       "\n",
       "     in_tourists  research_gdp           gdp  \n",
       "127   10267000.0       2.91409  2.703306e+11  \n",
       "368    1038000.0       1.26404  5.635377e+10  \n",
       "556    5660000.0       3.14261  4.575077e+11  \n",
       "438   13925000.0       1.97568  8.303186e+11  \n",
       "224   32613000.0       1.65915  2.665874e+12  "
      ]
     },
     "execution_count": 22,
     "metadata": {},
     "output_type": "execute_result"
    }
   ],
   "source": [
    "print(wb2014_df.columns)\n",
    "\n",
    "# Question: show 5 countries with the highest internet usage\n",
    "# 1. sort table by internet usage in descending order\n",
    "wb2014_df = wb2014_df.sort_values(by='internet_users', ascending=False)\n",
    "# 2. show the first 5 rows\n",
    "wb2014_df.head(5)"
   ]
  },
  {
   "cell_type": "markdown",
   "metadata": {},
   "source": [
    "- You can get summary statistics such as `mean` and `median` about individual columns or groups of columns.\n",
    "- An important descriptive statistic is the **quartiles**, in which we sort the values and then we split them into 4 groups of the same size: Q1 (25%), Q2 (50%, median), Q3 (75%).\n",
    "- The **inter-quartile range (IQR)** is the distance between Q1 and Q3:\n",
    "\n",
    "<img src=\"img/quartiles2.png\" width=450 />\n",
    "(Source: Wikipedia)"
   ]
  },
  {
   "cell_type": "code",
   "execution_count": 33,
   "metadata": {},
   "outputs": [
    {
     "name": "stdout",
     "output_type": "stream",
     "text": [
      "mean internet users (%): 76.89\n",
      "median internet users (%): 76.01\n"
     ]
    }
   ],
   "source": [
    "# get statistic and print it (with appropriate rounding)\n",
    "print('mean internet users (%):', round(wb2014_df['internet_users'].mean(), 2))\n",
    "print('median internet users (%):', round(wb2014_df['internet_users'].median(), 2))"
   ]
  },
  {
   "cell_type": "code",
   "execution_count": 24,
   "metadata": {},
   "outputs": [
    {
     "data": {
      "text/html": [
       "<div>\n",
       "<style scoped>\n",
       "    .dataframe tbody tr th:only-of-type {\n",
       "        vertical-align: middle;\n",
       "    }\n",
       "\n",
       "    .dataframe tbody tr th {\n",
       "        vertical-align: top;\n",
       "    }\n",
       "\n",
       "    .dataframe thead th {\n",
       "        text-align: right;\n",
       "    }\n",
       "</style>\n",
       "<table border=\"1\" class=\"dataframe\">\n",
       "  <thead>\n",
       "    <tr style=\"text-align: right;\">\n",
       "      <th></th>\n",
       "      <th>internet_users</th>\n",
       "      <th>life_exp</th>\n",
       "    </tr>\n",
       "  </thead>\n",
       "  <tbody>\n",
       "    <tr>\n",
       "      <th>count</th>\n",
       "      <td>28.00</td>\n",
       "      <td>28.00</td>\n",
       "    </tr>\n",
       "    <tr>\n",
       "      <th>mean</th>\n",
       "      <td>76.89</td>\n",
       "      <td>79.68</td>\n",
       "    </tr>\n",
       "    <tr>\n",
       "      <th>std</th>\n",
       "      <td>11.94</td>\n",
       "      <td>2.91</td>\n",
       "    </tr>\n",
       "    <tr>\n",
       "      <th>min</th>\n",
       "      <td>54.08</td>\n",
       "      <td>74.12</td>\n",
       "    </tr>\n",
       "    <tr>\n",
       "      <th>25%</th>\n",
       "      <td>69.14</td>\n",
       "      <td>77.37</td>\n",
       "    </tr>\n",
       "    <tr>\n",
       "      <th>50%</th>\n",
       "      <td>76.01</td>\n",
       "      <td>81.11</td>\n",
       "    </tr>\n",
       "    <tr>\n",
       "      <th>75%</th>\n",
       "      <td>85.30</td>\n",
       "      <td>81.54</td>\n",
       "    </tr>\n",
       "    <tr>\n",
       "      <th>max</th>\n",
       "      <td>95.99</td>\n",
       "      <td>83.23</td>\n",
       "    </tr>\n",
       "  </tbody>\n",
       "</table>\n",
       "</div>"
      ],
      "text/plain": [
       "       internet_users  life_exp\n",
       "count           28.00     28.00\n",
       "mean            76.89     79.68\n",
       "std             11.94      2.91\n",
       "min             54.08     74.12\n",
       "25%             69.14     77.37\n",
       "50%             76.01     81.11\n",
       "75%             85.30     81.54\n",
       "max             95.99     83.23"
      ]
     },
     "execution_count": 24,
     "metadata": {},
     "output_type": "execute_result"
    }
   ],
   "source": [
    "# get many summary statistics in one go for both columns (and round the whole table):\n",
    "round(wb2014_df[[\"internet_users\", \"life_exp\"]].describe(),2)"
   ]
  },
  {
   "cell_type": "markdown",
   "metadata": {},
   "source": [
    "## Visualising data\n",
    "\n",
    "- This data can be visualised directly within `pandas` or with the package `matplotlib` with a short instruction.\n",
    "- In `matplotlib`, `ax` (axes) is an object that represent the canvas on which we are drawing.\n",
    "- See examples of visualisations at https://matplotlib.org/gallery.html.\n",
    "\n",
    "\n",
    "### Histograms\n",
    "\n",
    "- A histogram allows to see the distribution of variables in a pandas data frame:\n"
   ]
  },
  {
   "cell_type": "code",
   "execution_count": 32,
   "metadata": {},
   "outputs": [
    {
     "name": "stderr",
     "output_type": "stream",
     "text": [
      "<ipython-input-32-adc9e5e7c38e>:4: UserWarning: To output multiple subplots, the figure containing the passed axes is being cleared\n",
      "  wb2014_df.hist(ax=fig.gca())\n"
     ]
    },
    {
     "data": {
      "image/png": "[encoded data removed]",
      "text/plain": [
       "<Figure size 576x576 with 9 Axes>"
      ]
     },
     "metadata": {
      "needs_background": "light"
     },
     "output_type": "display_data"
    }
   ],
   "source": [
    "# prepare the figure\n",
    "fig = plt.figure(figsize = (8,8))\n",
    "# call 'hist' (a pandas function)\n",
    "wb2014_df.hist(ax=fig.gca())\n",
    "# show the figure\n",
    "plt.show()"
   ]
  },
  {
   "cell_type": "markdown",
   "metadata": {},
   "source": [
    "- Let us look at life expectancy. You can see that most countries fall above 80 years:"
   ]
  },
  {
   "cell_type": "code",
   "execution_count": 30,
   "metadata": {},
   "outputs": [
    {
     "data": {
      "text/plain": [
       "Text(0, 0.5, 'Number of countries')"
      ]
     },
     "execution_count": 30,
     "metadata": {},
     "output_type": "execute_result"
    },
    {
     "data": {
      "image/png": "[encoded data removed]",
      "text/plain": [
       "<Figure size 504x504 with 1 Axes>"
      ]
     },
     "metadata": {
      "needs_background": "light"
     },
     "output_type": "display_data"
    }
   ],
   "source": [
    "# prepare the figure\n",
    "fig = plt.figure(figsize = (7,7))\n",
    "ax = fig.gca()\n",
    "# histogram of a single variable\n",
    "wb2014_df['life_exp'].hist(ax=ax, bins=20)\n",
    "# set x and y axis labels\n",
    "plt.xlabel(\"Life expectancy (years)\")\n",
    "plt.ylabel(\"Number of countries\")"
   ]
  },
  {
   "cell_type": "markdown",
   "metadata": {},
   "source": [
    "### Scatterplots\n",
    "\n",
    "- This is scatterplot to compare life expectancy and Internet usage:"
   ]
  },
  {
   "cell_type": "code",
   "execution_count": 27,
   "metadata": {},
   "outputs": [
    {
     "data": {
      "text/plain": [
       "Text(0, 0.5, 'Internet users %')"
      ]
     },
     "execution_count": 27,
     "metadata": {},
     "output_type": "execute_result"
    },
    {
     "data": {
      "image/png": "[encoded data removed]",
      "text/plain": [
       "<Figure size 432x288 with 1 Axes>"
      ]
     },
     "metadata": {
      "needs_background": "light"
     },
     "output_type": "display_data"
    }
   ],
   "source": [
    "# simple scatter plot on variable x and y:\n",
    "plt.scatter(wb2014_df.life_exp, wb2014_df.internet_users, alpha=0.4)\n",
    "# set labels\n",
    "plt.xlabel(\"Life expectancy years\")\n",
    "plt.ylabel(\"Internet users %\")"
   ]
  },
  {
   "cell_type": "markdown",
   "metadata": {},
   "source": [
    "- Without labels, this plot is not very interesting.\n",
    "- Adding labels to points is more complex and requires the `plt.annotate()` function (code from https://queirozf.com/entries/add-labels-and-text-to-matplotlib-plots-annotation-examples):"
   ]
  },
  {
   "cell_type": "code",
   "execution_count": 28,
   "metadata": {},
   "outputs": [
    {
     "data": {
      "text/plain": [
       "Text(0, 0.5, 'Internet users %')"
      ]
     },
     "execution_count": 28,
     "metadata": {},
     "output_type": "execute_result"
    },
    {
     "data": {
      "image/png": "[encoded data removed]",
      "text/plain": [
       "<Figure size 432x288 with 1 Axes>"
      ]
     },
     "metadata": {
      "needs_background": "light"
     },
     "output_type": "display_data"
    }
   ],
   "source": [
    "# simple scatter plot on variable x and y:\n",
    "plt.scatter(wb2014_df.life_exp, wb2014_df.internet_users, alpha=0.4)\n",
    "\n",
    "# iterate over the two variables (coordinates) and country names\n",
    "for x,y,country in zip(wb2014_df.life_exp, wb2014_df.internet_users, wb2014_df.iso3c):\n",
    "    plt.annotate(country, # this is the text\n",
    "                 (x,y), # this is the point to label\n",
    "                 textcoords=\"offset points\", # how to position the text\n",
    "                 xytext=(0,5), # distance from text to points (x,y)\n",
    "                 ha='center')\n",
    "\n",
    "# set x and y axis labels\n",
    "plt.xlabel(\"Life expectancy years\")\n",
    "plt.ylabel(\"Internet users %\")"
   ]
  },
  {
   "cell_type": "markdown",
   "metadata": {},
   "source": [
    "- The figure shows different groups of countries, such as Eastern Europe, Northern Europe, and Southern Europe. Italy is an interesting outlier with very high life expectancy and very low Internet usage."
   ]
  },
  {
   "cell_type": "markdown",
   "metadata": {},
   "source": [
    "End of notebook."
   ]
  }
 ],
 "metadata": {
  "kernelspec": {
   "display_name": "Python 3",
   "language": "python",
   "name": "python3"
  },
  "language_info": {
   "codemirror_mode": {
    "name": "ipython",
    "version": 3
   },
   "file_extension": ".py",
   "mimetype": "text/x-python",
   "name": "python",
   "nbconvert_exporter": "python",
   "pygments_lexer": "ipython3",
   "version": "3.9.1"
  }
 },
 "nbformat": 4,
 "nbformat_minor": 4
}
