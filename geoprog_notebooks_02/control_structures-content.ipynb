{
 "cells": [
  {
   "cell_type": "markdown",
   "metadata": {},
   "source": [
    "# Python control structures\n",
    "\n",
    "**Author**: Andrea Ballatore (Birkbeck, University of London)\n",
    "\n",
    "**Abstract**: Learn if-then-else blocks and for loops.\n",
    "\n",
    "## Setup\n",
    "This is to check that your environment is set up correctly (it should print 'env ok', ignore warnings)."
   ]
  },
  {
   "cell_type": "code",
   "execution_count": 1,
   "metadata": {},
   "outputs": [
    {
     "name": "stdout",
     "output_type": "stream",
     "text": [
      "Conda env: geoprogv1\n",
      "env ok\n"
     ]
    }
   ],
   "source": [
    "# Test geospatial libraries\n",
    "# check environment\n",
    "import os\n",
    "print(\"Conda env:\", os.environ['CONDA_DEFAULT_ENV'])\n",
    "if os.environ['CONDA_DEFAULT_ENV'] != 'geoprogv1':\n",
    "    raise Exception(\"Set the environment 'geoprogv1' on Anaconda. Current environment: \" + os.environ['CONDA_DEFAULT_ENV'])\n",
    "\n",
    "# spatial libraries \n",
    "import fiona as fi\n",
    "import geopandas as gpd\n",
    "import pandas as pd\n",
    "import pysal as sal\n",
    "import math\n",
    "\n",
    "print('env ok')"
   ]
  },
  {
   "cell_type": "markdown",
   "metadata": {},
   "source": [
    "----\n",
    "## Control structures\n",
    "\n",
    "- A script is a sequence of instructions that are executed linearly, one by one\n",
    "- In many situations, we want to allow the programme to change behaviour depending on the context, as humans do\n",
    "- Without control structures, programmes are linear, dumb and not very useful\n",
    "- Programmes can adapt to a changing environment and handle many different situations\n",
    "- Control structures increase the power of your scripts and therefore productivity\n",
    "- Algorithms include control structures\n",
    "- **Control structures** allow you to structure the flow of the programme to respond to different situations\n",
    "- For example, you can do different things if a condition is true or false (if/then/else)\n",
    "- You can repeat the same operation on many elements of the same type (for loops)\n",
    "\n",
    "## If then else statements\n",
    "\n",
    "- **If** condition is true, **then** do A, **else** do B\n",
    "- The programme can make choices depending on current conditions\n",
    "  - If it’s raining, then stay at home, else go to the park\n",
    "  - If traffic light is green, then go, else stop.\n",
    "- Conditions are of type Booleans (True or False)\n",
    "- Video: Bill Gates explains if statements: (https://www.youtube.com/watch?v=m2Ux2PnJe6E)\n",
    "- The if/then control structure can be represented as a diagram this way:\n",
    "\n",
    "<img src=\"img/ifthen1.png\" width=300 />\n",
    "\n",
    "(source: Wikipedia)\n"
   ]
  },
  {
   "cell_type": "code",
   "execution_count": 3,
   "metadata": {},
   "outputs": [
    {
     "name": "stdout",
     "output_type": "stream",
     "text": [
      "do B\n"
     ]
    }
   ],
   "source": [
    "# basic structure\n",
    "condition = False\n",
    "if condition:\n",
    "    print(\"do A\") # this is executed only if condition == True\n",
    "else:\n",
    "    print(\"do B\") # this is executed only if condition == False"
   ]
  },
  {
   "cell_type": "markdown",
   "metadata": {},
   "source": [
    "Let's see some examples:"
   ]
  },
  {
   "cell_type": "code",
   "execution_count": 6,
   "metadata": {},
   "outputs": [
    {
     "name": "stdout",
     "output_type": "stream",
     "text": [
      "Go for a run in the park\n"
     ]
    }
   ],
   "source": [
    "temperature = 35\n",
    "\n",
    "if temperature > 10:\n",
    "    print(\"Go for a run in the park\")\n",
    "else:\n",
    "    print(\"Too cold, stay at home\")\n",
    "    print(\"Turn heating on\")"
   ]
  },
  {
   "cell_type": "code",
   "execution_count": 7,
   "metadata": {},
   "outputs": [
    {
     "name": "stdout",
     "output_type": "stream",
     "text": [
      "Too hot, stay at home\n",
      "Turn AC on\n"
     ]
    }
   ],
   "source": [
    "if temperature <= 30:\n",
    "    print(\"Go for a run in the park\")\n",
    "else:\n",
    "    print(\"Too hot, stay at home\")\n",
    "    print(\"Turn AC on\")\n",
    "\n",
    "# change the temperature to 0 and run the cell again to see what happens"
   ]
  },
  {
   "cell_type": "markdown",
   "metadata": {},
   "source": [
    "In Python, a **block** is defined with **indentation** (the left alignment of instructions):\n",
    "\n",
    "<img src=\"img/block1.png\" width=300>\n",
    "\n",
    "\n",
    "\n",
    "\n"
   ]
  },
  {
   "cell_type": "markdown",
   "metadata": {},
   "source": [
    "- Unlike other languages, Python is very sensitive to **spaces**.\n",
    "- Each line must either start with code, or be indented like the previous line. It is illegal to have lines that begin with spaces unless they are in a block.\n",
    "- In Python, indentation is done with a <kbd>⇥</kbd> (the tab key) (that are converted into with 4 <kbd>space</kbd>). To indent code we always use <kbd>⇥</kbd> (the tab key)."
   ]
  },
  {
   "cell_type": "code",
   "execution_count": 11,
   "metadata": {},
   "outputs": [
    {
     "name": "stdout",
     "output_type": "stream",
     "text": [
      "x has value 10\n"
     ]
    }
   ],
   "source": [
    "x=10\n",
    "x = 10\n",
    "x  =  10 # this is identical to the previous line, but better to be consistent!\n",
    "\n",
    "# indentation is done with tab\n",
    "if x == 10:\n",
    "    print('x has value 10')\n",
    "\n",
    "# spaces at the beginning of the line are illegal. This line fails. Fix this error to continue\n",
    "x  =  10"
   ]
  },
  {
   "cell_type": "markdown",
   "metadata": {},
   "source": [
    "For example, we might want to execute 3 statements if a condition is true:"
   ]
  },
  {
   "cell_type": "code",
   "execution_count": 13,
   "metadata": {},
   "outputs": [
    {
     "name": "stdout",
     "output_type": "stream",
     "text": [
      "do B1\n",
      "do B2\n",
      "do B3\n"
     ]
    }
   ],
   "source": [
    "# blocks can have multiple lines\n",
    "condition = False # or False\n",
    "if condition == True:\n",
    "    # this block of three statements is executed only if condition == True\n",
    "    print(\"do A1\") \n",
    "    print(\"do A2\")\n",
    "    print(\"do A3\")\n",
    "else:\n",
    "    # this block of three statements is executed only if condition == False\n",
    "    print(\"do B1\")\n",
    "    print(\"do B2\")\n",
    "    print(\"do B3\")"
   ]
  },
  {
   "cell_type": "markdown",
   "metadata": {},
   "source": [
    "An `if` block can be used without `else`. \n",
    "Note the importance of indentation: the code alingment changes the programme behaviour completely."
   ]
  },
  {
   "cell_type": "code",
   "execution_count": 15,
   "metadata": {},
   "outputs": [
    {
     "name": "stdout",
     "output_type": "stream",
     "text": [
      "A\n"
     ]
    }
   ],
   "source": [
    "condition = True\n",
    "if condition:\n",
    "    print(\"A\") # this is executed if condition == True\n",
    "else:\n",
    "    print(\"B\") # this is executed if condition == False"
   ]
  },
  {
   "cell_type": "code",
   "execution_count": 17,
   "metadata": {},
   "outputs": [
    {
     "name": "stdout",
     "output_type": "stream",
     "text": [
      "A\n",
      "B\n"
     ]
    }
   ],
   "source": [
    "# compare with:\n",
    "condition = True\n",
    "if condition:\n",
    "    print(\"A\") # this is executed only if condition == True\n",
    "print(\"B\") # this is ALWAYS executed because it is outside of the if statement!"
   ]
  },
  {
   "cell_type": "markdown",
   "metadata": {},
   "source": [
    "\n",
    "\n",
    "When defining conditions in if statements, it is useful to combine conditions with `and`, `or`, and `not`.\n",
    "The rules that govern this process are called **Boolean Algebra**:\n",
    "\n",
    "<img src=\"img/algebra1.png\" width=350 />\n",
    "\n",
    "\n",
    "\n"
   ]
  },
  {
   "cell_type": "code",
   "execution_count": 19,
   "metadata": {},
   "outputs": [
    {
     "name": "stdout",
     "output_type": "stream",
     "text": [
      "Temperature outside of acceptable range\n"
     ]
    }
   ],
   "source": [
    "# example:\n",
    "# check range (temperature within [10,30])\n",
    "temperature = 9\n",
    "if temperature >= 10 and temperature <= 30:\n",
    "    print(\"Go for a run\")\n",
    "else:\n",
    "    print(\"Temperature outside of acceptable range\")\n",
    "# change the temperature value to see what happens."
   ]
  },
  {
   "cell_type": "code",
   "execution_count": 22,
   "metadata": {},
   "outputs": [
    {
     "name": "stdout",
     "output_type": "stream",
     "text": [
      "Temperature in acceptable range\n",
      "Order 100 wine bottles\n"
     ]
    }
   ],
   "source": [
    "# example:\n",
    "# check range (temperature not in (20,35))\n",
    "temperature = 25\n",
    "if temperature < 20 or temperature > 35:\n",
    "    print(\"Temperature too extreme for outdoors wine reception.\")\n",
    "else:\n",
    "    print(\"Temperature in acceptable range\")\n",
    "    print(\"Order 100 wine bottles\")\n",
    "# change the temperature value to see what happens."
   ]
  },
  {
   "cell_type": "markdown",
   "metadata": {},
   "source": [
    "- In some situations we want to check mutually exclusive conditions. \n",
    "- In these cases the `elif` (else if) statement is useful:"
   ]
  },
  {
   "cell_type": "code",
   "execution_count": 26,
   "metadata": {},
   "outputs": [
    {
     "name": "stdout",
     "output_type": "stream",
     "text": [
      "weekly_lectures for option part-time : 1\n"
     ]
    }
   ],
   "source": [
    "# select an option\n",
    "option = 'part-time'\n",
    "\n",
    "# chain of IFs\n",
    "if option == 'part-time':\n",
    "    weekly_lectures = 1\n",
    "elif option == 'full-time':\n",
    "    weekly_lectures = 2\n",
    "elif option == 'distance-learning':\n",
    "    weekly_lectures = 1\n",
    "else:\n",
    "    # all other cases\n",
    "    raise RuntimeError(\"invalid option!\")\n",
    "\n",
    "# print result of computation\n",
    "print(\"weekly_lectures for option\", option, \":\", weekly_lectures) # print value"
   ]
  },
  {
   "cell_type": "markdown",
   "metadata": {},
   "source": [
    "We can use Booleans to keep track of what happens in a programme:"
   ]
  },
  {
   "cell_type": "code",
   "execution_count": 30,
   "metadata": {},
   "outputs": [
    {
     "name": "stdout",
     "output_type": "stream",
     "text": [
      "Flight too expensive!\n",
      "flight_booked False\n"
     ]
    }
   ],
   "source": [
    "# example:\n",
    "flight_cost = 500\n",
    "flight_booked = False\n",
    "if flight_cost < 200 and not flight_booked:\n",
    "    print(\"Good deal!\")\n",
    "    print(\"Book flight\")\n",
    "    flight_booked = True\n",
    "else:\n",
    "    print(\"Flight too expensive!\") # this block is executed only if condition == False\n",
    "\n",
    "# It is often good practice to leave an extra line after an\n",
    "# if/else statement to demarcate clearly that the block is over.\n",
    "\n",
    "# print value of flight_booked (always executed)\n",
    "print(\"flight_booked\", flight_booked) "
   ]
  },
  {
   "cell_type": "markdown",
   "metadata": {},
   "source": [
    "If statements can be defined in a hierarchical way, nesting the blocks within other blocks to handle different combinations of conditions:"
   ]
  },
  {
   "cell_type": "code",
   "execution_count": 33,
   "metadata": {},
   "outputs": [
    {
     "name": "stdout",
     "output_type": "stream",
     "text": [
      "polyline\n"
     ]
    }
   ],
   "source": [
    "geometry_closed = False\n",
    "n_vertices = 3\n",
    "\n",
    "if geometry_closed == True:\n",
    "    # this block contains three IFs\n",
    "    if n_vertices == 3:\n",
    "        print(\"triangle\")\n",
    "    if n_vertices == 4:\n",
    "        print(\"rectangle\")\n",
    "    if n_vertices == 5:\n",
    "        print(\"pentagon\")\n",
    "else:\n",
    "    # geometry_closed == False\n",
    "    # this block contains two IFs\n",
    "    if n_vertices == 1:\n",
    "        print(\"point\")\n",
    "    if n_vertices > 1:\n",
    "        print(\"polyline\")"
   ]
  },
  {
   "cell_type": "markdown",
   "metadata": {},
   "source": [
    "If statements can be used on **lists** to check if they contain specific elements:"
   ]
  },
  {
   "cell_type": "code",
   "execution_count": 34,
   "metadata": {},
   "outputs": [
    {
     "name": "stdout",
     "output_type": "stream",
     "text": [
      "The list contains Paris!\n"
     ]
    }
   ],
   "source": [
    "cities = [\"Paris\", \"Delhi\", \"London\", \"Rio De Janeiro\"]\n",
    "# <element> in <list> condition\n",
    "if \"Paris\" in cities:\n",
    "    print(\"The list contains Paris!\")\n",
    "else: \n",
    "    print(\"The list does not contain Paris!\")"
   ]
  },
  {
   "cell_type": "code",
   "execution_count": 35,
   "metadata": {},
   "outputs": [],
   "source": [
    "# check length of list\n",
    "if len(cities) > 5:\n",
    "    # this will not be printed\n",
    "    print(\"the list contains more than 5 cities.\") "
   ]
  },
  {
   "cell_type": "code",
   "execution_count": 17,
   "metadata": {},
   "outputs": [
    {
     "name": "stdout",
     "output_type": "stream",
     "text": [
      "The list contains both Paris and London\n",
      "The list contains either Paris or Accra\n"
     ]
    }
   ],
   "source": [
    "# conditions can be concatenated\n",
    "if \"Paris\" in cities and \"London\" in cities:\n",
    "    print(\"The list contains both Paris and London\") # printed\n",
    "\n",
    "if \"Paris\" in cities or \"Accra\" in cities:\n",
    "    print(\"The list contains either Paris or Accra\") # printed\n",
    "\n",
    "if \"Paris\" in cities and \"Accra\" in cities:\n",
    "    print(\"The list contains both Paris and Accra\") # NOT printed"
   ]
  },
  {
   "cell_type": "markdown",
   "metadata": {},
   "source": [
    "---\n",
    "\n",
    "## For loops\n",
    "\n",
    "In data science, we often want to repeat the same operation on many elements, without having to re-type the same instructions, as we do in this example:"
   ]
  },
  {
   "cell_type": "code",
   "execution_count": 36,
   "metadata": {},
   "outputs": [
    {
     "name": "stdout",
     "output_type": "stream",
     "text": [
      "20\n",
      "100\n",
      "5020\n",
      "-100\n"
     ]
    }
   ],
   "source": [
    "# let's multiply numbers [2,10,502,-10] by 10\n",
    "print(2*10)\n",
    "print(10*10)\n",
    "print(502*10)\n",
    "print(-10*10)"
   ]
  },
  {
   "cell_type": "markdown",
   "metadata": {},
   "source": [
    "\n",
    "- This approach is not ideal because copying and pasting many instructions is boring and repetitive. And what if we 5 numbers instead of 4? The code would have to be modified.\n",
    "- To solve this problem, a `for` loop iterates over a list, repeating the same instructions for each element.\n",
    "- Video: Mark Zuckerberg explains **for loops**: (https://www.youtube.com/watch?v=mgooqyWMTxk)\n",
    " \n",
    "<img src=\"img/for1.png\" width=400 />\n",
    "\n",
    "- The same operation can be written with a `for` loop:"
   ]
  },
  {
   "cell_type": "code",
   "execution_count": 38,
   "metadata": {},
   "outputs": [
    {
     "name": "stdout",
     "output_type": "stream",
     "text": [
      "20\n",
      "100\n",
      "5020\n",
      "-100\n"
     ]
    }
   ],
   "source": [
    "# the syntax is:\n",
    "# for <var> in <list>:\n",
    "#   do something with <var>\n",
    "\n",
    "my_numbers = [2,10,502,-10]\n",
    "for n in my_numbers:\n",
    "    print(n*10)"
   ]
  },
  {
   "cell_type": "code",
   "execution_count": 41,
   "metadata": {},
   "outputs": [
    {
     "name": "stdout",
     "output_type": "stream",
     "text": [
      "20\n",
      "100\n",
      "5020\n",
      "-100\n"
     ]
    }
   ],
   "source": [
    "# Note that the name `n` is arbitrary, we could call it `num`:\n",
    "my_numbers = [2,10,502,-10]\n",
    "for num in my_numbers:\n",
    "    print(num*10)"
   ]
  },
  {
   "cell_type": "markdown",
   "metadata": {},
   "source": [
    "- This approach has huge advantages. The same code now can handle lists of any length!\n",
    "- Useful to repeat blocks of code\n",
    "- They make the code more concise\n",
    "- They can handle input of variable size\n",
    "- For example, we might want to process 10 or 100 or 1,000 numbers, and we don’t know how many we will receive\n",
    "\n",
    "\n",
    "Let's create a sequence of numbers from 0 to 100 with the function `range`:\n",
    "\n"
   ]
  },
  {
   "cell_type": "code",
   "execution_count": 44,
   "metadata": {},
   "outputs": [
    {
     "name": "stdout",
     "output_type": "stream",
     "text": [
      "0 10 20 30 40 50 60 70 80 90 100 110 120 130 140 150 160 170 180 190 200 210 220 230 240 250 260 270 280 290 300 310 320 330 340 350 360 370 380 390 400 410 420 430 440 450 460 470 480 490 500 510 520 530 540 550 560 570 580 590 600 610 620 630 640 650 660 670 680 690 700 710 720 730 740 750 760 770 780 790 800 810 820 830 840 850 860 870 880 890 900 910 920 930 940 950 960 970 980 990 1000 "
     ]
    }
   ],
   "source": [
    "# to obtain a range from 0 to 100, we have to write:\n",
    "many_numbers = range(0,101)\n",
    "\n",
    "for num in many_numbers:\n",
    "    print(num*10, end=' ')\n",
    "# note that end=' ' is a trick to print something on the same line"
   ]
  },
  {
   "cell_type": "markdown",
   "metadata": {},
   "source": [
    "### For loops with an index\n",
    "- `for` loops are designed to scan lists. An alternative way to scan a list is using an index and a `range()`:"
   ]
  },
  {
   "cell_type": "code",
   "execution_count": 14,
   "metadata": {},
   "outputs": [
    {
     "name": "stdout",
     "output_type": "stream",
     "text": [
      "low\n",
      "middle\n",
      "high\n"
     ]
    }
   ],
   "source": [
    "income_levels = ['low','middle','high']\n",
    "\n",
    "# implicit for loop\n",
    "for lev in income_levels:\n",
    "    print(lev)"
   ]
  },
  {
   "cell_type": "code",
   "execution_count": 15,
   "metadata": {},
   "outputs": [
    {
     "name": "stdout",
     "output_type": "stream",
     "text": [
      "0\n",
      "1\n",
      "2\n",
      "3\n",
      "4\n"
     ]
    }
   ],
   "source": [
    "# range generates a sequence of numbers\n",
    "for i in range(5):\n",
    "    print(i)"
   ]
  },
  {
   "cell_type": "code",
   "execution_count": 16,
   "metadata": {},
   "outputs": [
    {
     "name": "stdout",
     "output_type": "stream",
     "text": [
      "i = 0\n",
      "low\n",
      "i = 1\n",
      "middle\n",
      "i = 2\n",
      "high\n"
     ]
    }
   ],
   "source": [
    "# access list using an index i\n",
    "for i in range(len(income_levels)):\n",
    "    print(\"i =\",i)\n",
    "    print(income_levels[i])"
   ]
  },
  {
   "cell_type": "markdown",
   "metadata": {},
   "source": [
    "### For and if\n",
    "In many situations, it is useful to combine `for` loops can be combined with `if` statements.\n",
    "For example, let's check which numbers from 0 to 30 can be divided by 3, using the modulo operation `%`, which returns the remainder of a division:"
   ]
  },
  {
   "cell_type": "code",
   "execution_count": 50,
   "metadata": {},
   "outputs": [
    {
     "name": "stdout",
     "output_type": "stream",
     "text": [
      "0 can be divided by 3\n",
      "3 can be divided by 3\n",
      "6 can be divided by 3\n",
      "9 can be divided by 3\n",
      "12 can be divided by 3\n",
      "15 can be divided by 3\n",
      "18 can be divided by 3\n",
      "21 can be divided by 3\n",
      "24 can be divided by 3\n",
      "27 can be divided by 3\n",
      "30 can be divided by 3\n"
     ]
    }
   ],
   "source": [
    "# numbers from 0 to 30:\n",
    "my_numbers = range(0,31)\n",
    "\n",
    "for n in my_numbers:\n",
    "    if n % 3 == 0: # n divided by 3 has modulo 0\n",
    "        print(n, 'can be divided by 3')"
   ]
  },
  {
   "cell_type": "markdown",
   "metadata": {},
   "source": [
    "Another example of `for` and `if`:"
   ]
  },
  {
   "cell_type": "code",
   "execution_count": 22,
   "metadata": {},
   "outputs": [
    {
     "name": "stdout",
     "output_type": "stream",
     "text": [
      "Salary: 23000\n",
      "This salary is below average\n",
      "Salary: 35000\n",
      "This salary is above average\n",
      "Salary: 35000\n",
      "This salary is above average\n",
      "Salary: 50000\n",
      "This salary is above average\n",
      "Salary: 100000\n",
      "This salary is above average\n",
      "Salary: 26000\n",
      "This salary is below average\n",
      "Salary: 5000000\n",
      "This salary is above average\n",
      "This is a 7-figure salary\n",
      "Salary: 25500\n",
      "This salary is below average\n"
     ]
    }
   ],
   "source": [
    "# combine for and if\n",
    "salaries = [23000,35000,35000,50000,100000,26000,5000000,25500]\n",
    "for salary in salaries:\n",
    "    print(\"Salary:\", salary)\n",
    "    if salary > 27000:\n",
    "        print(\"This salary is above average\")\n",
    "    else: \n",
    "        print(\"This salary is below average\")\n",
    "    if salary >= 1000000:\n",
    "        print(\"This is a 7-figure salary\")"
   ]
  },
  {
   "cell_type": "markdown",
   "metadata": {},
   "source": [
    "### Saving results of a for loop\n",
    "\n",
    "- In most situations, you do not want just to *print* results from a for loop, but **save them in a list** for later use.\n",
    "- You can use `list_name.append(element)` to add an element to a list.\n"
   ]
  },
  {
   "cell_type": "code",
   "execution_count": 25,
   "metadata": {},
   "outputs": [
    {
     "name": "stdout",
     "output_type": "stream",
     "text": [
      "[1.0, 1.4142135623730951, 1.7320508075688772, 2.0, 2.23606797749979, 2.449489742783178]\n"
     ]
    }
   ],
   "source": [
    "# perform a square root on each element and save the results\n",
    "nums = [1,2,3,4,5,6]\n",
    "results = []\n",
    "for n in nums:\n",
    "    sqrt_num = math.sqrt(n)\n",
    "    results.append(sqrt_num)\n",
    "\n",
    "# show results\n",
    "print(results)"
   ]
  },
  {
   "cell_type": "markdown",
   "metadata": {},
   "source": [
    "End of notebook"
   ]
  }
 ],
 "metadata": {
  "kernelspec": {
   "display_name": "Python 3",
   "language": "python",
   "name": "python3"
  },
  "language_info": {
   "codemirror_mode": {
    "name": "ipython",
    "version": 3
   },
   "file_extension": ".py",
   "mimetype": "text/x-python",
   "name": "python",
   "nbconvert_exporter": "python",
   "pygments_lexer": "ipython3",
   "version": "3.9.1"
  }
 },
 "nbformat": 4,
 "nbformat_minor": 4
}
