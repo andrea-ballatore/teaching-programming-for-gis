{
 "cells": [
  {
   "cell_type": "markdown",
   "metadata": {},
   "source": [
    "# Python control structures: Exercises\n",
    "\n",
    "**Author**: Andrea Ballatore (Birkbeck, University of London)\n",
    "\n",
    "**Abstract**: Learn how to use if/else statements and for loops.\n",
    "\n",
    "## Setup\n",
    "This is to check that your environment is set up correctly (it should print 'env ok', ignore warnings)."
   ]
  },
  {
   "cell_type": "code",
   "execution_count": 1,
   "metadata": {},
   "outputs": [
    {
     "name": "stdout",
     "output_type": "stream",
     "text": [
      "Conda env: geoprogv1\n",
      "env ok\n"
     ]
    }
   ],
   "source": [
    "# Test geospatial libraries\n",
    "# check environment\n",
    "import os\n",
    "print(\"Conda env:\", os.environ['CONDA_DEFAULT_ENV'])\n",
    "assert os.environ['CONDA_DEFAULT_ENV'] == 'geoprogv1'\n",
    "# spatial libraries \n",
    "import fiona as fi\n",
    "import geopandas as gpd\n",
    "import pandas as pd\n",
    "import pysal as sal\n",
    "\n",
    "# create output folders\n",
    "folders = ['tmp']\n",
    "for f in folders:\n",
    "    if not os.path.exists(f):\n",
    "        os.makedirs(f)\n",
    "\n",
    "print('env ok')"
   ]
  },
  {
   "cell_type": "markdown",
   "metadata": {},
   "source": [
    "-----\n",
    "## Exercises\n",
    "\n",
    "When you are in doubt about how a package or a function work, use the Python website (https://docs.python.org/3.8) and **Google** to find relevant documentation."
   ]
  },
  {
   "cell_type": "markdown",
   "metadata": {},
   "source": [
    "a. Write code that sets a variable `urban_rural_class` to `'rural'` if population density is smaller than 500, and otherwise to `'urban'`. Change the value of `population_density` to test your code."
   ]
  },
  {
   "cell_type": "code",
   "execution_count": 1,
   "metadata": {},
   "outputs": [],
   "source": [
    "population_density = 5000\n",
    "\n",
    "# insert your code here"
   ]
  },
  {
   "cell_type": "markdown",
   "metadata": {},
   "source": [
    "b. Extend the code to print whether the longitude `lon` refers to a point East or West of Greenwich."
   ]
  },
  {
   "cell_type": "code",
   "execution_count": 5,
   "metadata": {},
   "outputs": [
    {
     "name": "stdout",
     "output_type": "stream",
     "text": [
      "This point is North of the Equator\n"
     ]
    }
   ],
   "source": [
    "lat = 50\n",
    "lon = -1\n",
    "\n",
    "if lat > 0:\n",
    "    print('This point is North of the Equator')\n",
    "else:\n",
    "    print('This point is South of the Equator')\n",
    "\n",
    "# write your code here"
   ]
  },
  {
   "cell_type": "markdown",
   "metadata": {},
   "source": [
    "c. Given a latitude (`lat`) and longitude (`lon`) in degrees, write code to check if the values are **valid** and print \"valid latitude/longitude\" or \"invalid latitude/longitude\".\n",
    "\n",
    "Valid latitude and longitude fall within ranges of values. For example, -50000&deg; is not a valid latitude. If you cannot remember the ranges, use Google to find them. Test your code with different values.\n"
   ]
  },
  {
   "cell_type": "code",
   "execution_count": null,
   "metadata": {},
   "outputs": [],
   "source": [
    "lat = 100.12\n",
    "lon = -30.2\n",
    "\n",
    "# write your code here"
   ]
  },
  {
   "cell_type": "markdown",
   "metadata": {},
   "source": [
    "d. Given a list of strings and a `target` string, write code that prints \"found\" every time if target is found in the string. Use a `for` loop and an `if` block. For example, \"ville\" is found in \"Melville\"."
   ]
  },
  {
   "cell_type": "code",
   "execution_count": 5,
   "metadata": {},
   "outputs": [],
   "source": [
    "joburg_neighbourhoods = ['Central Business District','Soweto','Melville','Braamfontein']\n",
    "target = 'b'\n",
    "# write your code here"
   ]
  },
  {
   "cell_type": "markdown",
   "metadata": {},
   "source": [
    "e. Write code that, given a list of floating point numbers, it performs a cube root ($\\sqrt[3]{x}$) on each one of them and saves the result in a new list. Test it with at least 10 numbers."
   ]
  },
  {
   "cell_type": "code",
   "execution_count": null,
   "metadata": {},
   "outputs": [],
   "source": [
    "# write your code here"
   ]
  },
  {
   "cell_type": "markdown",
   "metadata": {},
   "source": [
    "f. Given a list of 4 numbers representing radii $r$, write code that calculates the circumference of a circle with radius equal to $r$. Use a `for` loop and save the results in a list called `circums`. "
   ]
  },
  {
   "cell_type": "code",
   "execution_count": 15,
   "metadata": {},
   "outputs": [],
   "source": [
    "radii = [] # insert test values here\n",
    "\n",
    "# write your code here"
   ]
  },
  {
   "cell_type": "markdown",
   "metadata": {},
   "source": [
    "g. Given a list of altitudes in metres (representing the variation in altitude in a very extreme hike), write code that classifies each value according to this table (_near sea-level_ etc.) and saves them in a list:\n",
    "\n",
    "<img src='img/altitude1.png' width=500/>\n",
    "\n",
    "Table from [Sinex et al (2015)](https://www.researchgate.net/publication/280730398_Hypoxic_training_methods_for_improving_endurance_exercise_performance/figures?lo=1&utm_source=google&utm_medium=organic). Use `if` and `elif` statements."
   ]
  },
  {
   "cell_type": "code",
   "execution_count": 8,
   "metadata": {},
   "outputs": [],
   "source": [
    "altitudes = [0, 300, 600, 1200, 2500, 3100, 6000, 3700, 1400, 390, 0]\n",
    "\n",
    "#write your code here"
   ]
  },
  {
   "cell_type": "markdown",
   "metadata": {},
   "source": [
    "h. Consider this definition:\n",
    "\n",
    "\"The European Commission applied a universal definition of settlements across all countries:\n",
    "\n",
    "- **Urban centre**: must have a minimum of 50,000 inhabitants plus a population density of at least 1500 people per square kilometre (km2) \\[...\\].\n",
    "- **Urban cluster**: must have a minimum of 5,000 inhabitants plus a population density of at least 300 people per square kilometre (km2).\n",
    "- **Rural**: fewer than 5,000 inhabitants.\" ([Source](https://ourworldindata.org/urbanization))\n",
    "\n",
    "Given three lists, one representing the `names` of settlements, one their `inhabitants` and the other their `densities`, produce a new list with the result of the classification above. \n",
    "\n",
    "Use a `for` loop and `if` `elif` `else` statements. You can combine conditions with `and` and `or` as needed. Try to apply the classification manually to the cases before writing the code."
   ]
  },
  {
   "cell_type": "code",
   "execution_count": 14,
   "metadata": {},
   "outputs": [
    {
     "name": "stdout",
     "output_type": "stream",
     "text": [
      "Arkham 35000 2200\n"
     ]
    }
   ],
   "source": [
    "names = ['Arkham', 'Lorge City', 'Remote Hill', 'Sunny Crowd']\n",
    "inhabitants = [35000, 6200000, 3000, 140000]\n",
    "densities = [2200, 4700, 250, 1200]\n",
    "\n",
    "# info about Arkham\n",
    "print(names[0], inhabitants[0], densities[0])\n",
    "\n",
    "# write your code here"
   ]
  },
  {
   "cell_type": "markdown",
   "metadata": {},
   "source": [
    "End of notebook"
   ]
  }
 ],
 "metadata": {
  "kernelspec": {
   "display_name": "Python 3",
   "language": "python",
   "name": "python3"
  },
  "language_info": {
   "codemirror_mode": {
    "name": "ipython",
    "version": 3
   },
   "file_extension": ".py",
   "mimetype": "text/x-python",
   "name": "python",
   "nbconvert_exporter": "python",
   "pygments_lexer": "ipython3",
   "version": "3.9.1"
  }
 },
 "nbformat": 4,
 "nbformat_minor": 4
}
