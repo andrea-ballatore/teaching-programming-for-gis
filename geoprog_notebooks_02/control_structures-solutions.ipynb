{
 "cells": [
  {
   "cell_type": "markdown",
   "metadata": {},
   "source": [
    "# Python control structures: Exercise solutions\n",
    "\n",
    "**Author**: Andrea Ballatore (Birkbeck, University of London)\n",
    "\n",
    "**Abstract**: Learn how to use if/else statements and for loops.\n",
    "\n",
    "## Setup\n",
    "This is to check that your environment is set up correctly (it should print 'env ok', ignore warnings)."
   ]
  },
  {
   "cell_type": "code",
   "execution_count": 1,
   "metadata": {},
   "outputs": [
    {
     "name": "stdout",
     "output_type": "stream",
     "text": [
      "Conda env: geoprogv1\n",
      "env ok\n"
     ]
    }
   ],
   "source": [
    "# Test geospatial libraries\n",
    "# check environment\n",
    "import os\n",
    "print(\"Conda env:\", os.environ['CONDA_DEFAULT_ENV'])\n",
    "assert os.environ['CONDA_DEFAULT_ENV'] == 'geoprogv1'\n",
    "# spatial libraries \n",
    "import fiona as fi\n",
    "import geopandas as gpd\n",
    "import pandas as pd\n",
    "import pysal as sal\n",
    "\n",
    "# create output folders\n",
    "folders = ['tmp']\n",
    "for f in folders:\n",
    "    if not os.path.exists(f):\n",
    "        os.makedirs(f)\n",
    "\n",
    "print('env ok')"
   ]
  },
  {
   "cell_type": "markdown",
   "metadata": {},
   "source": [
    "-----\n",
    "## Exercises\n",
    "\n",
    "When you are in doubt about how a package or a function work, use the Python website (https://docs.python.org/3.8) and **Google** to find relevant documentation."
   ]
  },
  {
   "cell_type": "markdown",
   "metadata": {},
   "source": [
    "a. Write code that sets a variable `urban_rural_class` to `'rural'` if population density is smaller than 500, and otherwise to `'urban'`. Change the value of `population_density` to test your code."
   ]
  },
  {
   "cell_type": "code",
   "execution_count": 3,
   "metadata": {},
   "outputs": [
    {
     "name": "stdout",
     "output_type": "stream",
     "text": [
      "population_density: 1000 ; urban_rural_class: urban\n"
     ]
    }
   ],
   "source": [
    "population_density = 1000\n",
    "\n",
    "if population_density < 500:\n",
    "    urban_rural_class = 'rural'\n",
    "else: \n",
    "    urban_rural_class = 'urban'\n",
    "    \n",
    "print(\"population_density:\",population_density,\"; urban_rural_class:\",urban_rural_class)"
   ]
  },
  {
   "cell_type": "markdown",
   "metadata": {},
   "source": [
    "b. Extend the code to print whether the longitude `lon` refers to a point East or West of Greenwich."
   ]
  },
  {
   "cell_type": "code",
   "execution_count": 3,
   "metadata": {},
   "outputs": [
    {
     "name": "stdout",
     "output_type": "stream",
     "text": [
      "This point is South of the Equator\n",
      "This point is East of Greenwich\n"
     ]
    }
   ],
   "source": [
    "lat = -10\n",
    "lon = 1\n",
    "\n",
    "if lat > 0:\n",
    "    print('This point is North of the Equator')\n",
    "else:\n",
    "    print('This point is South of the Equator')\n",
    "\n",
    "if lon > 0:\n",
    "    print('This point is East of Greenwich')\n",
    "else:\n",
    "    print('This point is West of Greenwich')"
   ]
  },
  {
   "cell_type": "markdown",
   "metadata": {},
   "source": [
    "c. Given a latitude (`lat`) and longitude (`lon`) in degrees, write code to check if the values are **valid** and print \"valid latitude/longitude\" or \"invalid latitude/longitude\".\n",
    "\n",
    "Valid latitude and longitude fall within ranges of values. For example, -50000&deg; is not a valid latitude. If you cannot remember the ranges, use Google to find them. Test your code with different values.\n"
   ]
  },
  {
   "cell_type": "code",
   "execution_count": 4,
   "metadata": {},
   "outputs": [
    {
     "name": "stdout",
     "output_type": "stream",
     "text": [
      "valid latitude\n",
      "invalid longitude\n"
     ]
    }
   ],
   "source": [
    "lat = 50.12\n",
    "lon = -50000\n",
    "\n",
    "if lat >= -90 and lat <= 90:\n",
    "    print(\"valid latitude\")\n",
    "else: \n",
    "    print(\"invalid latitude\")\n",
    "    \n",
    "if lon >= -180 and lon <= 180:\n",
    "    print(\"valid longitude\")\n",
    "else: \n",
    "    print(\"invalid longitude\") "
   ]
  },
  {
   "cell_type": "markdown",
   "metadata": {},
   "source": [
    "d. Given a list of strings and a `target` string, write code that prints \"found\" every time if target is found in the string. Use a `for` loop and an `if` block. For example, \"ville\" is found in \"Melville\"."
   ]
  },
  {
   "cell_type": "code",
   "execution_count": 7,
   "metadata": {},
   "outputs": [
    {
     "name": "stdout",
     "output_type": "stream",
     "text": [
      "e found in Central Business District\n",
      "e found in Soweto\n",
      "e found in Melville\n",
      "e found in Braamfontein\n"
     ]
    }
   ],
   "source": [
    "joburg_neighbourhoods = ['Central Business District','Soweto','Melville','Braamfontein']\n",
    "target = 'e'\n",
    "\n",
    "for nei in joburg_neighbourhoods:\n",
    "    # this check is case-sensitive (B is different to b)\n",
    "    if target in nei:\n",
    "        print(target, \"found in\", nei)"
   ]
  },
  {
   "cell_type": "markdown",
   "metadata": {},
   "source": [
    "e. Write code that, given a list of floating point numbers, it performs a cube root ($\\sqrt[3]{x}$) on each one of them and saves the result in a new list. Test it with at least 10 numbers."
   ]
  },
  {
   "cell_type": "code",
   "execution_count": 14,
   "metadata": {},
   "outputs": [
    {
     "name": "stdout",
     "output_type": "stream",
     "text": [
      "input: [62.559409148945214, 3.1696366150236965, 42.74070863444178, 31.03262741753162, 1.135502366642871, 37.7354226345546, 65.32625958506037, 66.99905594159887, 48.86655139709908, 41.28646091618236]\n",
      "cube roots: [3.969759646994007, 1.468936960323584, 3.4963419913633804, 3.1424823642253954, 1.0432683075715232, 3.3541545732540725, 4.027441715564596, 4.061529024044609, 3.6559807221421283, 3.4562293368746886]\n"
     ]
    }
   ],
   "source": [
    "import random\n",
    "\n",
    "# generate 10 random floating point numbers between 0 and 100\n",
    "random_nums = [random.random()*100 for i in range(10)]\n",
    "\n",
    "cube_roots = []\n",
    "for x in random_nums:\n",
    "    # note the formula. The dots ensure \n",
    "    # that the numbers are floats and not integers\n",
    "    cube_root = x**(1./3.)\n",
    "    cube_roots.append(cube_root)\n",
    "\n",
    "print(\"input:\", random_nums)\n",
    "print(\"cube roots:\", cube_roots)"
   ]
  },
  {
   "cell_type": "markdown",
   "metadata": {},
   "source": [
    "f. Given a list of 4 numbers representing radii $r$, write code that calculates the circumference of a circle with radius equal to $r$. Use a `for` loop and save the results in a list called `circums`. "
   ]
  },
  {
   "cell_type": "code",
   "execution_count": 15,
   "metadata": {},
   "outputs": [
    {
     "name": "stdout",
     "output_type": "stream",
     "text": [
      "radii: [3, 42, 901.1, 23542.6]\n",
      "circumferences: [18.84955592153876, 263.89378290154264, 5661.778280299525, 147922.51841280612]\n"
     ]
    }
   ],
   "source": [
    "import math\n",
    "\n",
    "radii = [3, 42, 901.1, 23542.6]\n",
    "\n",
    "circums = []\n",
    "\n",
    "for radius in radii:\n",
    "    circum = 2 * math.pi * radius\n",
    "    circums.append(circum)\n",
    "\n",
    "print(\"radii:\", radii)\n",
    "print(\"circumferences:\", circums)"
   ]
  },
  {
   "cell_type": "markdown",
   "metadata": {},
   "source": [
    "g. Given a list of altitudes in metres (representing the variation in altitude in a very extreme hike), write code that classifies each value according to this table (_near sea-level_ etc.) and saves them in a list:\n",
    "\n",
    "<img src='img/altitude1.png' width=500/>\n",
    "\n",
    "Table from [Sinex et al (2015)](https://www.researchgate.net/publication/280730398_Hypoxic_training_methods_for_improving_endurance_exercise_performance/figures?lo=1&utm_source=google&utm_medium=organic). Use `if` and `elif` statements."
   ]
  },
  {
   "cell_type": "code",
   "execution_count": 16,
   "metadata": {},
   "outputs": [
    {
     "name": "stdout",
     "output_type": "stream",
     "text": [
      "altitudes: [0, 300, 600, 1200, 2500, 3100, 6000, 3700, 1400, 390, 0]\n",
      "altitudes_class: ['near sea-level', 'near sea-level', 'low altitude', 'low altitude', 'moderate altitude', 'high altitude', 'extreme altitude', 'high altitude', 'low altitude', 'near sea-level', 'near sea-level']\n"
     ]
    }
   ],
   "source": [
    "altitudes = [0, 300, 600, 1200, 2500, 3100, 6000, 3700, 1400, 390, 0]\n",
    "altitudes_class = []\n",
    "\n",
    "for alt in altitudes:\n",
    "    if alt < 500:\n",
    "        alt_class = 'near sea-level'\n",
    "    elif alt >= 500 and alt < 2000:\n",
    "        alt_class = 'low altitude'\n",
    "    elif alt >= 2000 and alt < 3000:\n",
    "        alt_class = 'moderate altitude'\n",
    "    elif alt >= 3000 and alt < 5500:\n",
    "        alt_class = 'high altitude'\n",
    "    elif alt > 5500:\n",
    "        alt_class = 'extreme altitude'\n",
    "    # save result\n",
    "    altitudes_class.append(alt_class)\n",
    "    \n",
    "print(\"altitudes:\", altitudes)\n",
    "print(\"altitudes_class:\", altitudes_class)"
   ]
  },
  {
   "cell_type": "markdown",
   "metadata": {},
   "source": [
    "h. Consider this definition:\n",
    "\n",
    "\"The European Commission applied a universal definition of settlements across all countries:\n",
    "\n",
    "- **Urban centre**: must have a minimum of 50,000 inhabitants plus a population density of at least 1500 people per square kilometre (km2) \\[...\\].\n",
    "- **Urban cluster**: must have a minimum of 5,000 inhabitants plus a population density of at least 300 people per square kilometre (km2).\n",
    "- **Rural**: fewer than 5,000 inhabitants.\" ([Source](https://ourworldindata.org/urbanization))\n",
    "\n",
    "Given three lists, one representing the `names` of settlements, one their `inhabitants` and the other their `densities`, produce a new list with the result of the classification above. \n",
    "\n",
    "Use a `for` loop and `if` `elif` `else` statements. You can combine conditions with `and` and `or` as needed. Try to apply the classification manually to the cases before writing the code."
   ]
  },
  {
   "cell_type": "code",
   "execution_count": 27,
   "metadata": {},
   "outputs": [
    {
     "name": "stdout",
     "output_type": "stream",
     "text": [
      "Arkham 35000 2200\n"
     ]
    }
   ],
   "source": [
    "# this is similar to having a table with 3 columns \n",
    "names = ['Arkham', 'Lorge City', 'Remote Hill', 'Sunny Crowd','Wrong City']\n",
    "inhabitants = [35000, 6200000, 3000, 140000, 60000]\n",
    "densities = [2200, 4700, 250, 1200, 10]\n",
    "\n",
    "# info about Arkham\n",
    "print(names[0], inhabitants[0], densities[0])"
   ]
  },
  {
   "cell_type": "code",
   "execution_count": 19,
   "metadata": {},
   "outputs": [],
   "source": [
    "# example of normal for\n",
    "for name in names:\n",
    "    print(name)\n",
    "    \n",
    "# example of for loop with an index\n",
    "for idx in range(len(names)):\n",
    "    # print name at position idx \n",
    "    print(idx, names[idx], inhabitants[idx])"
   ]
  },
  {
   "cell_type": "code",
   "execution_count": 25,
   "metadata": {},
   "outputs": [
    {
     "data": {
      "text/plain": [
       "4"
      ]
     },
     "execution_count": 25,
     "metadata": {},
     "output_type": "execute_result"
    }
   ],
   "source": [
    "for i in range(3):\n",
    "    print(i)"
   ]
  },
  {
   "cell_type": "code",
   "execution_count": 31,
   "metadata": {},
   "outputs": [
    {
     "name": "stdout",
     "output_type": "stream",
     "text": [
      "0 Arkham 35000 2200\n",
      "   => urban_cluster\n",
      "1 Lorge City 6200000 4700\n",
      "   => urban_centre\n",
      "2 Remote Hill 3000 250\n",
      "   => rural\n",
      "3 Sunny Crowd 140000 1200\n",
      "   => urban_cluster\n",
      "4 Wrong City 60000 10\n",
      "   => None\n",
      "place_classes: ['urban_cluster', 'urban_centre', 'rural', 'urban_cluster', None]\n"
     ]
    }
   ],
   "source": [
    "# solution\n",
    "place_classes = []\n",
    "\n",
    "for i in range(len(names)):\n",
    "    # print input data\n",
    "    print(i, names[i], inhabitants[i], densities[i])\n",
    "    # initialise the result variable\n",
    "    place_class = None\n",
    "\n",
    "    # classify based on the rules above\n",
    "    if inhabitants[i] < 5000: \n",
    "        place_class = 'rural'\n",
    "    elif inhabitants[i] > 50000 and densities[i] > 1500:\n",
    "        place_class = 'urban_centre'\n",
    "    elif inhabitants[i] > 5000 and densities[i] > 300:\n",
    "        place_class = 'urban_cluster'\n",
    "    else: \n",
    "        # wrong\n",
    "        #raise RuntimeError(\"this city cannot be classified\")\n",
    "        place_class = None\n",
    "        \n",
    "    # print to see what happens in each iteration of the for loop\n",
    "    print('   =>', place_class)\n",
    "    # save result\n",
    "    place_classes.append(place_class)\n",
    "    \n",
    "print('place_classes:',place_classes)"
   ]
  },
  {
   "cell_type": "markdown",
   "metadata": {},
   "source": [
    "End of notebook"
   ]
  }
 ],
 "metadata": {
  "kernelspec": {
   "display_name": "Python 3",
   "language": "python",
   "name": "python3"
  },
  "language_info": {
   "codemirror_mode": {
    "name": "ipython",
    "version": 3
   },
   "file_extension": ".py",
   "mimetype": "text/x-python",
   "name": "python",
   "nbconvert_exporter": "python",
   "pygments_lexer": "ipython3",
   "version": "3.9.1"
  }
 },
 "nbformat": 4,
 "nbformat_minor": 4
}
